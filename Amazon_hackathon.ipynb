{
 "cells": [
  {
   "cell_type": "code",
   "execution_count": 1,
   "metadata": {},
   "outputs": [],
   "source": [
    "import os\n",
    "import pandas as pd\n",
    "import numpy as np\n",
    "\n",
    "import warnings\n",
    "warnings.filterwarnings('ignore')\n",
    "\n",
    "from sklearn import preprocessing\n",
    "from sklearn.impute import SimpleImputer\n",
    "from sklearn.compose import ColumnTransformer\n",
    "from sklearn.pipeline import Pipeline\n",
    "\n",
    "from sklearn.preprocessing import StandardScaler\n",
    "from sklearn.preprocessing import OneHotEncoder\n",
    "from sklearn.preprocessing import LabelEncoder\n",
    "from sklearn.model_selection import train_test_split\n",
    "from sklearn.metrics import confusion_matrix\n",
    "\n",
    "from sklearn.model_selection import GridSearchCV, cross_val_score, StratifiedKFold, RandomizedSearchCV\n",
    "\n",
    "from sklearn import tree\n",
    "from sklearn.svm import SVC\n",
    "from sklearn.neighbors import KNeighborsClassifier\n",
    "from sklearn.linear_model import LogisticRegression\n",
    "from sklearn.tree import DecisionTreeClassifier\n",
    "from sklearn.metrics import confusion_matrix\n",
    "from imblearn.over_sampling import SMOTE\n",
    "from sklearn.datasets import make_classification\n",
    "\n",
    "from sklearn import metrics\n",
    "from sklearn.metrics import precision_score"
   ]
  },
  {
   "cell_type": "code",
   "execution_count": 2,
   "metadata": {},
   "outputs": [],
   "source": [
    "import matplotlib.pyplot as plt\n",
    "from matplotlib import pyplot\n",
    "import seaborn as sns \n",
    "import plotly.graph_objs as go\n",
    "from plotly.offline import init_notebook_mode, iplot, plot\n",
    "from scipy.stats.mstats import mode\n",
    "\n",
    "%matplotlib inline\n",
    "from matplotlib.pylab import rcParams\n",
    "rcParams['figure.figsize'] = 12, 4"
   ]
  },
  {
   "cell_type": "code",
   "execution_count": 3,
   "metadata": {},
   "outputs": [],
   "source": [
    "def accuracy_precision_recall_precision_metrics(y_true, y_pred):\n",
    "    \n",
    "    y_test_scoring = convert_for_sklearn(y_true)\n",
    "    test_pred_scoring = convert_for_sklearn(y_pred)\n",
    "\n",
    "    precision = precision_score(y_true = ytest_scoring, y_pred = test_pred_scoring, average ='macro')\n",
    "    \n",
    "    print(\"Test precision score:\",precision)"
   ]
  },
  {
   "cell_type": "code",
   "execution_count": 4,
   "metadata": {},
   "outputs": [],
   "source": [
    "train = pd.read_csv(\"train.csv\",index_col='customer_id')\n",
    "test = pd.read_csv(\"test.csv\",index_col='customer_id')"
   ]
  },
  {
   "cell_type": "code",
   "execution_count": 5,
   "metadata": {},
   "outputs": [
    {
     "data": {
      "text/html": [
       "<div>\n",
       "<style scoped>\n",
       "    .dataframe tbody tr th:only-of-type {\n",
       "        vertical-align: middle;\n",
       "    }\n",
       "\n",
       "    .dataframe tbody tr th {\n",
       "        vertical-align: top;\n",
       "    }\n",
       "\n",
       "    .dataframe thead th {\n",
       "        text-align: right;\n",
       "    }\n",
       "</style>\n",
       "<table border=\"1\" class=\"dataframe\">\n",
       "  <thead>\n",
       "    <tr style=\"text-align: right;\">\n",
       "      <th></th>\n",
       "      <th>customer_visit_score</th>\n",
       "      <th>customer_product_search_score</th>\n",
       "      <th>customer_ctr_score</th>\n",
       "      <th>customer_stay_score</th>\n",
       "      <th>customer_frequency_score</th>\n",
       "      <th>customer_product_variation_score</th>\n",
       "      <th>customer_order_score</th>\n",
       "      <th>customer_affinity_score</th>\n",
       "      <th>customer_active_segment</th>\n",
       "      <th>X1</th>\n",
       "      <th>customer_category</th>\n",
       "    </tr>\n",
       "    <tr>\n",
       "      <th>customer_id</th>\n",
       "      <th></th>\n",
       "      <th></th>\n",
       "      <th></th>\n",
       "      <th></th>\n",
       "      <th></th>\n",
       "      <th></th>\n",
       "      <th></th>\n",
       "      <th></th>\n",
       "      <th></th>\n",
       "      <th></th>\n",
       "      <th></th>\n",
       "    </tr>\n",
       "  </thead>\n",
       "  <tbody>\n",
       "    <tr>\n",
       "      <th>csid_1</th>\n",
       "      <td>13.168425</td>\n",
       "      <td>9.447662</td>\n",
       "      <td>-0.070203</td>\n",
       "      <td>-0.139541</td>\n",
       "      <td>0.436956</td>\n",
       "      <td>4.705761</td>\n",
       "      <td>2.537985</td>\n",
       "      <td>7.959503</td>\n",
       "      <td>C</td>\n",
       "      <td>F</td>\n",
       "      <td>0</td>\n",
       "    </tr>\n",
       "    <tr>\n",
       "      <th>csid_2</th>\n",
       "      <td>17.092979</td>\n",
       "      <td>7.329056</td>\n",
       "      <td>0.153298</td>\n",
       "      <td>-0.102726</td>\n",
       "      <td>0.380340</td>\n",
       "      <td>4.205138</td>\n",
       "      <td>4.193444</td>\n",
       "      <td>17.517381</td>\n",
       "      <td>C</td>\n",
       "      <td>A</td>\n",
       "      <td>0</td>\n",
       "    </tr>\n",
       "    <tr>\n",
       "      <th>csid_3</th>\n",
       "      <td>17.505334</td>\n",
       "      <td>5.143676</td>\n",
       "      <td>0.106709</td>\n",
       "      <td>0.262834</td>\n",
       "      <td>0.417648</td>\n",
       "      <td>4.479070</td>\n",
       "      <td>3.878971</td>\n",
       "      <td>12.595155</td>\n",
       "      <td>C</td>\n",
       "      <td>BA</td>\n",
       "      <td>0</td>\n",
       "    </tr>\n",
       "    <tr>\n",
       "      <th>csid_4</th>\n",
       "      <td>31.423381</td>\n",
       "      <td>4.917740</td>\n",
       "      <td>-0.020226</td>\n",
       "      <td>-0.100526</td>\n",
       "      <td>0.778130</td>\n",
       "      <td>5.055535</td>\n",
       "      <td>2.708940</td>\n",
       "      <td>4.795073</td>\n",
       "      <td>AA</td>\n",
       "      <td>F</td>\n",
       "      <td>0</td>\n",
       "    </tr>\n",
       "    <tr>\n",
       "      <th>csid_5</th>\n",
       "      <td>11.909502</td>\n",
       "      <td>4.237073</td>\n",
       "      <td>0.187178</td>\n",
       "      <td>0.172891</td>\n",
       "      <td>0.162067</td>\n",
       "      <td>3.445247</td>\n",
       "      <td>3.677360</td>\n",
       "      <td>56.636326</td>\n",
       "      <td>C</td>\n",
       "      <td>AA</td>\n",
       "      <td>0</td>\n",
       "    </tr>\n",
       "  </tbody>\n",
       "</table>\n",
       "</div>"
      ],
      "text/plain": [
       "             customer_visit_score  customer_product_search_score  \\\n",
       "customer_id                                                        \n",
       "csid_1                  13.168425                       9.447662   \n",
       "csid_2                  17.092979                       7.329056   \n",
       "csid_3                  17.505334                       5.143676   \n",
       "csid_4                  31.423381                       4.917740   \n",
       "csid_5                  11.909502                       4.237073   \n",
       "\n",
       "             customer_ctr_score  customer_stay_score  \\\n",
       "customer_id                                            \n",
       "csid_1                -0.070203            -0.139541   \n",
       "csid_2                 0.153298            -0.102726   \n",
       "csid_3                 0.106709             0.262834   \n",
       "csid_4                -0.020226            -0.100526   \n",
       "csid_5                 0.187178             0.172891   \n",
       "\n",
       "             customer_frequency_score  customer_product_variation_score  \\\n",
       "customer_id                                                               \n",
       "csid_1                       0.436956                          4.705761   \n",
       "csid_2                       0.380340                          4.205138   \n",
       "csid_3                       0.417648                          4.479070   \n",
       "csid_4                       0.778130                          5.055535   \n",
       "csid_5                       0.162067                          3.445247   \n",
       "\n",
       "             customer_order_score  customer_affinity_score  \\\n",
       "customer_id                                                  \n",
       "csid_1                   2.537985                 7.959503   \n",
       "csid_2                   4.193444                17.517381   \n",
       "csid_3                   3.878971                12.595155   \n",
       "csid_4                   2.708940                 4.795073   \n",
       "csid_5                   3.677360                56.636326   \n",
       "\n",
       "            customer_active_segment  X1  customer_category  \n",
       "customer_id                                                 \n",
       "csid_1                            C   F                  0  \n",
       "csid_2                            C   A                  0  \n",
       "csid_3                            C  BA                  0  \n",
       "csid_4                           AA   F                  0  \n",
       "csid_5                            C  AA                  0  "
      ]
     },
     "execution_count": 5,
     "metadata": {},
     "output_type": "execute_result"
    }
   ],
   "source": [
    "train.head()"
   ]
  },
  {
   "cell_type": "code",
   "execution_count": 6,
   "metadata": {},
   "outputs": [
    {
     "data": {
      "text/html": [
       "<div>\n",
       "<style scoped>\n",
       "    .dataframe tbody tr th:only-of-type {\n",
       "        vertical-align: middle;\n",
       "    }\n",
       "\n",
       "    .dataframe tbody tr th {\n",
       "        vertical-align: top;\n",
       "    }\n",
       "\n",
       "    .dataframe thead th {\n",
       "        text-align: right;\n",
       "    }\n",
       "</style>\n",
       "<table border=\"1\" class=\"dataframe\">\n",
       "  <thead>\n",
       "    <tr style=\"text-align: right;\">\n",
       "      <th></th>\n",
       "      <th>customer_visit_score</th>\n",
       "      <th>customer_product_search_score</th>\n",
       "      <th>customer_ctr_score</th>\n",
       "      <th>customer_stay_score</th>\n",
       "      <th>customer_frequency_score</th>\n",
       "      <th>customer_product_variation_score</th>\n",
       "      <th>customer_order_score</th>\n",
       "      <th>customer_affinity_score</th>\n",
       "      <th>customer_active_segment</th>\n",
       "      <th>X1</th>\n",
       "      <th>customer_category</th>\n",
       "    </tr>\n",
       "    <tr>\n",
       "      <th>customer_id</th>\n",
       "      <th></th>\n",
       "      <th></th>\n",
       "      <th></th>\n",
       "      <th></th>\n",
       "      <th></th>\n",
       "      <th></th>\n",
       "      <th></th>\n",
       "      <th></th>\n",
       "      <th></th>\n",
       "      <th></th>\n",
       "      <th></th>\n",
       "    </tr>\n",
       "  </thead>\n",
       "  <tbody>\n",
       "    <tr>\n",
       "      <th>csid_10734</th>\n",
       "      <td>23.672615</td>\n",
       "      <td>6.701514</td>\n",
       "      <td>0.092879</td>\n",
       "      <td>-0.017332</td>\n",
       "      <td>1.210397</td>\n",
       "      <td>7.003663</td>\n",
       "      <td>3.027084</td>\n",
       "      <td>1.952911</td>\n",
       "      <td>C</td>\n",
       "      <td>BA</td>\n",
       "      <td>0</td>\n",
       "    </tr>\n",
       "    <tr>\n",
       "      <th>csid_10735</th>\n",
       "      <td>25.673028</td>\n",
       "      <td>6.497796</td>\n",
       "      <td>0.050216</td>\n",
       "      <td>-0.047211</td>\n",
       "      <td>0.725230</td>\n",
       "      <td>5.407507</td>\n",
       "      <td>3.104172</td>\n",
       "      <td>5.124286</td>\n",
       "      <td>C</td>\n",
       "      <td>BA</td>\n",
       "      <td>0</td>\n",
       "    </tr>\n",
       "    <tr>\n",
       "      <th>csid_10736</th>\n",
       "      <td>31.676844</td>\n",
       "      <td>7.799880</td>\n",
       "      <td>0.062961</td>\n",
       "      <td>-0.032765</td>\n",
       "      <td>0.318118</td>\n",
       "      <td>5.598486</td>\n",
       "      <td>2.403051</td>\n",
       "      <td>21.864188</td>\n",
       "      <td>A</td>\n",
       "      <td>BA</td>\n",
       "      <td>0</td>\n",
       "    </tr>\n",
       "    <tr>\n",
       "      <th>csid_10737</th>\n",
       "      <td>28.441780</td>\n",
       "      <td>5.588302</td>\n",
       "      <td>-0.093931</td>\n",
       "      <td>0.081586</td>\n",
       "      <td>0.132177</td>\n",
       "      <td>3.616492</td>\n",
       "      <td>4.972243</td>\n",
       "      <td>86.969977</td>\n",
       "      <td>B</td>\n",
       "      <td>AA</td>\n",
       "      <td>0</td>\n",
       "    </tr>\n",
       "    <tr>\n",
       "      <th>csid_10738</th>\n",
       "      <td>20.663035</td>\n",
       "      <td>4.478301</td>\n",
       "      <td>0.253165</td>\n",
       "      <td>0.381349</td>\n",
       "      <td>0.504904</td>\n",
       "      <td>4.181092</td>\n",
       "      <td>4.469215</td>\n",
       "      <td>27.770899</td>\n",
       "      <td>B</td>\n",
       "      <td>A</td>\n",
       "      <td>0</td>\n",
       "    </tr>\n",
       "  </tbody>\n",
       "</table>\n",
       "</div>"
      ],
      "text/plain": [
       "             customer_visit_score  customer_product_search_score  \\\n",
       "customer_id                                                        \n",
       "csid_10734              23.672615                       6.701514   \n",
       "csid_10735              25.673028                       6.497796   \n",
       "csid_10736              31.676844                       7.799880   \n",
       "csid_10737              28.441780                       5.588302   \n",
       "csid_10738              20.663035                       4.478301   \n",
       "\n",
       "             customer_ctr_score  customer_stay_score  \\\n",
       "customer_id                                            \n",
       "csid_10734             0.092879            -0.017332   \n",
       "csid_10735             0.050216            -0.047211   \n",
       "csid_10736             0.062961            -0.032765   \n",
       "csid_10737            -0.093931             0.081586   \n",
       "csid_10738             0.253165             0.381349   \n",
       "\n",
       "             customer_frequency_score  customer_product_variation_score  \\\n",
       "customer_id                                                               \n",
       "csid_10734                   1.210397                          7.003663   \n",
       "csid_10735                   0.725230                          5.407507   \n",
       "csid_10736                   0.318118                          5.598486   \n",
       "csid_10737                   0.132177                          3.616492   \n",
       "csid_10738                   0.504904                          4.181092   \n",
       "\n",
       "             customer_order_score  customer_affinity_score  \\\n",
       "customer_id                                                  \n",
       "csid_10734               3.027084                 1.952911   \n",
       "csid_10735               3.104172                 5.124286   \n",
       "csid_10736               2.403051                21.864188   \n",
       "csid_10737               4.972243                86.969977   \n",
       "csid_10738               4.469215                27.770899   \n",
       "\n",
       "            customer_active_segment  X1  customer_category  \n",
       "customer_id                                                 \n",
       "csid_10734                        C  BA                  0  \n",
       "csid_10735                        C  BA                  0  \n",
       "csid_10736                        A  BA                  0  \n",
       "csid_10737                        B  AA                  0  \n",
       "csid_10738                        B   A                  0  "
      ]
     },
     "execution_count": 6,
     "metadata": {},
     "output_type": "execute_result"
    }
   ],
   "source": [
    "train.tail()"
   ]
  },
  {
   "cell_type": "code",
   "execution_count": 7,
   "metadata": {},
   "outputs": [
    {
     "data": {
      "text/html": [
       "<div>\n",
       "<style scoped>\n",
       "    .dataframe tbody tr th:only-of-type {\n",
       "        vertical-align: middle;\n",
       "    }\n",
       "\n",
       "    .dataframe tbody tr th {\n",
       "        vertical-align: top;\n",
       "    }\n",
       "\n",
       "    .dataframe thead th {\n",
       "        text-align: right;\n",
       "    }\n",
       "</style>\n",
       "<table border=\"1\" class=\"dataframe\">\n",
       "  <thead>\n",
       "    <tr style=\"text-align: right;\">\n",
       "      <th></th>\n",
       "      <th>customer_visit_score</th>\n",
       "      <th>customer_product_search_score</th>\n",
       "      <th>customer_ctr_score</th>\n",
       "      <th>customer_stay_score</th>\n",
       "      <th>customer_frequency_score</th>\n",
       "      <th>customer_product_variation_score</th>\n",
       "      <th>customer_order_score</th>\n",
       "      <th>customer_affinity_score</th>\n",
       "      <th>customer_active_segment</th>\n",
       "      <th>X1</th>\n",
       "    </tr>\n",
       "    <tr>\n",
       "      <th>customer_id</th>\n",
       "      <th></th>\n",
       "      <th></th>\n",
       "      <th></th>\n",
       "      <th></th>\n",
       "      <th></th>\n",
       "      <th></th>\n",
       "      <th></th>\n",
       "      <th></th>\n",
       "      <th></th>\n",
       "      <th></th>\n",
       "    </tr>\n",
       "  </thead>\n",
       "  <tbody>\n",
       "    <tr>\n",
       "      <th>csid_10739</th>\n",
       "      <td>22.500174</td>\n",
       "      <td>3.702145</td>\n",
       "      <td>0.118811</td>\n",
       "      <td>0.093253</td>\n",
       "      <td>0.689237</td>\n",
       "      <td>5.786842</td>\n",
       "      <td>3.748009</td>\n",
       "      <td>7.661716</td>\n",
       "      <td>B</td>\n",
       "      <td>BA</td>\n",
       "    </tr>\n",
       "    <tr>\n",
       "      <th>csid_10740</th>\n",
       "      <td>13.225950</td>\n",
       "      <td>3.600102</td>\n",
       "      <td>0.130985</td>\n",
       "      <td>0.053575</td>\n",
       "      <td>0.142756</td>\n",
       "      <td>3.940359</td>\n",
       "      <td>3.469659</td>\n",
       "      <td>33.999679</td>\n",
       "      <td>B</td>\n",
       "      <td>AA</td>\n",
       "    </tr>\n",
       "    <tr>\n",
       "      <th>csid_10741</th>\n",
       "      <td>14.603376</td>\n",
       "      <td>5.084047</td>\n",
       "      <td>-0.004651</td>\n",
       "      <td>-0.036299</td>\n",
       "      <td>0.333709</td>\n",
       "      <td>4.254662</td>\n",
       "      <td>3.855939</td>\n",
       "      <td>33.485630</td>\n",
       "      <td>B</td>\n",
       "      <td>AA</td>\n",
       "    </tr>\n",
       "    <tr>\n",
       "      <th>csid_10742</th>\n",
       "      <td>26.149905</td>\n",
       "      <td>3.025501</td>\n",
       "      <td>0.229740</td>\n",
       "      <td>0.204591</td>\n",
       "      <td>3.768405</td>\n",
       "      <td>6.942625</td>\n",
       "      <td>2.362421</td>\n",
       "      <td>0.795372</td>\n",
       "      <td>B</td>\n",
       "      <td>BA</td>\n",
       "    </tr>\n",
       "    <tr>\n",
       "      <th>csid_10743</th>\n",
       "      <td>19.810630</td>\n",
       "      <td>5.020400</td>\n",
       "      <td>-0.011347</td>\n",
       "      <td>-0.028780</td>\n",
       "      <td>0.286841</td>\n",
       "      <td>4.585513</td>\n",
       "      <td>3.278624</td>\n",
       "      <td>15.052058</td>\n",
       "      <td>C</td>\n",
       "      <td>BA</td>\n",
       "    </tr>\n",
       "  </tbody>\n",
       "</table>\n",
       "</div>"
      ],
      "text/plain": [
       "             customer_visit_score  customer_product_search_score  \\\n",
       "customer_id                                                        \n",
       "csid_10739              22.500174                       3.702145   \n",
       "csid_10740              13.225950                       3.600102   \n",
       "csid_10741              14.603376                       5.084047   \n",
       "csid_10742              26.149905                       3.025501   \n",
       "csid_10743              19.810630                       5.020400   \n",
       "\n",
       "             customer_ctr_score  customer_stay_score  \\\n",
       "customer_id                                            \n",
       "csid_10739             0.118811             0.093253   \n",
       "csid_10740             0.130985             0.053575   \n",
       "csid_10741            -0.004651            -0.036299   \n",
       "csid_10742             0.229740             0.204591   \n",
       "csid_10743            -0.011347            -0.028780   \n",
       "\n",
       "             customer_frequency_score  customer_product_variation_score  \\\n",
       "customer_id                                                               \n",
       "csid_10739                   0.689237                          5.786842   \n",
       "csid_10740                   0.142756                          3.940359   \n",
       "csid_10741                   0.333709                          4.254662   \n",
       "csid_10742                   3.768405                          6.942625   \n",
       "csid_10743                   0.286841                          4.585513   \n",
       "\n",
       "             customer_order_score  customer_affinity_score  \\\n",
       "customer_id                                                  \n",
       "csid_10739               3.748009                 7.661716   \n",
       "csid_10740               3.469659                33.999679   \n",
       "csid_10741               3.855939                33.485630   \n",
       "csid_10742               2.362421                 0.795372   \n",
       "csid_10743               3.278624                15.052058   \n",
       "\n",
       "            customer_active_segment  X1  \n",
       "customer_id                              \n",
       "csid_10739                        B  BA  \n",
       "csid_10740                        B  AA  \n",
       "csid_10741                        B  AA  \n",
       "csid_10742                        B  BA  \n",
       "csid_10743                        C  BA  "
      ]
     },
     "execution_count": 7,
     "metadata": {},
     "output_type": "execute_result"
    }
   ],
   "source": [
    "test.head()"
   ]
  },
  {
   "cell_type": "code",
   "execution_count": 8,
   "metadata": {},
   "outputs": [
    {
     "data": {
      "text/html": [
       "<div>\n",
       "<style scoped>\n",
       "    .dataframe tbody tr th:only-of-type {\n",
       "        vertical-align: middle;\n",
       "    }\n",
       "\n",
       "    .dataframe tbody tr th {\n",
       "        vertical-align: top;\n",
       "    }\n",
       "\n",
       "    .dataframe thead th {\n",
       "        text-align: right;\n",
       "    }\n",
       "</style>\n",
       "<table border=\"1\" class=\"dataframe\">\n",
       "  <thead>\n",
       "    <tr style=\"text-align: right;\">\n",
       "      <th></th>\n",
       "      <th>customer_visit_score</th>\n",
       "      <th>customer_product_search_score</th>\n",
       "      <th>customer_ctr_score</th>\n",
       "      <th>customer_stay_score</th>\n",
       "      <th>customer_frequency_score</th>\n",
       "      <th>customer_product_variation_score</th>\n",
       "      <th>customer_order_score</th>\n",
       "      <th>customer_affinity_score</th>\n",
       "      <th>customer_active_segment</th>\n",
       "      <th>X1</th>\n",
       "    </tr>\n",
       "    <tr>\n",
       "      <th>customer_id</th>\n",
       "      <th></th>\n",
       "      <th></th>\n",
       "      <th></th>\n",
       "      <th></th>\n",
       "      <th></th>\n",
       "      <th></th>\n",
       "      <th></th>\n",
       "      <th></th>\n",
       "      <th></th>\n",
       "      <th></th>\n",
       "    </tr>\n",
       "  </thead>\n",
       "  <tbody>\n",
       "    <tr>\n",
       "      <th>csid_17894</th>\n",
       "      <td>18.164300</td>\n",
       "      <td>7.240835</td>\n",
       "      <td>-0.056238</td>\n",
       "      <td>-0.177289</td>\n",
       "      <td>0.336608</td>\n",
       "      <td>4.043067</td>\n",
       "      <td>4.758199</td>\n",
       "      <td>68.052717</td>\n",
       "      <td>C</td>\n",
       "      <td>AA</td>\n",
       "    </tr>\n",
       "    <tr>\n",
       "      <th>csid_17895</th>\n",
       "      <td>25.363705</td>\n",
       "      <td>4.881059</td>\n",
       "      <td>0.038720</td>\n",
       "      <td>0.054397</td>\n",
       "      <td>2.452571</td>\n",
       "      <td>7.582251</td>\n",
       "      <td>1.823892</td>\n",
       "      <td>2.080245</td>\n",
       "      <td>C</td>\n",
       "      <td>BA</td>\n",
       "    </tr>\n",
       "    <tr>\n",
       "      <th>csid_17896</th>\n",
       "      <td>11.160720</td>\n",
       "      <td>5.019859</td>\n",
       "      <td>0.053864</td>\n",
       "      <td>-0.102337</td>\n",
       "      <td>4.968183</td>\n",
       "      <td>8.585355</td>\n",
       "      <td>2.422193</td>\n",
       "      <td>0.616082</td>\n",
       "      <td>C</td>\n",
       "      <td>BA</td>\n",
       "    </tr>\n",
       "    <tr>\n",
       "      <th>csid_17897</th>\n",
       "      <td>17.140020</td>\n",
       "      <td>9.269037</td>\n",
       "      <td>0.059911</td>\n",
       "      <td>-0.004299</td>\n",
       "      <td>0.357399</td>\n",
       "      <td>4.193971</td>\n",
       "      <td>3.715392</td>\n",
       "      <td>26.939493</td>\n",
       "      <td>C</td>\n",
       "      <td>BA</td>\n",
       "    </tr>\n",
       "    <tr>\n",
       "      <th>csid_17898</th>\n",
       "      <td>10.698835</td>\n",
       "      <td>12.173331</td>\n",
       "      <td>0.475469</td>\n",
       "      <td>0.014124</td>\n",
       "      <td>23.358252</td>\n",
       "      <td>10.805826</td>\n",
       "      <td>1.571717</td>\n",
       "      <td>0.133973</td>\n",
       "      <td>B</td>\n",
       "      <td>BA</td>\n",
       "    </tr>\n",
       "  </tbody>\n",
       "</table>\n",
       "</div>"
      ],
      "text/plain": [
       "             customer_visit_score  customer_product_search_score  \\\n",
       "customer_id                                                        \n",
       "csid_17894              18.164300                       7.240835   \n",
       "csid_17895              25.363705                       4.881059   \n",
       "csid_17896              11.160720                       5.019859   \n",
       "csid_17897              17.140020                       9.269037   \n",
       "csid_17898              10.698835                      12.173331   \n",
       "\n",
       "             customer_ctr_score  customer_stay_score  \\\n",
       "customer_id                                            \n",
       "csid_17894            -0.056238            -0.177289   \n",
       "csid_17895             0.038720             0.054397   \n",
       "csid_17896             0.053864            -0.102337   \n",
       "csid_17897             0.059911            -0.004299   \n",
       "csid_17898             0.475469             0.014124   \n",
       "\n",
       "             customer_frequency_score  customer_product_variation_score  \\\n",
       "customer_id                                                               \n",
       "csid_17894                   0.336608                          4.043067   \n",
       "csid_17895                   2.452571                          7.582251   \n",
       "csid_17896                   4.968183                          8.585355   \n",
       "csid_17897                   0.357399                          4.193971   \n",
       "csid_17898                  23.358252                         10.805826   \n",
       "\n",
       "             customer_order_score  customer_affinity_score  \\\n",
       "customer_id                                                  \n",
       "csid_17894               4.758199                68.052717   \n",
       "csid_17895               1.823892                 2.080245   \n",
       "csid_17896               2.422193                 0.616082   \n",
       "csid_17897               3.715392                26.939493   \n",
       "csid_17898               1.571717                 0.133973   \n",
       "\n",
       "            customer_active_segment  X1  \n",
       "customer_id                              \n",
       "csid_17894                        C  AA  \n",
       "csid_17895                        C  BA  \n",
       "csid_17896                        C  BA  \n",
       "csid_17897                        C  BA  \n",
       "csid_17898                        B  BA  "
      ]
     },
     "execution_count": 8,
     "metadata": {},
     "output_type": "execute_result"
    }
   ],
   "source": [
    "test.tail()"
   ]
  },
  {
   "cell_type": "code",
   "execution_count": 9,
   "metadata": {},
   "outputs": [
    {
     "name": "stdout",
     "output_type": "stream",
     "text": [
      "(10738, 11)\n",
      "(7160, 10)\n"
     ]
    }
   ],
   "source": [
    "print(train.shape)\n",
    "print(test.shape)"
   ]
  },
  {
   "cell_type": "code",
   "execution_count": 10,
   "metadata": {},
   "outputs": [
    {
     "name": "stdout",
     "output_type": "stream",
     "text": [
      "customer_visit_score                10738\n",
      "customer_product_search_score       10696\n",
      "customer_ctr_score                  10738\n",
      "customer_stay_score                 10701\n",
      "customer_frequency_score            10738\n",
      "customer_product_variation_score    10692\n",
      "customer_order_score                10672\n",
      "customer_affinity_score             10738\n",
      "customer_active_segment                 5\n",
      "X1                                      5\n",
      "customer_category                       2\n",
      "dtype: int64\n",
      "customer_visit_score                7160\n",
      "customer_product_search_score       7131\n",
      "customer_ctr_score                  7160\n",
      "customer_stay_score                 7144\n",
      "customer_frequency_score            7160\n",
      "customer_product_variation_score    7117\n",
      "customer_order_score                7119\n",
      "customer_affinity_score             7160\n",
      "customer_active_segment                5\n",
      "X1                                     5\n",
      "dtype: int64\n"
     ]
    }
   ],
   "source": [
    "print(train.nunique())\n",
    "print(test.nunique())"
   ]
  },
  {
   "cell_type": "code",
   "execution_count": 11,
   "metadata": {},
   "outputs": [
    {
     "data": {
      "text/plain": [
       "customer_visit_score                float64\n",
       "customer_product_search_score       float64\n",
       "customer_ctr_score                  float64\n",
       "customer_stay_score                 float64\n",
       "customer_frequency_score            float64\n",
       "customer_product_variation_score    float64\n",
       "customer_order_score                float64\n",
       "customer_affinity_score             float64\n",
       "customer_active_segment              object\n",
       "X1                                   object\n",
       "customer_category                     int64\n",
       "dtype: object"
      ]
     },
     "execution_count": 11,
     "metadata": {},
     "output_type": "execute_result"
    }
   ],
   "source": [
    "train.dtypes"
   ]
  },
  {
   "cell_type": "code",
   "execution_count": 12,
   "metadata": {},
   "outputs": [
    {
     "data": {
      "text/plain": [
       "customer_visit_score                float64\n",
       "customer_product_search_score       float64\n",
       "customer_ctr_score                  float64\n",
       "customer_stay_score                 float64\n",
       "customer_frequency_score            float64\n",
       "customer_product_variation_score    float64\n",
       "customer_order_score                float64\n",
       "customer_affinity_score             float64\n",
       "customer_active_segment              object\n",
       "X1                                   object\n",
       "dtype: object"
      ]
     },
     "execution_count": 12,
     "metadata": {},
     "output_type": "execute_result"
    }
   ],
   "source": [
    "test.dtypes"
   ]
  },
  {
   "cell_type": "code",
   "execution_count": 13,
   "metadata": {},
   "outputs": [
    {
     "data": {
      "text/html": [
       "<div>\n",
       "<style scoped>\n",
       "    .dataframe tbody tr th:only-of-type {\n",
       "        vertical-align: middle;\n",
       "    }\n",
       "\n",
       "    .dataframe tbody tr th {\n",
       "        vertical-align: top;\n",
       "    }\n",
       "\n",
       "    .dataframe thead th {\n",
       "        text-align: right;\n",
       "    }\n",
       "</style>\n",
       "<table border=\"1\" class=\"dataframe\">\n",
       "  <thead>\n",
       "    <tr style=\"text-align: right;\">\n",
       "      <th></th>\n",
       "      <th>customer_visit_score</th>\n",
       "      <th>customer_product_search_score</th>\n",
       "      <th>customer_ctr_score</th>\n",
       "      <th>customer_stay_score</th>\n",
       "      <th>customer_frequency_score</th>\n",
       "      <th>customer_product_variation_score</th>\n",
       "      <th>customer_order_score</th>\n",
       "      <th>customer_affinity_score</th>\n",
       "      <th>customer_category</th>\n",
       "    </tr>\n",
       "  </thead>\n",
       "  <tbody>\n",
       "    <tr>\n",
       "      <th>count</th>\n",
       "      <td>10738.000000</td>\n",
       "      <td>10696.000000</td>\n",
       "      <td>10738.000000</td>\n",
       "      <td>10701.000000</td>\n",
       "      <td>10738.000000</td>\n",
       "      <td>10692.000000</td>\n",
       "      <td>10672.000000</td>\n",
       "      <td>10738.000000</td>\n",
       "      <td>10738.000000</td>\n",
       "    </tr>\n",
       "    <tr>\n",
       "      <th>mean</th>\n",
       "      <td>19.060941</td>\n",
       "      <td>5.274847</td>\n",
       "      <td>0.175912</td>\n",
       "      <td>0.374230</td>\n",
       "      <td>2.376895</td>\n",
       "      <td>5.788180</td>\n",
       "      <td>3.150071</td>\n",
       "      <td>17.061836</td>\n",
       "      <td>0.120600</td>\n",
       "    </tr>\n",
       "    <tr>\n",
       "      <th>std</th>\n",
       "      <td>7.419609</td>\n",
       "      <td>1.882559</td>\n",
       "      <td>0.372829</td>\n",
       "      <td>1.222031</td>\n",
       "      <td>5.601911</td>\n",
       "      <td>2.531309</td>\n",
       "      <td>1.035416</td>\n",
       "      <td>18.762693</td>\n",
       "      <td>0.325677</td>\n",
       "    </tr>\n",
       "    <tr>\n",
       "      <th>min</th>\n",
       "      <td>0.568965</td>\n",
       "      <td>-0.161940</td>\n",
       "      <td>-0.547989</td>\n",
       "      <td>-0.462494</td>\n",
       "      <td>0.028575</td>\n",
       "      <td>2.752836</td>\n",
       "      <td>0.363338</td>\n",
       "      <td>-0.486834</td>\n",
       "      <td>0.000000</td>\n",
       "    </tr>\n",
       "    <tr>\n",
       "      <th>25%</th>\n",
       "      <td>13.518021</td>\n",
       "      <td>3.971587</td>\n",
       "      <td>0.010840</td>\n",
       "      <td>-0.027666</td>\n",
       "      <td>0.313610</td>\n",
       "      <td>4.193234</td>\n",
       "      <td>2.454017</td>\n",
       "      <td>4.530085</td>\n",
       "      <td>0.000000</td>\n",
       "    </tr>\n",
       "    <tr>\n",
       "      <th>50%</th>\n",
       "      <td>18.774109</td>\n",
       "      <td>5.218479</td>\n",
       "      <td>0.074078</td>\n",
       "      <td>0.037201</td>\n",
       "      <td>0.516830</td>\n",
       "      <td>4.842575</td>\n",
       "      <td>3.118394</td>\n",
       "      <td>12.653357</td>\n",
       "      <td>0.000000</td>\n",
       "    </tr>\n",
       "    <tr>\n",
       "      <th>75%</th>\n",
       "      <td>24.501719</td>\n",
       "      <td>6.520364</td>\n",
       "      <td>0.159606</td>\n",
       "      <td>0.179029</td>\n",
       "      <td>1.125380</td>\n",
       "      <td>6.286400</td>\n",
       "      <td>3.756566</td>\n",
       "      <td>23.114577</td>\n",
       "      <td>0.000000</td>\n",
       "    </tr>\n",
       "    <tr>\n",
       "      <th>max</th>\n",
       "      <td>47.306691</td>\n",
       "      <td>16.638243</td>\n",
       "      <td>2.679474</td>\n",
       "      <td>14.701914</td>\n",
       "      <td>52.395014</td>\n",
       "      <td>18.743836</td>\n",
       "      <td>9.090206</td>\n",
       "      <td>248.552755</td>\n",
       "      <td>1.000000</td>\n",
       "    </tr>\n",
       "  </tbody>\n",
       "</table>\n",
       "</div>"
      ],
      "text/plain": [
       "       customer_visit_score  customer_product_search_score  \\\n",
       "count          10738.000000                   10696.000000   \n",
       "mean              19.060941                       5.274847   \n",
       "std                7.419609                       1.882559   \n",
       "min                0.568965                      -0.161940   \n",
       "25%               13.518021                       3.971587   \n",
       "50%               18.774109                       5.218479   \n",
       "75%               24.501719                       6.520364   \n",
       "max               47.306691                      16.638243   \n",
       "\n",
       "       customer_ctr_score  customer_stay_score  customer_frequency_score  \\\n",
       "count        10738.000000         10701.000000              10738.000000   \n",
       "mean             0.175912             0.374230                  2.376895   \n",
       "std              0.372829             1.222031                  5.601911   \n",
       "min             -0.547989            -0.462494                  0.028575   \n",
       "25%              0.010840            -0.027666                  0.313610   \n",
       "50%              0.074078             0.037201                  0.516830   \n",
       "75%              0.159606             0.179029                  1.125380   \n",
       "max              2.679474            14.701914                 52.395014   \n",
       "\n",
       "       customer_product_variation_score  customer_order_score  \\\n",
       "count                      10692.000000          10672.000000   \n",
       "mean                           5.788180              3.150071   \n",
       "std                            2.531309              1.035416   \n",
       "min                            2.752836              0.363338   \n",
       "25%                            4.193234              2.454017   \n",
       "50%                            4.842575              3.118394   \n",
       "75%                            6.286400              3.756566   \n",
       "max                           18.743836              9.090206   \n",
       "\n",
       "       customer_affinity_score  customer_category  \n",
       "count             10738.000000       10738.000000  \n",
       "mean                 17.061836           0.120600  \n",
       "std                  18.762693           0.325677  \n",
       "min                  -0.486834           0.000000  \n",
       "25%                   4.530085           0.000000  \n",
       "50%                  12.653357           0.000000  \n",
       "75%                  23.114577           0.000000  \n",
       "max                 248.552755           1.000000  "
      ]
     },
     "execution_count": 13,
     "metadata": {},
     "output_type": "execute_result"
    }
   ],
   "source": [
    "train.describe()"
   ]
  },
  {
   "cell_type": "code",
   "execution_count": 14,
   "metadata": {},
   "outputs": [
    {
     "data": {
      "text/html": [
       "<div>\n",
       "<style scoped>\n",
       "    .dataframe tbody tr th:only-of-type {\n",
       "        vertical-align: middle;\n",
       "    }\n",
       "\n",
       "    .dataframe tbody tr th {\n",
       "        vertical-align: top;\n",
       "    }\n",
       "\n",
       "    .dataframe thead th {\n",
       "        text-align: right;\n",
       "    }\n",
       "</style>\n",
       "<table border=\"1\" class=\"dataframe\">\n",
       "  <thead>\n",
       "    <tr style=\"text-align: right;\">\n",
       "      <th></th>\n",
       "      <th>customer_active_segment</th>\n",
       "      <th>X1</th>\n",
       "    </tr>\n",
       "  </thead>\n",
       "  <tbody>\n",
       "    <tr>\n",
       "      <th>count</th>\n",
       "      <td>10715</td>\n",
       "      <td>10701</td>\n",
       "    </tr>\n",
       "    <tr>\n",
       "      <th>unique</th>\n",
       "      <td>5</td>\n",
       "      <td>5</td>\n",
       "    </tr>\n",
       "    <tr>\n",
       "      <th>top</th>\n",
       "      <td>C</td>\n",
       "      <td>BA</td>\n",
       "    </tr>\n",
       "    <tr>\n",
       "      <th>freq</th>\n",
       "      <td>4919</td>\n",
       "      <td>4511</td>\n",
       "    </tr>\n",
       "  </tbody>\n",
       "</table>\n",
       "</div>"
      ],
      "text/plain": [
       "       customer_active_segment     X1\n",
       "count                    10715  10701\n",
       "unique                       5      5\n",
       "top                          C     BA\n",
       "freq                      4919   4511"
      ]
     },
     "execution_count": 14,
     "metadata": {},
     "output_type": "execute_result"
    }
   ],
   "source": [
    "train.describe(include = 'object')"
   ]
  },
  {
   "cell_type": "code",
   "execution_count": 15,
   "metadata": {},
   "outputs": [
    {
     "data": {
      "text/html": [
       "<div>\n",
       "<style scoped>\n",
       "    .dataframe tbody tr th:only-of-type {\n",
       "        vertical-align: middle;\n",
       "    }\n",
       "\n",
       "    .dataframe tbody tr th {\n",
       "        vertical-align: top;\n",
       "    }\n",
       "\n",
       "    .dataframe thead th {\n",
       "        text-align: right;\n",
       "    }\n",
       "</style>\n",
       "<table border=\"1\" class=\"dataframe\">\n",
       "  <thead>\n",
       "    <tr style=\"text-align: right;\">\n",
       "      <th></th>\n",
       "      <th>customer_visit_score</th>\n",
       "      <th>customer_product_search_score</th>\n",
       "      <th>customer_ctr_score</th>\n",
       "      <th>customer_stay_score</th>\n",
       "      <th>customer_frequency_score</th>\n",
       "      <th>customer_product_variation_score</th>\n",
       "      <th>customer_order_score</th>\n",
       "      <th>customer_affinity_score</th>\n",
       "    </tr>\n",
       "  </thead>\n",
       "  <tbody>\n",
       "    <tr>\n",
       "      <th>count</th>\n",
       "      <td>7160.000000</td>\n",
       "      <td>7131.000000</td>\n",
       "      <td>7160.000000</td>\n",
       "      <td>7144.000000</td>\n",
       "      <td>7160.000000</td>\n",
       "      <td>7117.000000</td>\n",
       "      <td>7119.000000</td>\n",
       "      <td>7160.000000</td>\n",
       "    </tr>\n",
       "    <tr>\n",
       "      <th>mean</th>\n",
       "      <td>19.700385</td>\n",
       "      <td>5.385970</td>\n",
       "      <td>0.111038</td>\n",
       "      <td>0.202822</td>\n",
       "      <td>1.885588</td>\n",
       "      <td>5.444226</td>\n",
       "      <td>3.309440</td>\n",
       "      <td>19.889035</td>\n",
       "    </tr>\n",
       "    <tr>\n",
       "      <th>std</th>\n",
       "      <td>6.980932</td>\n",
       "      <td>1.779850</td>\n",
       "      <td>0.260733</td>\n",
       "      <td>0.886824</td>\n",
       "      <td>4.967213</td>\n",
       "      <td>2.336244</td>\n",
       "      <td>1.060144</td>\n",
       "      <td>20.783679</td>\n",
       "    </tr>\n",
       "    <tr>\n",
       "      <th>min</th>\n",
       "      <td>1.248385</td>\n",
       "      <td>-0.113791</td>\n",
       "      <td>-0.615134</td>\n",
       "      <td>-0.381836</td>\n",
       "      <td>0.022957</td>\n",
       "      <td>2.718819</td>\n",
       "      <td>0.620935</td>\n",
       "      <td>-0.501215</td>\n",
       "    </tr>\n",
       "    <tr>\n",
       "      <th>25%</th>\n",
       "      <td>14.250243</td>\n",
       "      <td>4.146965</td>\n",
       "      <td>0.005032</td>\n",
       "      <td>-0.033382</td>\n",
       "      <td>0.282119</td>\n",
       "      <td>4.099106</td>\n",
       "      <td>2.645399</td>\n",
       "      <td>6.910150</td>\n",
       "    </tr>\n",
       "    <tr>\n",
       "      <th>50%</th>\n",
       "      <td>19.256051</td>\n",
       "      <td>5.358104</td>\n",
       "      <td>0.063178</td>\n",
       "      <td>0.024508</td>\n",
       "      <td>0.457636</td>\n",
       "      <td>4.669433</td>\n",
       "      <td>3.254096</td>\n",
       "      <td>14.630477</td>\n",
       "    </tr>\n",
       "    <tr>\n",
       "      <th>75%</th>\n",
       "      <td>24.756843</td>\n",
       "      <td>6.579949</td>\n",
       "      <td>0.135072</td>\n",
       "      <td>0.130086</td>\n",
       "      <td>0.822750</td>\n",
       "      <td>5.665742</td>\n",
       "      <td>3.875797</td>\n",
       "      <td>26.102862</td>\n",
       "    </tr>\n",
       "    <tr>\n",
       "      <th>max</th>\n",
       "      <td>42.960500</td>\n",
       "      <td>13.678108</td>\n",
       "      <td>2.528584</td>\n",
       "      <td>13.533233</td>\n",
       "      <td>49.683739</td>\n",
       "      <td>19.095799</td>\n",
       "      <td>11.388305</td>\n",
       "      <td>257.251810</td>\n",
       "    </tr>\n",
       "  </tbody>\n",
       "</table>\n",
       "</div>"
      ],
      "text/plain": [
       "       customer_visit_score  customer_product_search_score  \\\n",
       "count           7160.000000                    7131.000000   \n",
       "mean              19.700385                       5.385970   \n",
       "std                6.980932                       1.779850   \n",
       "min                1.248385                      -0.113791   \n",
       "25%               14.250243                       4.146965   \n",
       "50%               19.256051                       5.358104   \n",
       "75%               24.756843                       6.579949   \n",
       "max               42.960500                      13.678108   \n",
       "\n",
       "       customer_ctr_score  customer_stay_score  customer_frequency_score  \\\n",
       "count         7160.000000          7144.000000               7160.000000   \n",
       "mean             0.111038             0.202822                  1.885588   \n",
       "std              0.260733             0.886824                  4.967213   \n",
       "min             -0.615134            -0.381836                  0.022957   \n",
       "25%              0.005032            -0.033382                  0.282119   \n",
       "50%              0.063178             0.024508                  0.457636   \n",
       "75%              0.135072             0.130086                  0.822750   \n",
       "max              2.528584            13.533233                 49.683739   \n",
       "\n",
       "       customer_product_variation_score  customer_order_score  \\\n",
       "count                       7117.000000           7119.000000   \n",
       "mean                           5.444226              3.309440   \n",
       "std                            2.336244              1.060144   \n",
       "min                            2.718819              0.620935   \n",
       "25%                            4.099106              2.645399   \n",
       "50%                            4.669433              3.254096   \n",
       "75%                            5.665742              3.875797   \n",
       "max                           19.095799             11.388305   \n",
       "\n",
       "       customer_affinity_score  \n",
       "count              7160.000000  \n",
       "mean                 19.889035  \n",
       "std                  20.783679  \n",
       "min                  -0.501215  \n",
       "25%                   6.910150  \n",
       "50%                  14.630477  \n",
       "75%                  26.102862  \n",
       "max                 257.251810  "
      ]
     },
     "execution_count": 15,
     "metadata": {},
     "output_type": "execute_result"
    }
   ],
   "source": [
    "test.describe()"
   ]
  },
  {
   "cell_type": "code",
   "execution_count": 16,
   "metadata": {},
   "outputs": [
    {
     "data": {
      "text/html": [
       "<div>\n",
       "<style scoped>\n",
       "    .dataframe tbody tr th:only-of-type {\n",
       "        vertical-align: middle;\n",
       "    }\n",
       "\n",
       "    .dataframe tbody tr th {\n",
       "        vertical-align: top;\n",
       "    }\n",
       "\n",
       "    .dataframe thead th {\n",
       "        text-align: right;\n",
       "    }\n",
       "</style>\n",
       "<table border=\"1\" class=\"dataframe\">\n",
       "  <thead>\n",
       "    <tr style=\"text-align: right;\">\n",
       "      <th></th>\n",
       "      <th>customer_visit_score</th>\n",
       "      <th>customer_product_search_score</th>\n",
       "      <th>customer_ctr_score</th>\n",
       "      <th>customer_stay_score</th>\n",
       "      <th>customer_frequency_score</th>\n",
       "      <th>customer_product_variation_score</th>\n",
       "      <th>customer_order_score</th>\n",
       "      <th>customer_affinity_score</th>\n",
       "    </tr>\n",
       "  </thead>\n",
       "  <tbody>\n",
       "    <tr>\n",
       "      <th>count</th>\n",
       "      <td>7160.000000</td>\n",
       "      <td>7131.000000</td>\n",
       "      <td>7160.000000</td>\n",
       "      <td>7144.000000</td>\n",
       "      <td>7160.000000</td>\n",
       "      <td>7117.000000</td>\n",
       "      <td>7119.000000</td>\n",
       "      <td>7160.000000</td>\n",
       "    </tr>\n",
       "    <tr>\n",
       "      <th>mean</th>\n",
       "      <td>19.700385</td>\n",
       "      <td>5.385970</td>\n",
       "      <td>0.111038</td>\n",
       "      <td>0.202822</td>\n",
       "      <td>1.885588</td>\n",
       "      <td>5.444226</td>\n",
       "      <td>3.309440</td>\n",
       "      <td>19.889035</td>\n",
       "    </tr>\n",
       "    <tr>\n",
       "      <th>std</th>\n",
       "      <td>6.980932</td>\n",
       "      <td>1.779850</td>\n",
       "      <td>0.260733</td>\n",
       "      <td>0.886824</td>\n",
       "      <td>4.967213</td>\n",
       "      <td>2.336244</td>\n",
       "      <td>1.060144</td>\n",
       "      <td>20.783679</td>\n",
       "    </tr>\n",
       "    <tr>\n",
       "      <th>min</th>\n",
       "      <td>1.248385</td>\n",
       "      <td>-0.113791</td>\n",
       "      <td>-0.615134</td>\n",
       "      <td>-0.381836</td>\n",
       "      <td>0.022957</td>\n",
       "      <td>2.718819</td>\n",
       "      <td>0.620935</td>\n",
       "      <td>-0.501215</td>\n",
       "    </tr>\n",
       "    <tr>\n",
       "      <th>25%</th>\n",
       "      <td>14.250243</td>\n",
       "      <td>4.146965</td>\n",
       "      <td>0.005032</td>\n",
       "      <td>-0.033382</td>\n",
       "      <td>0.282119</td>\n",
       "      <td>4.099106</td>\n",
       "      <td>2.645399</td>\n",
       "      <td>6.910150</td>\n",
       "    </tr>\n",
       "    <tr>\n",
       "      <th>50%</th>\n",
       "      <td>19.256051</td>\n",
       "      <td>5.358104</td>\n",
       "      <td>0.063178</td>\n",
       "      <td>0.024508</td>\n",
       "      <td>0.457636</td>\n",
       "      <td>4.669433</td>\n",
       "      <td>3.254096</td>\n",
       "      <td>14.630477</td>\n",
       "    </tr>\n",
       "    <tr>\n",
       "      <th>75%</th>\n",
       "      <td>24.756843</td>\n",
       "      <td>6.579949</td>\n",
       "      <td>0.135072</td>\n",
       "      <td>0.130086</td>\n",
       "      <td>0.822750</td>\n",
       "      <td>5.665742</td>\n",
       "      <td>3.875797</td>\n",
       "      <td>26.102862</td>\n",
       "    </tr>\n",
       "    <tr>\n",
       "      <th>max</th>\n",
       "      <td>42.960500</td>\n",
       "      <td>13.678108</td>\n",
       "      <td>2.528584</td>\n",
       "      <td>13.533233</td>\n",
       "      <td>49.683739</td>\n",
       "      <td>19.095799</td>\n",
       "      <td>11.388305</td>\n",
       "      <td>257.251810</td>\n",
       "    </tr>\n",
       "  </tbody>\n",
       "</table>\n",
       "</div>"
      ],
      "text/plain": [
       "       customer_visit_score  customer_product_search_score  \\\n",
       "count           7160.000000                    7131.000000   \n",
       "mean              19.700385                       5.385970   \n",
       "std                6.980932                       1.779850   \n",
       "min                1.248385                      -0.113791   \n",
       "25%               14.250243                       4.146965   \n",
       "50%               19.256051                       5.358104   \n",
       "75%               24.756843                       6.579949   \n",
       "max               42.960500                      13.678108   \n",
       "\n",
       "       customer_ctr_score  customer_stay_score  customer_frequency_score  \\\n",
       "count         7160.000000          7144.000000               7160.000000   \n",
       "mean             0.111038             0.202822                  1.885588   \n",
       "std              0.260733             0.886824                  4.967213   \n",
       "min             -0.615134            -0.381836                  0.022957   \n",
       "25%              0.005032            -0.033382                  0.282119   \n",
       "50%              0.063178             0.024508                  0.457636   \n",
       "75%              0.135072             0.130086                  0.822750   \n",
       "max              2.528584            13.533233                 49.683739   \n",
       "\n",
       "       customer_product_variation_score  customer_order_score  \\\n",
       "count                       7117.000000           7119.000000   \n",
       "mean                           5.444226              3.309440   \n",
       "std                            2.336244              1.060144   \n",
       "min                            2.718819              0.620935   \n",
       "25%                            4.099106              2.645399   \n",
       "50%                            4.669433              3.254096   \n",
       "75%                            5.665742              3.875797   \n",
       "max                           19.095799             11.388305   \n",
       "\n",
       "       customer_affinity_score  \n",
       "count              7160.000000  \n",
       "mean                 19.889035  \n",
       "std                  20.783679  \n",
       "min                  -0.501215  \n",
       "25%                   6.910150  \n",
       "50%                  14.630477  \n",
       "75%                  26.102862  \n",
       "max                 257.251810  "
      ]
     },
     "execution_count": 16,
     "metadata": {},
     "output_type": "execute_result"
    }
   ],
   "source": [
    "test.describe()"
   ]
  },
  {
   "cell_type": "code",
   "execution_count": 17,
   "metadata": {},
   "outputs": [
    {
     "data": {
      "text/html": [
       "<div>\n",
       "<style scoped>\n",
       "    .dataframe tbody tr th:only-of-type {\n",
       "        vertical-align: middle;\n",
       "    }\n",
       "\n",
       "    .dataframe tbody tr th {\n",
       "        vertical-align: top;\n",
       "    }\n",
       "\n",
       "    .dataframe thead th {\n",
       "        text-align: right;\n",
       "    }\n",
       "</style>\n",
       "<table border=\"1\" class=\"dataframe\">\n",
       "  <thead>\n",
       "    <tr style=\"text-align: right;\">\n",
       "      <th></th>\n",
       "      <th>customer_active_segment</th>\n",
       "      <th>X1</th>\n",
       "    </tr>\n",
       "  </thead>\n",
       "  <tbody>\n",
       "    <tr>\n",
       "      <th>count</th>\n",
       "      <td>7148</td>\n",
       "      <td>7135</td>\n",
       "    </tr>\n",
       "    <tr>\n",
       "      <th>unique</th>\n",
       "      <td>5</td>\n",
       "      <td>5</td>\n",
       "    </tr>\n",
       "    <tr>\n",
       "      <th>top</th>\n",
       "      <td>C</td>\n",
       "      <td>BA</td>\n",
       "    </tr>\n",
       "    <tr>\n",
       "      <th>freq</th>\n",
       "      <td>3251</td>\n",
       "      <td>2810</td>\n",
       "    </tr>\n",
       "  </tbody>\n",
       "</table>\n",
       "</div>"
      ],
      "text/plain": [
       "       customer_active_segment    X1\n",
       "count                     7148  7135\n",
       "unique                       5     5\n",
       "top                          C    BA\n",
       "freq                      3251  2810"
      ]
     },
     "execution_count": 17,
     "metadata": {},
     "output_type": "execute_result"
    }
   ],
   "source": [
    "test.describe(include = 'object')"
   ]
  },
  {
   "cell_type": "code",
   "execution_count": 18,
   "metadata": {},
   "outputs": [
    {
     "name": "stdout",
     "output_type": "stream",
     "text": [
      "<class 'pandas.core.frame.DataFrame'>\n",
      "Index: 10738 entries, csid_1 to csid_10738\n",
      "Data columns (total 11 columns):\n",
      " #   Column                            Non-Null Count  Dtype  \n",
      "---  ------                            --------------  -----  \n",
      " 0   customer_visit_score              10738 non-null  float64\n",
      " 1   customer_product_search_score     10696 non-null  float64\n",
      " 2   customer_ctr_score                10738 non-null  float64\n",
      " 3   customer_stay_score               10701 non-null  float64\n",
      " 4   customer_frequency_score          10738 non-null  float64\n",
      " 5   customer_product_variation_score  10692 non-null  float64\n",
      " 6   customer_order_score              10672 non-null  float64\n",
      " 7   customer_affinity_score           10738 non-null  float64\n",
      " 8   customer_active_segment           10715 non-null  object \n",
      " 9   X1                                10701 non-null  object \n",
      " 10  customer_category                 10738 non-null  int64  \n",
      "dtypes: float64(8), int64(1), object(2)\n",
      "memory usage: 1006.7+ KB\n"
     ]
    }
   ],
   "source": [
    "train.info()"
   ]
  },
  {
   "cell_type": "code",
   "execution_count": 19,
   "metadata": {},
   "outputs": [
    {
     "name": "stdout",
     "output_type": "stream",
     "text": [
      "<class 'pandas.core.frame.DataFrame'>\n",
      "Index: 7160 entries, csid_10739 to csid_17898\n",
      "Data columns (total 10 columns):\n",
      " #   Column                            Non-Null Count  Dtype  \n",
      "---  ------                            --------------  -----  \n",
      " 0   customer_visit_score              7160 non-null   float64\n",
      " 1   customer_product_search_score     7131 non-null   float64\n",
      " 2   customer_ctr_score                7160 non-null   float64\n",
      " 3   customer_stay_score               7144 non-null   float64\n",
      " 4   customer_frequency_score          7160 non-null   float64\n",
      " 5   customer_product_variation_score  7117 non-null   float64\n",
      " 6   customer_order_score              7119 non-null   float64\n",
      " 7   customer_affinity_score           7160 non-null   float64\n",
      " 8   customer_active_segment           7148 non-null   object \n",
      " 9   X1                                7135 non-null   object \n",
      "dtypes: float64(8), object(2)\n",
      "memory usage: 615.3+ KB\n"
     ]
    }
   ],
   "source": [
    "test.info()"
   ]
  },
  {
   "cell_type": "code",
   "execution_count": 20,
   "metadata": {},
   "outputs": [
    {
     "data": {
      "text/plain": [
       "customer_visit_score                 0\n",
       "customer_product_search_score       42\n",
       "customer_ctr_score                   0\n",
       "customer_stay_score                 37\n",
       "customer_frequency_score             0\n",
       "customer_product_variation_score    46\n",
       "customer_order_score                66\n",
       "customer_affinity_score              0\n",
       "customer_active_segment             23\n",
       "X1                                  37\n",
       "customer_category                    0\n",
       "dtype: int64"
      ]
     },
     "execution_count": 20,
     "metadata": {},
     "output_type": "execute_result"
    }
   ],
   "source": [
    "train.isnull().sum()"
   ]
  },
  {
   "cell_type": "code",
   "execution_count": 21,
   "metadata": {},
   "outputs": [
    {
     "data": {
      "text/plain": [
       "customer_visit_score                 0\n",
       "customer_product_search_score       29\n",
       "customer_ctr_score                   0\n",
       "customer_stay_score                 16\n",
       "customer_frequency_score             0\n",
       "customer_product_variation_score    43\n",
       "customer_order_score                41\n",
       "customer_affinity_score              0\n",
       "customer_active_segment             12\n",
       "X1                                  25\n",
       "dtype: int64"
      ]
     },
     "execution_count": 21,
     "metadata": {},
     "output_type": "execute_result"
    }
   ],
   "source": [
    "test.isnull().sum()"
   ]
  },
  {
   "cell_type": "code",
   "execution_count": 22,
   "metadata": {},
   "outputs": [],
   "source": [
    "#!pip install pandas-profiling[notebook,html]"
   ]
  },
  {
   "cell_type": "code",
   "execution_count": 23,
   "metadata": {},
   "outputs": [],
   "source": [
    "import pandas_profiling"
   ]
  },
  {
   "cell_type": "code",
   "execution_count": 24,
   "metadata": {
    "scrolled": true
   },
   "outputs": [
    {
     "data": {
      "application/vnd.jupyter.widget-view+json": {
       "model_id": "c7ae25d2825e43809c564ceab7faf4c2",
       "version_major": 2,
       "version_minor": 0
      },
      "text/plain": [
       "Tab(children=(HTML(value='<div id=\"overview-content\" class=\"row variable spacing\">\\n    <div class=\"row\">\\n   …"
      ]
     },
     "metadata": {},
     "output_type": "display_data"
    },
    {
     "data": {
      "text/html": [
       "Report generated with <a href=\"https://github.com/pandas-profiling/pandas-profiling\">pandas-profiling</a>."
      ],
      "text/plain": [
       "<IPython.core.display.HTML object>"
      ]
     },
     "metadata": {},
     "output_type": "display_data"
    },
    {
     "data": {
      "text/plain": []
     },
     "execution_count": 24,
     "metadata": {},
     "output_type": "execute_result"
    }
   ],
   "source": [
    "#pandas_profiling.ProfileReport(train)"
   ]
  },
  {
   "cell_type": "code",
   "execution_count": 25,
   "metadata": {},
   "outputs": [],
   "source": [
    "for col in ['customer_active_segment','X1','customer_category']:\n",
    "    train[col] = train[col].astype('category')"
   ]
  },
  {
   "cell_type": "code",
   "execution_count": 26,
   "metadata": {},
   "outputs": [],
   "source": [
    "for col in ['customer_active_segment','X1']:\n",
    "    test[col] = test[col].astype('category')"
   ]
  },
  {
   "cell_type": "code",
   "execution_count": 27,
   "metadata": {},
   "outputs": [],
   "source": [
    "cat_attr = list(train.select_dtypes(\"category\").columns)\n",
    "num_attr = list(train.columns.difference(cat_attr))"
   ]
  },
  {
   "cell_type": "code",
   "execution_count": 28,
   "metadata": {},
   "outputs": [
    {
     "data": {
      "text/plain": [
       "['customer_active_segment', 'X1', 'customer_category']"
      ]
     },
     "execution_count": 28,
     "metadata": {},
     "output_type": "execute_result"
    }
   ],
   "source": [
    "cat_attr"
   ]
  },
  {
   "cell_type": "code",
   "execution_count": 29,
   "metadata": {},
   "outputs": [
    {
     "data": {
      "text/plain": [
       "['customer_affinity_score',\n",
       " 'customer_ctr_score',\n",
       " 'customer_frequency_score',\n",
       " 'customer_order_score',\n",
       " 'customer_product_search_score',\n",
       " 'customer_product_variation_score',\n",
       " 'customer_stay_score',\n",
       " 'customer_visit_score']"
      ]
     },
     "execution_count": 29,
     "metadata": {},
     "output_type": "execute_result"
    }
   ],
   "source": [
    "num_attr"
   ]
  },
  {
   "cell_type": "code",
   "execution_count": 30,
   "metadata": {},
   "outputs": [
    {
     "data": {
      "text/plain": [
       "customer_visit_score                 float64\n",
       "customer_product_search_score        float64\n",
       "customer_ctr_score                   float64\n",
       "customer_stay_score                  float64\n",
       "customer_frequency_score             float64\n",
       "customer_product_variation_score     float64\n",
       "customer_order_score                 float64\n",
       "customer_affinity_score              float64\n",
       "customer_active_segment             category\n",
       "X1                                  category\n",
       "customer_category                   category\n",
       "dtype: object"
      ]
     },
     "execution_count": 30,
     "metadata": {},
     "output_type": "execute_result"
    }
   ],
   "source": [
    "train.dtypes"
   ]
  },
  {
   "cell_type": "code",
   "execution_count": 31,
   "metadata": {},
   "outputs": [
    {
     "data": {
      "text/plain": [
       "customer_visit_score                 float64\n",
       "customer_product_search_score        float64\n",
       "customer_ctr_score                   float64\n",
       "customer_stay_score                  float64\n",
       "customer_frequency_score             float64\n",
       "customer_product_variation_score     float64\n",
       "customer_order_score                 float64\n",
       "customer_affinity_score              float64\n",
       "customer_active_segment             category\n",
       "X1                                  category\n",
       "dtype: object"
      ]
     },
     "execution_count": 31,
     "metadata": {},
     "output_type": "execute_result"
    }
   ],
   "source": [
    "test.dtypes"
   ]
  },
  {
   "cell_type": "markdown",
   "metadata": {},
   "source": [
    "## EDA"
   ]
  },
  {
   "cell_type": "code",
   "execution_count": 32,
   "metadata": {},
   "outputs": [
    {
     "data": {
      "image/png": "[encoded data removed]",
      "text/plain": [
       "<Figure size 576x396 with 1 Axes>"
      ]
     },
     "metadata": {},
     "output_type": "display_data"
    },
    {
     "data": {
      "text/plain": [
       "0    87.940026\n",
       "1    12.059974\n",
       "Name: customer_category, dtype: float64"
      ]
     },
     "execution_count": 32,
     "metadata": {},
     "output_type": "execute_result"
    }
   ],
   "source": [
    "sns.countplot(x='customer_category',data = train)\n",
    "plt.show()\n",
    "\n",
    "train.customer_category.value_counts(normalize = True)*100"
   ]
  },
  {
   "cell_type": "code",
   "execution_count": 33,
   "metadata": {},
   "outputs": [
    {
     "data": {
      "text/plain": [
       "<seaborn.axisgrid.FacetGrid at 0x7fbf1ee46d90>"
      ]
     },
     "execution_count": 33,
     "metadata": {},
     "output_type": "execute_result"
    },
    {
     "data": {
      "image/png": "[encoded data removed]",
      "text/plain": [
       "<Figure size 447.625x360 with 1 Axes>"
      ]
     },
     "metadata": {},
     "output_type": "display_data"
    }
   ],
   "source": [
    "sns.factorplot('X1',data = train, hue = 'customer_category',kind = 'count')"
   ]
  },
  {
   "cell_type": "code",
   "execution_count": 34,
   "metadata": {},
   "outputs": [
    {
     "data": {
      "text/plain": [
       "<seaborn.axisgrid.FacetGrid at 0x7fbf20da4c10>"
      ]
     },
     "execution_count": 34,
     "metadata": {},
     "output_type": "execute_result"
    },
    {
     "data": {
      "image/png": "[encoded data removed]",
      "text/plain": [
       "<Figure size 447.625x360 with 1 Axes>"
      ]
     },
     "metadata": {},
     "output_type": "display_data"
    }
   ],
   "source": [
    "sns.factorplot('customer_active_segment',data = train, hue = 'customer_category',kind = 'count')"
   ]
  },
  {
   "cell_type": "code",
   "execution_count": 35,
   "metadata": {},
   "outputs": [
    {
     "data": {
      "image/png": "[encoded data removed]",
      "text/plain": [
       "<Figure size 576x432 with 1 Axes>"
      ]
     },
     "metadata": {},
     "output_type": "display_data"
    }
   ],
   "source": [
    "box = train.boxplot(column=['customer_frequency_score', 'customer_product_variation_score', 'customer_affinity_score'], figsize=(8,6))"
   ]
  },
  {
   "cell_type": "code",
   "execution_count": 36,
   "metadata": {},
   "outputs": [
    {
     "data": {
      "image/png": "[encoded data removed]",
      "text/plain": [
       "<Figure size 576x432 with 1 Axes>"
      ]
     },
     "metadata": {},
     "output_type": "display_data"
    }
   ],
   "source": [
    "box = train.boxplot(column=['customer_visit_score', 'customer_stay_score', 'customer_ctr_score'], figsize=(8,6))"
   ]
  },
  {
   "cell_type": "code",
   "execution_count": 37,
   "metadata": {},
   "outputs": [
    {
     "data": {
      "image/png": "[encoded data removed]",
      "text/plain": [
       "<Figure size 576x432 with 1 Axes>"
      ]
     },
     "metadata": {},
     "output_type": "display_data"
    }
   ],
   "source": [
    "box = train.boxplot(column=['customer_product_search_score', 'customer_order_score'], figsize=(8,6))"
   ]
  },
  {
   "cell_type": "code",
   "execution_count": 38,
   "metadata": {},
   "outputs": [
    {
     "data": {
      "text/plain": [
       "BA    658\n",
       "F     577\n",
       "A      32\n",
       "AA     22\n",
       "E       2\n",
       "Name: X1, dtype: int64"
      ]
     },
     "execution_count": 38,
     "metadata": {},
     "output_type": "execute_result"
    },
    {
     "data": {
      "image/png": "[encoded data removed]",
      "text/plain": [
       "<Figure size 720x720 with 1 Axes>"
      ]
     },
     "metadata": {},
     "output_type": "display_data"
    }
   ],
   "source": [
    "count = train[train.customer_category == 1].X1.value_counts()\n",
    "count.head(10).plot(kind=\"bar\", figsize =(10,10))\n",
    "count.head(10)"
   ]
  },
  {
   "cell_type": "code",
   "execution_count": 39,
   "metadata": {},
   "outputs": [
    {
     "data": {
      "text/plain": [
       "C     624\n",
       "D     381\n",
       "B     284\n",
       "AA      2\n",
       "A       2\n",
       "Name: customer_active_segment, dtype: int64"
      ]
     },
     "execution_count": 39,
     "metadata": {},
     "output_type": "execute_result"
    },
    {
     "data": {
      "image/png": "[encoded data removed]",
      "text/plain": [
       "<Figure size 720x720 with 1 Axes>"
      ]
     },
     "metadata": {},
     "output_type": "display_data"
    }
   ],
   "source": [
    "count = train[train.customer_category == 1].customer_active_segment.value_counts()\n",
    "count.head(10).plot(kind=\"bar\", figsize =(10,10))\n",
    "count.head(10)"
   ]
  },
  {
   "cell_type": "code",
   "execution_count": 40,
   "metadata": {},
   "outputs": [
    {
     "data": {
      "text/plain": [
       "<matplotlib.axes._subplots.AxesSubplot at 0x7fbf2243df10>"
      ]
     },
     "execution_count": 40,
     "metadata": {},
     "output_type": "execute_result"
    },
    {
     "data": {
      "image/png": "[encoded data removed]",
      "text/plain": [
       "<Figure size 1440x720 with 2 Axes>"
      ]
     },
     "metadata": {},
     "output_type": "display_data"
    }
   ],
   "source": [
    "corrmat = train.corr()\n",
    "\n",
    "plt.subplots(figsize=(20, 10))\n",
    "sns.heatmap(corrmat, annot=True, cmap = 'summer_r')"
   ]
  },
  {
   "cell_type": "code",
   "execution_count": 41,
   "metadata": {},
   "outputs": [
    {
     "ename": "NameError",
     "evalue": "name 'traincat_attr' is not defined",
     "output_type": "error",
     "traceback": [
      "\u001b[0;31m---------------------------------------------------------------------------\u001b[0m",
      "\u001b[0;31mNameError\u001b[0m                                 Traceback (most recent call last)",
      "\u001b[0;32m<ipython-input-41-96722e206ded>\u001b[0m in \u001b[0;36m<module>\u001b[0;34m\u001b[0m\n\u001b[0;32m----> 1\u001b[0;31m \u001b[0mtraincat_attr\u001b[0m\u001b[0;34m.\u001b[0m\u001b[0mpop\u001b[0m\u001b[0;34m(\u001b[0m\u001b[0;36m0\u001b[0m\u001b[0;34m)\u001b[0m\u001b[0;34m\u001b[0m\u001b[0;34m\u001b[0m\u001b[0m\n\u001b[0m",
      "\u001b[0;31mNameError\u001b[0m: name 'traincat_attr' is not defined"
     ]
    }
   ],
   "source": [
    "traincat_attr.pop(0)"
   ]
  },
  {
   "cell_type": "code",
   "execution_count": 42,
   "metadata": {},
   "outputs": [
    {
     "data": {
      "text/plain": [
       "customer_visit_score                 float64\n",
       "customer_product_search_score        float64\n",
       "customer_ctr_score                   float64\n",
       "customer_stay_score                  float64\n",
       "customer_frequency_score             float64\n",
       "customer_product_variation_score     float64\n",
       "customer_order_score                 float64\n",
       "customer_affinity_score              float64\n",
       "customer_active_segment             category\n",
       "X1                                  category\n",
       "customer_category                   category\n",
       "dtype: object"
      ]
     },
     "execution_count": 42,
     "metadata": {},
     "output_type": "execute_result"
    }
   ],
   "source": [
    "train.dtypes"
   ]
  },
  {
   "cell_type": "markdown",
   "metadata": {},
   "source": [
    "### Label Encoding"
   ]
  },
  {
   "cell_type": "code",
   "execution_count": 43,
   "metadata": {},
   "outputs": [],
   "source": [
    "lb = LabelEncoder()"
   ]
  },
  {
   "cell_type": "code",
   "execution_count": 44,
   "metadata": {},
   "outputs": [],
   "source": [
    "for col in ['X1']:\n",
    "    train[col] = train[col].astype('str')"
   ]
  },
  {
   "cell_type": "code",
   "execution_count": 45,
   "metadata": {},
   "outputs": [],
   "source": [
    "for col in ['X1']:\n",
    "    test[col] = test[col].astype('str')"
   ]
  },
  {
   "cell_type": "code",
   "execution_count": 46,
   "metadata": {},
   "outputs": [],
   "source": [
    "train['X1'] = lb.fit_transform(train['X1'])"
   ]
  },
  {
   "cell_type": "code",
   "execution_count": 47,
   "metadata": {},
   "outputs": [],
   "source": [
    "test['X1'] = lb.fit_transform(test['X1'])"
   ]
  },
  {
   "cell_type": "code",
   "execution_count": 48,
   "metadata": {},
   "outputs": [],
   "source": [
    "for col in ['customer_active_segment']:\n",
    "    train[col] = train[col].astype('str')"
   ]
  },
  {
   "cell_type": "code",
   "execution_count": 49,
   "metadata": {},
   "outputs": [],
   "source": [
    "for col in ['customer_active_segment']:\n",
    "    test[col] = test[col].astype('str')"
   ]
  },
  {
   "cell_type": "code",
   "execution_count": 50,
   "metadata": {},
   "outputs": [],
   "source": [
    "train['customer_active_segment'] = lb.fit_transform(train['customer_active_segment'])"
   ]
  },
  {
   "cell_type": "code",
   "execution_count": 51,
   "metadata": {},
   "outputs": [],
   "source": [
    "test['customer_active_segment'] = lb.fit_transform(test['customer_active_segment'])"
   ]
  },
  {
   "cell_type": "code",
   "execution_count": 52,
   "metadata": {},
   "outputs": [
    {
     "data": {
      "text/html": [
       "<div>\n",
       "<style scoped>\n",
       "    .dataframe tbody tr th:only-of-type {\n",
       "        vertical-align: middle;\n",
       "    }\n",
       "\n",
       "    .dataframe tbody tr th {\n",
       "        vertical-align: top;\n",
       "    }\n",
       "\n",
       "    .dataframe thead th {\n",
       "        text-align: right;\n",
       "    }\n",
       "</style>\n",
       "<table border=\"1\" class=\"dataframe\">\n",
       "  <thead>\n",
       "    <tr style=\"text-align: right;\">\n",
       "      <th></th>\n",
       "      <th>customer_visit_score</th>\n",
       "      <th>customer_product_search_score</th>\n",
       "      <th>customer_ctr_score</th>\n",
       "      <th>customer_stay_score</th>\n",
       "      <th>customer_frequency_score</th>\n",
       "      <th>customer_product_variation_score</th>\n",
       "      <th>customer_order_score</th>\n",
       "      <th>customer_affinity_score</th>\n",
       "      <th>customer_active_segment</th>\n",
       "      <th>X1</th>\n",
       "      <th>customer_category</th>\n",
       "    </tr>\n",
       "    <tr>\n",
       "      <th>customer_id</th>\n",
       "      <th></th>\n",
       "      <th></th>\n",
       "      <th></th>\n",
       "      <th></th>\n",
       "      <th></th>\n",
       "      <th></th>\n",
       "      <th></th>\n",
       "      <th></th>\n",
       "      <th></th>\n",
       "      <th></th>\n",
       "      <th></th>\n",
       "    </tr>\n",
       "  </thead>\n",
       "  <tbody>\n",
       "    <tr>\n",
       "      <th>csid_1</th>\n",
       "      <td>13.168425</td>\n",
       "      <td>9.447662</td>\n",
       "      <td>-0.070203</td>\n",
       "      <td>-0.139541</td>\n",
       "      <td>0.436956</td>\n",
       "      <td>4.705761</td>\n",
       "      <td>2.537985</td>\n",
       "      <td>7.959503</td>\n",
       "      <td>3</td>\n",
       "      <td>4</td>\n",
       "      <td>0</td>\n",
       "    </tr>\n",
       "    <tr>\n",
       "      <th>csid_2</th>\n",
       "      <td>17.092979</td>\n",
       "      <td>7.329056</td>\n",
       "      <td>0.153298</td>\n",
       "      <td>-0.102726</td>\n",
       "      <td>0.380340</td>\n",
       "      <td>4.205138</td>\n",
       "      <td>4.193444</td>\n",
       "      <td>17.517381</td>\n",
       "      <td>3</td>\n",
       "      <td>0</td>\n",
       "      <td>0</td>\n",
       "    </tr>\n",
       "  </tbody>\n",
       "</table>\n",
       "</div>"
      ],
      "text/plain": [
       "             customer_visit_score  customer_product_search_score  \\\n",
       "customer_id                                                        \n",
       "csid_1                  13.168425                       9.447662   \n",
       "csid_2                  17.092979                       7.329056   \n",
       "\n",
       "             customer_ctr_score  customer_stay_score  \\\n",
       "customer_id                                            \n",
       "csid_1                -0.070203            -0.139541   \n",
       "csid_2                 0.153298            -0.102726   \n",
       "\n",
       "             customer_frequency_score  customer_product_variation_score  \\\n",
       "customer_id                                                               \n",
       "csid_1                       0.436956                          4.705761   \n",
       "csid_2                       0.380340                          4.205138   \n",
       "\n",
       "             customer_order_score  customer_affinity_score  \\\n",
       "customer_id                                                  \n",
       "csid_1                   2.537985                 7.959503   \n",
       "csid_2                   4.193444                17.517381   \n",
       "\n",
       "             customer_active_segment  X1 customer_category  \n",
       "customer_id                                                 \n",
       "csid_1                             3   4                 0  \n",
       "csid_2                             3   0                 0  "
      ]
     },
     "execution_count": 52,
     "metadata": {},
     "output_type": "execute_result"
    }
   ],
   "source": [
    "train.head(2)"
   ]
  },
  {
   "cell_type": "code",
   "execution_count": 53,
   "metadata": {},
   "outputs": [
    {
     "data": {
      "text/plain": [
       "customer_visit_score                 0\n",
       "customer_product_search_score       42\n",
       "customer_ctr_score                   0\n",
       "customer_stay_score                 37\n",
       "customer_frequency_score             0\n",
       "customer_product_variation_score    46\n",
       "customer_order_score                66\n",
       "customer_affinity_score              0\n",
       "customer_active_segment              0\n",
       "X1                                   0\n",
       "customer_category                    0\n",
       "dtype: int64"
      ]
     },
     "execution_count": 53,
     "metadata": {},
     "output_type": "execute_result"
    }
   ],
   "source": [
    "train.isnull().sum()"
   ]
  },
  {
   "cell_type": "code",
   "execution_count": 54,
   "metadata": {},
   "outputs": [
    {
     "data": {
      "text/html": [
       "<div>\n",
       "<style scoped>\n",
       "    .dataframe tbody tr th:only-of-type {\n",
       "        vertical-align: middle;\n",
       "    }\n",
       "\n",
       "    .dataframe tbody tr th {\n",
       "        vertical-align: top;\n",
       "    }\n",
       "\n",
       "    .dataframe thead th {\n",
       "        text-align: right;\n",
       "    }\n",
       "</style>\n",
       "<table border=\"1\" class=\"dataframe\">\n",
       "  <thead>\n",
       "    <tr style=\"text-align: right;\">\n",
       "      <th></th>\n",
       "      <th>customer_visit_score</th>\n",
       "      <th>customer_product_search_score</th>\n",
       "      <th>customer_ctr_score</th>\n",
       "      <th>customer_stay_score</th>\n",
       "      <th>customer_frequency_score</th>\n",
       "      <th>customer_product_variation_score</th>\n",
       "      <th>customer_order_score</th>\n",
       "      <th>customer_affinity_score</th>\n",
       "      <th>customer_active_segment</th>\n",
       "      <th>X1</th>\n",
       "    </tr>\n",
       "    <tr>\n",
       "      <th>customer_id</th>\n",
       "      <th></th>\n",
       "      <th></th>\n",
       "      <th></th>\n",
       "      <th></th>\n",
       "      <th></th>\n",
       "      <th></th>\n",
       "      <th></th>\n",
       "      <th></th>\n",
       "      <th></th>\n",
       "      <th></th>\n",
       "    </tr>\n",
       "  </thead>\n",
       "  <tbody>\n",
       "    <tr>\n",
       "      <th>csid_10739</th>\n",
       "      <td>22.500174</td>\n",
       "      <td>3.702145</td>\n",
       "      <td>0.118811</td>\n",
       "      <td>0.093253</td>\n",
       "      <td>0.689237</td>\n",
       "      <td>5.786842</td>\n",
       "      <td>3.748009</td>\n",
       "      <td>7.661716</td>\n",
       "      <td>2</td>\n",
       "      <td>2</td>\n",
       "    </tr>\n",
       "    <tr>\n",
       "      <th>csid_10740</th>\n",
       "      <td>13.225950</td>\n",
       "      <td>3.600102</td>\n",
       "      <td>0.130985</td>\n",
       "      <td>0.053575</td>\n",
       "      <td>0.142756</td>\n",
       "      <td>3.940359</td>\n",
       "      <td>3.469659</td>\n",
       "      <td>33.999679</td>\n",
       "      <td>2</td>\n",
       "      <td>1</td>\n",
       "    </tr>\n",
       "  </tbody>\n",
       "</table>\n",
       "</div>"
      ],
      "text/plain": [
       "             customer_visit_score  customer_product_search_score  \\\n",
       "customer_id                                                        \n",
       "csid_10739              22.500174                       3.702145   \n",
       "csid_10740              13.225950                       3.600102   \n",
       "\n",
       "             customer_ctr_score  customer_stay_score  \\\n",
       "customer_id                                            \n",
       "csid_10739             0.118811             0.093253   \n",
       "csid_10740             0.130985             0.053575   \n",
       "\n",
       "             customer_frequency_score  customer_product_variation_score  \\\n",
       "customer_id                                                               \n",
       "csid_10739                   0.689237                          5.786842   \n",
       "csid_10740                   0.142756                          3.940359   \n",
       "\n",
       "             customer_order_score  customer_affinity_score  \\\n",
       "customer_id                                                  \n",
       "csid_10739               3.748009                 7.661716   \n",
       "csid_10740               3.469659                33.999679   \n",
       "\n",
       "             customer_active_segment  X1  \n",
       "customer_id                               \n",
       "csid_10739                         2   2  \n",
       "csid_10740                         2   1  "
      ]
     },
     "execution_count": 54,
     "metadata": {},
     "output_type": "execute_result"
    }
   ],
   "source": [
    "test.head(2)"
   ]
  },
  {
   "cell_type": "code",
   "execution_count": 55,
   "metadata": {},
   "outputs": [
    {
     "data": {
      "text/plain": [
       "customer_visit_score                 0\n",
       "customer_product_search_score       29\n",
       "customer_ctr_score                   0\n",
       "customer_stay_score                 16\n",
       "customer_frequency_score             0\n",
       "customer_product_variation_score    43\n",
       "customer_order_score                41\n",
       "customer_affinity_score              0\n",
       "customer_active_segment              0\n",
       "X1                                   0\n",
       "dtype: int64"
      ]
     },
     "execution_count": 55,
     "metadata": {},
     "output_type": "execute_result"
    }
   ],
   "source": [
    "test.isnull().sum()"
   ]
  },
  {
   "cell_type": "code",
   "execution_count": 56,
   "metadata": {},
   "outputs": [],
   "source": [
    "imputer = SimpleImputer(strategy='median')\n",
    "imputer = imputer.fit(train[num_attr])\n",
    "\n",
    "train[num_attr] = imputer.transform(train[num_attr])\n",
    "test[num_attr] = imputer.transform(test[num_attr])"
   ]
  },
  {
   "cell_type": "markdown",
   "metadata": {},
   "source": [
    "imputer = SimpleImputer(strategy='most_frequent')\n",
    "imputer = imputer.fit(train[cat_attr])\n",
    "\n",
    "train[cat_attr] = imputer.transform(train[cat_attr])\n",
    "test[cat_attr] = imputer.transform(test[cat_attr])"
   ]
  },
  {
   "cell_type": "code",
   "execution_count": 57,
   "metadata": {},
   "outputs": [
    {
     "data": {
      "text/plain": [
       "array([12.65335707,  0.07407814,  0.51682994,  3.11839417,  5.21847929,\n",
       "        4.84257459,  0.03720079, 18.77410921])"
      ]
     },
     "execution_count": 57,
     "metadata": {},
     "output_type": "execute_result"
    }
   ],
   "source": [
    "imputer.statistics_"
   ]
  },
  {
   "cell_type": "code",
   "execution_count": 58,
   "metadata": {},
   "outputs": [
    {
     "data": {
      "text/plain": [
       "customer_visit_score                0\n",
       "customer_product_search_score       0\n",
       "customer_ctr_score                  0\n",
       "customer_stay_score                 0\n",
       "customer_frequency_score            0\n",
       "customer_product_variation_score    0\n",
       "customer_order_score                0\n",
       "customer_affinity_score             0\n",
       "customer_active_segment             0\n",
       "X1                                  0\n",
       "customer_category                   0\n",
       "dtype: int64"
      ]
     },
     "execution_count": 58,
     "metadata": {},
     "output_type": "execute_result"
    }
   ],
   "source": [
    "train.isnull().sum()"
   ]
  },
  {
   "cell_type": "code",
   "execution_count": 59,
   "metadata": {},
   "outputs": [
    {
     "data": {
      "text/plain": [
       "customer_visit_score                0\n",
       "customer_product_search_score       0\n",
       "customer_ctr_score                  0\n",
       "customer_stay_score                 0\n",
       "customer_frequency_score            0\n",
       "customer_product_variation_score    0\n",
       "customer_order_score                0\n",
       "customer_affinity_score             0\n",
       "customer_active_segment             0\n",
       "X1                                  0\n",
       "dtype: int64"
      ]
     },
     "execution_count": 59,
     "metadata": {},
     "output_type": "execute_result"
    }
   ],
   "source": [
    "test.isnull().sum()"
   ]
  },
  {
   "cell_type": "code",
   "execution_count": 60,
   "metadata": {},
   "outputs": [
    {
     "data": {
      "text/plain": [
       "((10738, 11), (7160, 10))"
      ]
     },
     "execution_count": 60,
     "metadata": {},
     "output_type": "execute_result"
    }
   ],
   "source": [
    "train.shape, test.shape"
   ]
  },
  {
   "cell_type": "code",
   "execution_count": 61,
   "metadata": {},
   "outputs": [],
   "source": [
    "X, y = train.loc[:,train.columns!='customer_category'], train.loc[:,'customer_category']\n",
    "X_train, X_test, y_train, y_test = train_test_split(X, y, test_size=0.3, stratify =y,random_state=3)"
   ]
  },
  {
   "cell_type": "code",
   "execution_count": 62,
   "metadata": {},
   "outputs": [
    {
     "data": {
      "text/plain": [
       "((7516, 10), (3222, 10), (7516,), (3222,))"
      ]
     },
     "execution_count": 62,
     "metadata": {},
     "output_type": "execute_result"
    }
   ],
   "source": [
    "X_train.shape, X_test.shape, y_train.shape, y_test.shape"
   ]
  },
  {
   "cell_type": "markdown",
   "metadata": {},
   "source": [
    "#### Logistic Regression"
   ]
  },
  {
   "cell_type": "code",
   "execution_count": 63,
   "metadata": {},
   "outputs": [
    {
     "data": {
      "text/plain": [
       "LogisticRegression(C=1.0, class_weight=None, dual=False, fit_intercept=True,\n",
       "                   intercept_scaling=1, l1_ratio=None, max_iter=100,\n",
       "                   multi_class='auto', n_jobs=None, penalty='l2',\n",
       "                   random_state=None, solver='lbfgs', tol=0.0001, verbose=0,\n",
       "                   warm_start=False)"
      ]
     },
     "execution_count": 63,
     "metadata": {},
     "output_type": "execute_result"
    }
   ],
   "source": [
    "logreg = LogisticRegression()\n",
    "logreg.fit(X_train, y_train)"
   ]
  },
  {
   "cell_type": "code",
   "execution_count": 64,
   "metadata": {},
   "outputs": [],
   "source": [
    "train_pred = logreg.predict(X_train)\n",
    "test_pred = logreg.predict(X_test)"
   ]
  },
  {
   "cell_type": "code",
   "execution_count": 65,
   "metadata": {},
   "outputs": [
    {
     "name": "stdout",
     "output_type": "stream",
     "text": [
      "Confusion matrix \n",
      "\n",
      "[[2813   20]\n",
      " [  78  311]]\n",
      "********************************************************************************\n",
      "\n",
      "\n",
      "Classification report \n",
      "\n",
      "              precision    recall  f1-score   support\n",
      "\n",
      "           0       0.98      1.00      0.99      6610\n",
      "           1       0.96      0.82      0.89       906\n",
      "\n",
      "    accuracy                           0.97      7516\n",
      "   macro avg       0.97      0.91      0.94      7516\n",
      "weighted avg       0.97      0.97      0.97      7516\n",
      "\n",
      "              precision    recall  f1-score   support\n",
      "\n",
      "           0       0.97      0.99      0.98      2833\n",
      "           1       0.94      0.80      0.86       389\n",
      "\n",
      "    accuracy                           0.97      3222\n",
      "   macro avg       0.96      0.90      0.92      3222\n",
      "weighted avg       0.97      0.97      0.97      3222\n",
      "\n"
     ]
    }
   ],
   "source": [
    "print('Confusion matrix \\n')\n",
    "print(metrics.confusion_matrix(y_test,test_pred))\n",
    "print('*'*80)\n",
    "print('\\n')\n",
    "print('Classification report \\n')\n",
    "print(metrics.classification_report(y_train, train_pred))\n",
    "print(metrics.classification_report(y_test,test_pred))"
   ]
  },
  {
   "cell_type": "code",
   "execution_count": 66,
   "metadata": {},
   "outputs": [
    {
     "data": {
      "text/plain": [
       "array([0, 0, 0, ..., 0, 0, 1])"
      ]
     },
     "execution_count": 66,
     "metadata": {},
     "output_type": "execute_result"
    }
   ],
   "source": [
    "model1_log = logreg.predict(test)\n",
    "model1_log"
   ]
  },
  {
   "cell_type": "code",
   "execution_count": 67,
   "metadata": {},
   "outputs": [],
   "source": [
    "df  = pd.read_csv(\"test.csv\")"
   ]
  },
  {
   "cell_type": "code",
   "execution_count": 68,
   "metadata": {},
   "outputs": [
    {
     "data": {
      "text/plain": [
       "(7160, 2)"
      ]
     },
     "execution_count": 68,
     "metadata": {},
     "output_type": "execute_result"
    }
   ],
   "source": [
    "DF = pd.DataFrame(list(zip(df['customer_id'],model1_log)),columns=['customer_id','customer_category'])\n",
    "DF.to_csv(\"Log.csv\",index=False)\n",
    "DF.shape"
   ]
  },
  {
   "cell_type": "markdown",
   "metadata": {},
   "source": [
    "#### Decision Tree"
   ]
  },
  {
   "cell_type": "code",
   "execution_count": 69,
   "metadata": {},
   "outputs": [
    {
     "data": {
      "text/plain": [
       "DecisionTreeClassifier(ccp_alpha=0.0, class_weight=None, criterion='gini',\n",
       "                       max_depth=None, max_features=None, max_leaf_nodes=None,\n",
       "                       min_impurity_decrease=0.0, min_impurity_split=None,\n",
       "                       min_samples_leaf=1, min_samples_split=2,\n",
       "                       min_weight_fraction_leaf=0.0, presort='deprecated',\n",
       "                       random_state=None, splitter='best')"
      ]
     },
     "execution_count": 69,
     "metadata": {},
     "output_type": "execute_result"
    }
   ],
   "source": [
    "dt = DecisionTreeClassifier()\n",
    "dt.fit(X_train, y_train)"
   ]
  },
  {
   "cell_type": "code",
   "execution_count": 70,
   "metadata": {},
   "outputs": [
    {
     "data": {
      "text/plain": [
       "dict_keys(['ccp_alpha', 'class_weight', 'criterion', 'max_depth', 'max_features', 'max_leaf_nodes', 'min_impurity_decrease', 'min_impurity_split', 'min_samples_leaf', 'min_samples_split', 'min_weight_fraction_leaf', 'presort', 'random_state', 'splitter'])"
      ]
     },
     "execution_count": 70,
     "metadata": {},
     "output_type": "execute_result"
    }
   ],
   "source": [
    "dt.get_params().keys()"
   ]
  },
  {
   "cell_type": "code",
   "execution_count": 71,
   "metadata": {},
   "outputs": [],
   "source": [
    "dt_params = {'criterion': ['entropy', 'gini'],\n",
    "             'max_depth': [6,8,9,10],\n",
    "             'min_samples_split': [2, 3, 4],\n",
    "             'min_samples_leaf': [1, 2, 3],\n",
    "             'class_weight':['balanced']}"
   ]
  },
  {
   "cell_type": "code",
   "execution_count": 72,
   "metadata": {},
   "outputs": [],
   "source": [
    "dt_grid = GridSearchCV(dt, param_grid=dt_params, cv=10, scoring = 'precision_macro')"
   ]
  },
  {
   "cell_type": "code",
   "execution_count": 73,
   "metadata": {},
   "outputs": [
    {
     "name": "stdout",
     "output_type": "stream",
     "text": [
      "CPU times: user 40.8 s, sys: 416 ms, total: 41.3 s\n",
      "Wall time: 49.4 s\n"
     ]
    },
    {
     "data": {
      "text/plain": [
       "GridSearchCV(cv=10, error_score=nan,\n",
       "             estimator=DecisionTreeClassifier(ccp_alpha=0.0, class_weight=None,\n",
       "                                              criterion='gini', max_depth=None,\n",
       "                                              max_features=None,\n",
       "                                              max_leaf_nodes=None,\n",
       "                                              min_impurity_decrease=0.0,\n",
       "                                              min_impurity_split=None,\n",
       "                                              min_samples_leaf=1,\n",
       "                                              min_samples_split=2,\n",
       "                                              min_weight_fraction_leaf=0.0,\n",
       "                                              presort='deprecated',\n",
       "                                              random_state=None,\n",
       "                                              splitter='best'),\n",
       "             iid='deprecated', n_jobs=None,\n",
       "             param_grid={'class_weight': ['balanced'],\n",
       "                         'criterion': ['entropy', 'gini'],\n",
       "                         'max_depth': [6, 8, 9, 10],\n",
       "                         'min_samples_leaf': [1, 2, 3],\n",
       "                         'min_samples_split': [2, 3, 4]},\n",
       "             pre_dispatch='2*n_jobs', refit=True, return_train_score=False,\n",
       "             scoring='precision_macro', verbose=0)"
      ]
     },
     "execution_count": 73,
     "metadata": {},
     "output_type": "execute_result"
    }
   ],
   "source": [
    "%%time\n",
    "dt_grid.fit(X_train,y_train)"
   ]
  },
  {
   "cell_type": "code",
   "execution_count": 74,
   "metadata": {},
   "outputs": [
    {
     "data": {
      "text/plain": [
       "{'class_weight': 'balanced',\n",
       " 'criterion': 'entropy',\n",
       " 'max_depth': 6,\n",
       " 'min_samples_leaf': 3,\n",
       " 'min_samples_split': 2}"
      ]
     },
     "execution_count": 74,
     "metadata": {},
     "output_type": "execute_result"
    }
   ],
   "source": [
    "dt_grid.best_params_"
   ]
  },
  {
   "cell_type": "code",
   "execution_count": 75,
   "metadata": {},
   "outputs": [],
   "source": [
    "train_pred = dt_grid.predict(X_train)\n",
    "test_pred = dt_grid.predict(X_test)"
   ]
  },
  {
   "cell_type": "code",
   "execution_count": 76,
   "metadata": {},
   "outputs": [
    {
     "name": "stdout",
     "output_type": "stream",
     "text": [
      "0.9258707449741816\n",
      "0.8866611086206968\n",
      "\n",
      "\n",
      "[[6475  135]\n",
      " [  65  841]]\n"
     ]
    },
    {
     "data": {
      "text/plain": [
       "array([[2744,   89],\n",
       "       [  51,  338]])"
      ]
     },
     "execution_count": 76,
     "metadata": {},
     "output_type": "execute_result"
    }
   ],
   "source": [
    "print(dt_grid.score(X_train, y_train))\n",
    "print(dt_grid.score(X_test, y_test))\n",
    "print(\"\\n\")\n",
    "print(confusion_matrix(y_true=y_train, y_pred = train_pred))\n",
    "\n",
    "confusion_matrix_test = confusion_matrix(y_true=y_test, y_pred =  test_pred)\n",
    "confusion_matrix_test"
   ]
  },
  {
   "cell_type": "code",
   "execution_count": 77,
   "metadata": {},
   "outputs": [
    {
     "name": "stdout",
     "output_type": "stream",
     "text": [
      "Classification report \n",
      "\n",
      "              precision    recall  f1-score   support\n",
      "\n",
      "           0       0.99      0.98      0.98      6610\n",
      "           1       0.86      0.93      0.89       906\n",
      "\n",
      "    accuracy                           0.97      7516\n",
      "   macro avg       0.93      0.95      0.94      7516\n",
      "weighted avg       0.97      0.97      0.97      7516\n",
      "\n",
      "              precision    recall  f1-score   support\n",
      "\n",
      "           0       0.98      0.97      0.98      2833\n",
      "           1       0.79      0.87      0.83       389\n",
      "\n",
      "    accuracy                           0.96      3222\n",
      "   macro avg       0.89      0.92      0.90      3222\n",
      "weighted avg       0.96      0.96      0.96      3222\n",
      "\n"
     ]
    }
   ],
   "source": [
    "print('Classification report \\n')\n",
    "print(metrics.classification_report(y_train, train_pred))\n",
    "print(metrics.classification_report(y_test,test_pred))"
   ]
  },
  {
   "cell_type": "code",
   "execution_count": 78,
   "metadata": {},
   "outputs": [
    {
     "data": {
      "text/plain": [
       "array([0, 0, 0, ..., 0, 0, 1])"
      ]
     },
     "execution_count": 78,
     "metadata": {},
     "output_type": "execute_result"
    }
   ],
   "source": [
    "model2_dt = dt_grid.predict(test)\n",
    "model2_dt"
   ]
  },
  {
   "cell_type": "code",
   "execution_count": 79,
   "metadata": {},
   "outputs": [],
   "source": [
    "df  = pd.read_csv(\"test.csv\")"
   ]
  },
  {
   "cell_type": "code",
   "execution_count": 80,
   "metadata": {},
   "outputs": [
    {
     "data": {
      "text/plain": [
       "(7160, 2)"
      ]
     },
     "execution_count": 80,
     "metadata": {},
     "output_type": "execute_result"
    }
   ],
   "source": [
    "DF = pd.DataFrame(list(zip(df['customer_id'],model2_dt)),columns=['customer_id','customer_category'])\n",
    "DF.to_csv(\"DT.csv\",index=False)\n",
    "DF.shape"
   ]
  },
  {
   "cell_type": "markdown",
   "metadata": {},
   "source": [
    "#### Understanding the important features"
   ]
  },
  {
   "cell_type": "code",
   "execution_count": 81,
   "metadata": {},
   "outputs": [
    {
     "data": {
      "text/plain": [
       "array([1.73636650e-02, 2.38630152e-02, 8.05678963e-01, 4.22794817e-02,\n",
       "       2.37341142e-02, 3.50062809e-02, 8.62331885e-03, 3.94679973e-02,\n",
       "       3.35564419e-03, 6.27519345e-04])"
      ]
     },
     "execution_count": 81,
     "metadata": {},
     "output_type": "execute_result"
    }
   ],
   "source": [
    "dt.feature_importances_"
   ]
  },
  {
   "cell_type": "code",
   "execution_count": 82,
   "metadata": {},
   "outputs": [
    {
     "data": {
      "text/html": [
       "<div>\n",
       "<style scoped>\n",
       "    .dataframe tbody tr th:only-of-type {\n",
       "        vertical-align: middle;\n",
       "    }\n",
       "\n",
       "    .dataframe tbody tr th {\n",
       "        vertical-align: top;\n",
       "    }\n",
       "\n",
       "    .dataframe thead th {\n",
       "        text-align: right;\n",
       "    }\n",
       "</style>\n",
       "<table border=\"1\" class=\"dataframe\">\n",
       "  <thead>\n",
       "    <tr style=\"text-align: right;\">\n",
       "      <th></th>\n",
       "      <th>0</th>\n",
       "      <th>1</th>\n",
       "      <th>2</th>\n",
       "      <th>3</th>\n",
       "      <th>4</th>\n",
       "      <th>5</th>\n",
       "      <th>6</th>\n",
       "      <th>7</th>\n",
       "      <th>8</th>\n",
       "      <th>9</th>\n",
       "    </tr>\n",
       "  </thead>\n",
       "  <tbody>\n",
       "    <tr>\n",
       "      <th>0</th>\n",
       "      <td>customer_ctr_score</td>\n",
       "      <td>customer_stay_score</td>\n",
       "      <td>customer_affinity_score</td>\n",
       "      <td>customer_product_variation_score</td>\n",
       "      <td>customer_product_search_score</td>\n",
       "      <td>customer_frequency_score</td>\n",
       "      <td>customer_visit_score</td>\n",
       "      <td>customer_order_score</td>\n",
       "      <td>customer_active_segment</td>\n",
       "      <td>X1</td>\n",
       "    </tr>\n",
       "    <tr>\n",
       "      <th>1</th>\n",
       "      <td>0.805679</td>\n",
       "      <td>0.0422795</td>\n",
       "      <td>0.039468</td>\n",
       "      <td>0.0350063</td>\n",
       "      <td>0.023863</td>\n",
       "      <td>0.0237341</td>\n",
       "      <td>0.0173637</td>\n",
       "      <td>0.00862332</td>\n",
       "      <td>0.00335564</td>\n",
       "      <td>0.000627519</td>\n",
       "    </tr>\n",
       "  </tbody>\n",
       "</table>\n",
       "</div>"
      ],
      "text/plain": [
       "                    0                    1                        2  \\\n",
       "0  customer_ctr_score  customer_stay_score  customer_affinity_score   \n",
       "1            0.805679            0.0422795                 0.039468   \n",
       "\n",
       "                                  3                              4  \\\n",
       "0  customer_product_variation_score  customer_product_search_score   \n",
       "1                         0.0350063                       0.023863   \n",
       "\n",
       "                          5                     6                     7  \\\n",
       "0  customer_frequency_score  customer_visit_score  customer_order_score   \n",
       "1                 0.0237341             0.0173637            0.00862332   \n",
       "\n",
       "                         8            9  \n",
       "0  customer_active_segment           X1  \n",
       "1               0.00335564  0.000627519  "
      ]
     },
     "execution_count": 82,
     "metadata": {},
     "output_type": "execute_result"
    }
   ],
   "source": [
    "\n",
    "features = train.columns\n",
    "importances = dt.feature_importances_\n",
    "indices = np.argsort(importances)[::-1] # np.argsort returns the indices that would sort an array.\n",
    "pd.DataFrame([train.columns[indices],np.sort(importances)[::-1]])"
   ]
  },
  {
   "cell_type": "code",
   "execution_count": 83,
   "metadata": {},
   "outputs": [
    {
     "name": "stdout",
     "output_type": "stream",
     "text": [
      "Feature: 0, Score: 0.01614\n",
      "Feature: 1, Score: 0.00696\n",
      "Feature: 2, Score: 0.18244\n",
      "Feature: 3, Score: 0.31292\n",
      "Feature: 4, Score: 0.08641\n",
      "Feature: 5, Score: 0.00533\n",
      "Feature: 6, Score: 0.16931\n",
      "Feature: 7, Score: 0.03159\n",
      "Feature: 8, Score: 0.13680\n",
      "Feature: 9, Score: 0.05210\n"
     ]
    },
    {
     "data": {
      "image/png": "[encoded data removed]",
      "text/plain": [
       "<Figure size 576x396 with 1 Axes>"
      ]
     },
     "metadata": {},
     "output_type": "display_data"
    }
   ],
   "source": [
    "X, y = make_classification(n_samples=1000, n_features=10, n_informative=5, n_redundant=5, random_state=1)\n",
    "\n",
    "dt = DecisionTreeClassifier()\n",
    "\n",
    "dt.fit(X, y)\n",
    "\n",
    "importance = dt.feature_importances_\n",
    "\n",
    "for i,v in enumerate(importance):\n",
    "    print('Feature: %0d, Score: %.5f' % (i,v))\n",
    "\n",
    "pyplot.bar([x for x in range(len(importance))], importance)\n",
    "pyplot.show()"
   ]
  },
  {
   "cell_type": "code",
   "execution_count": 84,
   "metadata": {},
   "outputs": [],
   "source": [
    "select = indices[0:10]\n",
    "dt = tree.DecisionTreeClassifier(max_depth=3)\n",
    "dt = dt.fit(X_train.iloc[:,select], y_train)"
   ]
  },
  {
   "cell_type": "code",
   "execution_count": 85,
   "metadata": {},
   "outputs": [],
   "source": [
    "train_pred = dt.predict(X_train.iloc[:,select])\n",
    "test_pred = dt.predict(X_test.iloc[:,select])"
   ]
  },
  {
   "cell_type": "code",
   "execution_count": 86,
   "metadata": {},
   "outputs": [
    {
     "name": "stdout",
     "output_type": "stream",
     "text": [
      "Classification report \n",
      "\n",
      "              precision    recall  f1-score   support\n",
      "\n",
      "           0       0.98      0.99      0.99      6610\n",
      "           1       0.93      0.88      0.90       906\n",
      "\n",
      "    accuracy                           0.98      7516\n",
      "   macro avg       0.96      0.93      0.95      7516\n",
      "weighted avg       0.98      0.98      0.98      7516\n",
      "\n",
      "              precision    recall  f1-score   support\n",
      "\n",
      "           0       0.98      0.99      0.98      2833\n",
      "           1       0.89      0.85      0.87       389\n",
      "\n",
      "    accuracy                           0.97      3222\n",
      "   macro avg       0.93      0.92      0.93      3222\n",
      "weighted avg       0.97      0.97      0.97      3222\n",
      "\n"
     ]
    }
   ],
   "source": [
    "print('Classification report \\n')\n",
    "print(metrics.classification_report(y_train, train_pred))\n",
    "print(metrics.classification_report(y_test,test_pred))"
   ]
  },
  {
   "cell_type": "code",
   "execution_count": 87,
   "metadata": {},
   "outputs": [
    {
     "data": {
      "text/plain": [
       "array([1, 1, 1, ..., 1, 1, 1])"
      ]
     },
     "execution_count": 87,
     "metadata": {},
     "output_type": "execute_result"
    }
   ],
   "source": [
    "model3_dt2 = dt.predict(test)\n",
    "model3_dt2"
   ]
  },
  {
   "cell_type": "code",
   "execution_count": 88,
   "metadata": {},
   "outputs": [],
   "source": [
    "df = pd.read_csv('test.csv')"
   ]
  },
  {
   "cell_type": "code",
   "execution_count": 89,
   "metadata": {},
   "outputs": [
    {
     "data": {
      "text/plain": [
       "(7160, 2)"
      ]
     },
     "execution_count": 89,
     "metadata": {},
     "output_type": "execute_result"
    }
   ],
   "source": [
    "DF = pd.DataFrame(list(zip(df['customer_id'],model3_dt2)),columns=['customer_id','customer_category'])\n",
    "DF.to_csv(\"DT2.csv\",index=False)\n",
    "DF.shape"
   ]
  },
  {
   "cell_type": "markdown",
   "metadata": {},
   "source": [
    "#### SVM "
   ]
  },
  {
   "cell_type": "code",
   "execution_count": 90,
   "metadata": {},
   "outputs": [
    {
     "data": {
      "text/plain": [
       "SVC(C=1.0, break_ties=False, cache_size=200, class_weight={0: 0.6, 1: 0.4},\n",
       "    coef0=0.0, decision_function_shape='ovr', degree=3, gamma='scale',\n",
       "    kernel='linear', max_iter=-1, probability=False, random_state=None,\n",
       "    shrinking=True, tol=0.001, verbose=False)"
      ]
     },
     "execution_count": 90,
     "metadata": {},
     "output_type": "execute_result"
    }
   ],
   "source": [
    "svc_lin = SVC()\n",
    "svc_lin.set_params(kernel='linear',class_weight={0:0.60, 1:0.40})"
   ]
  },
  {
   "cell_type": "code",
   "execution_count": 91,
   "metadata": {},
   "outputs": [
    {
     "name": "stdout",
     "output_type": "stream",
     "text": [
      "CPU times: user 970 ms, sys: 21.7 ms, total: 992 ms\n",
      "Wall time: 1.03 s\n"
     ]
    },
    {
     "data": {
      "text/plain": [
       "SVC(C=1.0, break_ties=False, cache_size=200, class_weight={0: 0.6, 1: 0.4},\n",
       "    coef0=0.0, decision_function_shape='ovr', degree=3, gamma='scale',\n",
       "    kernel='linear', max_iter=-1, probability=False, random_state=None,\n",
       "    shrinking=True, tol=0.001, verbose=False)"
      ]
     },
     "execution_count": 91,
     "metadata": {},
     "output_type": "execute_result"
    }
   ],
   "source": [
    "%%time\n",
    "svc_lin.fit(X_train,y_train)"
   ]
  },
  {
   "cell_type": "code",
   "execution_count": 92,
   "metadata": {},
   "outputs": [],
   "source": [
    "train_pred = svc_lin.predict(X_train)\n",
    "test_pred = svc_lin.predict(X_test)"
   ]
  },
  {
   "cell_type": "code",
   "execution_count": 93,
   "metadata": {},
   "outputs": [
    {
     "name": "stdout",
     "output_type": "stream",
     "text": [
      "Confusion matrix \n",
      "\n",
      "[[2821   12]\n",
      " [  85  304]]\n",
      "********************************************************************************\n",
      "\n",
      "\n",
      "Classification report \n",
      "\n",
      "              precision    recall  f1-score   support\n",
      "\n",
      "           0       0.97      1.00      0.98      6610\n",
      "           1       0.97      0.80      0.88       906\n",
      "\n",
      "    accuracy                           0.97      7516\n",
      "   macro avg       0.97      0.90      0.93      7516\n",
      "weighted avg       0.97      0.97      0.97      7516\n",
      "\n",
      "              precision    recall  f1-score   support\n",
      "\n",
      "           0       0.97      1.00      0.98      2833\n",
      "           1       0.96      0.78      0.86       389\n",
      "\n",
      "    accuracy                           0.97      3222\n",
      "   macro avg       0.97      0.89      0.92      3222\n",
      "weighted avg       0.97      0.97      0.97      3222\n",
      "\n"
     ]
    }
   ],
   "source": [
    "print('Confusion matrix \\n')\n",
    "print(metrics.confusion_matrix(y_test,test_pred))\n",
    "print('*'*80)\n",
    "print('\\n')\n",
    "print('Classification report \\n')\n",
    "print(metrics.classification_report(y_train, train_pred))\n",
    "print(metrics.classification_report(y_test,test_pred))"
   ]
  },
  {
   "cell_type": "code",
   "execution_count": 94,
   "metadata": {},
   "outputs": [
    {
     "data": {
      "text/plain": [
       "array([0, 0, 0, ..., 0, 0, 1])"
      ]
     },
     "execution_count": 94,
     "metadata": {},
     "output_type": "execute_result"
    }
   ],
   "source": [
    "model4_svc = svc_lin.predict(test)\n",
    "model4_svc"
   ]
  },
  {
   "cell_type": "code",
   "execution_count": 95,
   "metadata": {},
   "outputs": [],
   "source": [
    "df1 = pd.read_csv('test.csv')"
   ]
  },
  {
   "cell_type": "code",
   "execution_count": 96,
   "metadata": {},
   "outputs": [
    {
     "data": {
      "text/plain": [
       "(7160, 2)"
      ]
     },
     "execution_count": 96,
     "metadata": {},
     "output_type": "execute_result"
    }
   ],
   "source": [
    "DF = pd.DataFrame(list(zip(df1['customer_id'],model4_svc)),columns=['customer_id','customer_category'])\n",
    "DF.to_csv(\"SVC.csv\",index=False)\n",
    "DF.shape"
   ]
  },
  {
   "cell_type": "code",
   "execution_count": 97,
   "metadata": {},
   "outputs": [
    {
     "data": {
      "text/plain": [
       "StandardScaler(copy=True, with_mean=True, with_std=True)"
      ]
     },
     "execution_count": 97,
     "metadata": {},
     "output_type": "execute_result"
    }
   ],
   "source": [
    "scaler = StandardScaler()\n",
    "scaler.fit(X_train[num_attr])"
   ]
  },
  {
   "cell_type": "code",
   "execution_count": 98,
   "metadata": {},
   "outputs": [
    {
     "data": {
      "text/plain": [
       "array([17.09125232,  0.17536692,  2.324377  ,  3.15899628,  5.26179907,\n",
       "        5.76464962,  0.36748174, 19.06820058])"
      ]
     },
     "execution_count": 98,
     "metadata": {},
     "output_type": "execute_result"
    }
   ],
   "source": [
    "scaler.mean_"
   ]
  },
  {
   "cell_type": "code",
   "execution_count": 99,
   "metadata": {},
   "outputs": [
    {
     "data": {
      "text/plain": [
       "array([3.41254063e+02, 1.35851525e-01, 3.04065343e+01, 1.06672091e+00,\n",
       "       3.50818589e+00, 6.30126285e+00, 1.42121563e+00, 5.50232210e+01])"
      ]
     },
     "execution_count": 99,
     "metadata": {},
     "output_type": "execute_result"
    }
   ],
   "source": [
    "scaler.var_"
   ]
  },
  {
   "cell_type": "code",
   "execution_count": 100,
   "metadata": {},
   "outputs": [],
   "source": [
    "X_train[num_attr]=scaler.transform(X_train[num_attr])\n",
    "X_test[num_attr]=scaler.transform(X_test[num_attr])"
   ]
  },
  {
   "cell_type": "code",
   "execution_count": 101,
   "metadata": {},
   "outputs": [
    {
     "data": {
      "text/plain": [
       "KNeighborsClassifier(algorithm='auto', leaf_size=30, metric='euclidean',\n",
       "                     metric_params=None, n_jobs=None, n_neighbors=5, p=2,\n",
       "                     weights='uniform')"
      ]
     },
     "execution_count": 101,
     "metadata": {},
     "output_type": "execute_result"
    }
   ],
   "source": [
    "model5_knn= KNeighborsClassifier(n_neighbors=5,metric=\"euclidean\")\n",
    "model5_knn.fit(X_train,y_train)"
   ]
  },
  {
   "cell_type": "code",
   "execution_count": 102,
   "metadata": {},
   "outputs": [],
   "source": [
    "train_pred = model5_knn.predict(X_train)\n",
    "test_pred = model5_knn.predict(X_test)"
   ]
  },
  {
   "cell_type": "code",
   "execution_count": 103,
   "metadata": {},
   "outputs": [
    {
     "name": "stdout",
     "output_type": "stream",
     "text": [
      "Confusion matrix \n",
      "\n",
      "[[2813   20]\n",
      " [  85  304]]\n",
      "********************************************************************************\n",
      "\n",
      "\n",
      "Classification report \n",
      "\n",
      "              precision    recall  f1-score   support\n",
      "\n",
      "           0       0.97      1.00      0.99      6610\n",
      "           1       0.97      0.81      0.88       906\n",
      "\n",
      "    accuracy                           0.97      7516\n",
      "   macro avg       0.97      0.90      0.93      7516\n",
      "weighted avg       0.97      0.97      0.97      7516\n",
      "\n",
      "              precision    recall  f1-score   support\n",
      "\n",
      "           0       0.97      0.99      0.98      2833\n",
      "           1       0.94      0.78      0.85       389\n",
      "\n",
      "    accuracy                           0.97      3222\n",
      "   macro avg       0.95      0.89      0.92      3222\n",
      "weighted avg       0.97      0.97      0.97      3222\n",
      "\n"
     ]
    }
   ],
   "source": [
    "print('Confusion matrix \\n')\n",
    "print(metrics.confusion_matrix(y_test,test_pred))\n",
    "print('*'*80)\n",
    "print('\\n')\n",
    "print('Classification report \\n')\n",
    "print(metrics.classification_report(y_train, train_pred))\n",
    "print(metrics.classification_report(y_test,test_pred))"
   ]
  },
  {
   "cell_type": "code",
   "execution_count": 104,
   "metadata": {},
   "outputs": [
    {
     "data": {
      "text/plain": [
       "array([0, 0, 0, ..., 0, 0, 0])"
      ]
     },
     "execution_count": 104,
     "metadata": {},
     "output_type": "execute_result"
    }
   ],
   "source": [
    "model5_knn = model5_knn.predict(test)\n",
    "model5_knn"
   ]
  },
  {
   "cell_type": "code",
   "execution_count": 105,
   "metadata": {},
   "outputs": [],
   "source": [
    "df = pd.read_csv(\"test.csv\")"
   ]
  },
  {
   "cell_type": "code",
   "execution_count": 106,
   "metadata": {},
   "outputs": [
    {
     "data": {
      "text/plain": [
       "(7160, 2)"
      ]
     },
     "execution_count": 106,
     "metadata": {},
     "output_type": "execute_result"
    }
   ],
   "source": [
    "DF = pd.DataFrame(list(zip(df1['customer_id'],model5_knn)),columns=['customer_id','customer_category'])\n",
    "DF.to_csv(\"KNN.csv\",index=False)\n",
    "DF.shape"
   ]
  },
  {
   "cell_type": "code",
   "execution_count": 107,
   "metadata": {},
   "outputs": [
    {
     "name": "stdout",
     "output_type": "stream",
     "text": [
      "Before OverSampling, counts of label '1': 906\n",
      "Before OverSampling, counts of label '0': 6610 \n",
      "\n",
      "After OverSampling, the shape of train_X: (13220, 10)\n",
      "After OverSampling, the shape of train_y: (13220,) \n",
      "\n",
      "After OverSampling, counts of label '1': 6610\n",
      "After OverSampling, counts of label '0': 6610\n"
     ]
    }
   ],
   "source": [
    "print(\"Before OverSampling, counts of label '1': {}\".format(sum(y_train==1)))\n",
    "print(\"Before OverSampling, counts of label '0': {} \\n\".format(sum(y_train==0)))\n",
    "\n",
    "sm = SMOTE(random_state=2)\n",
    "X_train_res, y_train_res = sm.fit_sample(X_train, y_train.ravel())\n",
    "\n",
    "print('After OverSampling, the shape of train_X: {}'.format(X_train_res.shape))\n",
    "print('After OverSampling, the shape of train_y: {} \\n'.format(y_train_res.shape))\n",
    "\n",
    "print(\"After OverSampling, counts of label '1': {}\".format(sum(y_train_res==1)))\n",
    "print(\"After OverSampling, counts of label '0': {}\".format(sum(y_train_res==0)))"
   ]
  },
  {
   "cell_type": "code",
   "execution_count": 108,
   "metadata": {},
   "outputs": [
    {
     "data": {
      "text/plain": [
       "LogisticRegression(C=1.0, class_weight=None, dual=False, fit_intercept=True,\n",
       "                   intercept_scaling=1, l1_ratio=None, max_iter=100,\n",
       "                   multi_class='auto', n_jobs=None, penalty='l2',\n",
       "                   random_state=None, solver='lbfgs', tol=0.0001, verbose=0,\n",
       "                   warm_start=False)"
      ]
     },
     "execution_count": 108,
     "metadata": {},
     "output_type": "execute_result"
    }
   ],
   "source": [
    "logreg = LogisticRegression()\n",
    "logreg.fit(X_train_res, y_train_res)"
   ]
  },
  {
   "cell_type": "code",
   "execution_count": 109,
   "metadata": {},
   "outputs": [],
   "source": [
    "train_pred = logreg.predict(X_train_res)\n",
    "test_pred = logreg.predict(X_test)"
   ]
  },
  {
   "cell_type": "code",
   "execution_count": 110,
   "metadata": {},
   "outputs": [
    {
     "name": "stdout",
     "output_type": "stream",
     "text": [
      "Confusion matrix \n",
      "\n",
      "[[2751   82]\n",
      " [  40  349]]\n",
      "********************************************************************************\n",
      "\n",
      "\n",
      "Classification report \n",
      "\n",
      "              precision    recall  f1-score   support\n",
      "\n",
      "           0       0.92      0.97      0.94      6610\n",
      "           1       0.97      0.91      0.94      6610\n",
      "\n",
      "    accuracy                           0.94     13220\n",
      "   macro avg       0.94      0.94      0.94     13220\n",
      "weighted avg       0.94      0.94      0.94     13220\n",
      "\n",
      "              precision    recall  f1-score   support\n",
      "\n",
      "           0       0.99      0.97      0.98      2833\n",
      "           1       0.81      0.90      0.85       389\n",
      "\n",
      "    accuracy                           0.96      3222\n",
      "   macro avg       0.90      0.93      0.91      3222\n",
      "weighted avg       0.96      0.96      0.96      3222\n",
      "\n"
     ]
    }
   ],
   "source": [
    "print('Confusion matrix \\n')\n",
    "print(metrics.confusion_matrix(y_test,test_pred))\n",
    "print('*'*80)\n",
    "print('\\n')\n",
    "print('Classification report \\n')\n",
    "print(metrics.classification_report(y_train_res, train_pred))\n",
    "print(metrics.classification_report(y_test,test_pred))"
   ]
  },
  {
   "cell_type": "code",
   "execution_count": 111,
   "metadata": {},
   "outputs": [
    {
     "data": {
      "text/plain": [
       "array([1, 0, 0, ..., 1, 0, 0])"
      ]
     },
     "execution_count": 111,
     "metadata": {},
     "output_type": "execute_result"
    }
   ],
   "source": [
    "model1_log1 = logreg.predict(test)\n",
    "model1_log1"
   ]
  },
  {
   "cell_type": "code",
   "execution_count": 112,
   "metadata": {},
   "outputs": [],
   "source": [
    "df  = pd.read_csv(\"test.csv\")"
   ]
  },
  {
   "cell_type": "code",
   "execution_count": 113,
   "metadata": {},
   "outputs": [
    {
     "data": {
      "text/plain": [
       "(7160, 2)"
      ]
     },
     "execution_count": 113,
     "metadata": {},
     "output_type": "execute_result"
    }
   ],
   "source": [
    "DF = pd.DataFrame(list(zip(df['customer_id'],model1_log1)),columns=['customer_id','customer_category'])\n",
    "DF.to_csv(\"Log1.csv\",index=False)\n",
    "DF.shape"
   ]
  },
  {
   "cell_type": "code",
   "execution_count": 114,
   "metadata": {},
   "outputs": [
    {
     "data": {
      "text/plain": [
       "SVC(C=1.0, break_ties=False, cache_size=200, class_weight={0: 0.6, 1: 0.4},\n",
       "    coef0=0.0, decision_function_shape='ovr', degree=3, gamma='scale',\n",
       "    kernel='linear', max_iter=-1, probability=False, random_state=None,\n",
       "    shrinking=True, tol=0.001, verbose=False)"
      ]
     },
     "execution_count": 114,
     "metadata": {},
     "output_type": "execute_result"
    }
   ],
   "source": [
    "svc_lin = SVC()\n",
    "svc_lin.set_params(kernel='linear',class_weight={0:0.60, 1:0.40})"
   ]
  },
  {
   "cell_type": "code",
   "execution_count": 115,
   "metadata": {},
   "outputs": [
    {
     "name": "stdout",
     "output_type": "stream",
     "text": [
      "CPU times: user 1.44 s, sys: 142 ms, total: 1.58 s\n",
      "Wall time: 1.82 s\n"
     ]
    },
    {
     "data": {
      "text/plain": [
       "SVC(C=1.0, break_ties=False, cache_size=200, class_weight={0: 0.6, 1: 0.4},\n",
       "    coef0=0.0, decision_function_shape='ovr', degree=3, gamma='scale',\n",
       "    kernel='linear', max_iter=-1, probability=False, random_state=None,\n",
       "    shrinking=True, tol=0.001, verbose=False)"
      ]
     },
     "execution_count": 115,
     "metadata": {},
     "output_type": "execute_result"
    }
   ],
   "source": [
    "%%time\n",
    "svc_lin.fit(X_train_res,y_train_res)"
   ]
  },
  {
   "cell_type": "code",
   "execution_count": 116,
   "metadata": {},
   "outputs": [],
   "source": [
    "train_pred = svc_lin.predict(X_train_res)\n",
    "test_pred = svc_lin.predict(X_test)"
   ]
  },
  {
   "cell_type": "code",
   "execution_count": 117,
   "metadata": {},
   "outputs": [
    {
     "name": "stdout",
     "output_type": "stream",
     "text": [
      "Confusion matrix \n",
      "\n",
      "[[2787   46]\n",
      " [  44  345]]\n",
      "********************************************************************************\n",
      "\n",
      "\n",
      "Classification report \n",
      "\n",
      "              precision    recall  f1-score   support\n",
      "\n",
      "           0       0.90      0.98      0.94      6610\n",
      "           1       0.98      0.89      0.94      6610\n",
      "\n",
      "    accuracy                           0.94     13220\n",
      "   macro avg       0.94      0.94      0.94     13220\n",
      "weighted avg       0.94      0.94      0.94     13220\n",
      "\n",
      "              precision    recall  f1-score   support\n",
      "\n",
      "           0       0.98      0.98      0.98      2833\n",
      "           1       0.88      0.89      0.88       389\n",
      "\n",
      "    accuracy                           0.97      3222\n",
      "   macro avg       0.93      0.94      0.93      3222\n",
      "weighted avg       0.97      0.97      0.97      3222\n",
      "\n"
     ]
    }
   ],
   "source": [
    "print('Confusion matrix \\n')\n",
    "print(metrics.confusion_matrix(y_test,test_pred))\n",
    "print('*'*80)\n",
    "print('\\n')\n",
    "print('Classification report \\n')\n",
    "print(metrics.classification_report(y_train_res, train_pred))\n",
    "print(metrics.classification_report(y_test,test_pred))"
   ]
  },
  {
   "cell_type": "code",
   "execution_count": 118,
   "metadata": {},
   "outputs": [
    {
     "data": {
      "text/plain": [
       "array([1, 0, 0, ..., 1, 0, 0])"
      ]
     },
     "execution_count": 118,
     "metadata": {},
     "output_type": "execute_result"
    }
   ],
   "source": [
    "model4_svc1 = svc_lin.predict(test)\n",
    "model4_svc1"
   ]
  },
  {
   "cell_type": "code",
   "execution_count": 119,
   "metadata": {},
   "outputs": [],
   "source": [
    "df1 = pd.read_csv('test.csv')"
   ]
  },
  {
   "cell_type": "code",
   "execution_count": 120,
   "metadata": {},
   "outputs": [
    {
     "data": {
      "text/plain": [
       "(7160, 2)"
      ]
     },
     "execution_count": 120,
     "metadata": {},
     "output_type": "execute_result"
    }
   ],
   "source": [
    "DF = pd.DataFrame(list(zip(df1['customer_id'],model4_svc1)),columns=['customer_id','customer_category'])\n",
    "DF.to_csv(\"SVC1.csv\",index=False)\n",
    "DF.shape"
   ]
  },
  {
   "cell_type": "code",
   "execution_count": null,
   "metadata": {},
   "outputs": [],
   "source": []
  }
 ],
 "metadata": {
  "kernelspec": {
   "display_name": "Python 3",
   "language": "python",
   "name": "python3"
  },
  "language_info": {
   "codemirror_mode": {
    "name": "ipython",
    "version": 3
   },
   "file_extension": ".py",
   "mimetype": "text/x-python",
   "name": "python",
   "nbconvert_exporter": "python",
   "pygments_lexer": "ipython3",
   "version": "3.7.6"
  }
 },
 "nbformat": 4,
 "nbformat_minor": 2
}
