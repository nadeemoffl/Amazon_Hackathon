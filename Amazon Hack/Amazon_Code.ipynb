{
 "cells": [
  {
   "cell_type": "markdown",
   "metadata": {},
   "source": [
    "### Problem Statement\n",
    "\n",
    "We all know that when we visit an e-commerce or TV series website or even YouTube we see a separate suggestion box, where in they show some content which you might like. These are mainly based on the content that you have consumed on their website previously. These are called as Recommendation engine. \n",
    "\n",
    "Now consider you have been running a start up since last one year and now you have been able to gather some customer data and you want to build a recommendation engine. Based on certain features you have to cluster the customers into two different groups so that you can recommend the correct products based on the customer’s cluster."
   ]
  },
  {
   "cell_type": "markdown",
   "metadata": {},
   "source": [
    "### Data Description:\n",
    "\n",
    "##### customer_visit_score ==> a score based on how regularly the customer visits the website\n",
    "##### customer_product_search_score ==> quality or price range of product that the customer searches for.\n",
    "For ex: a customer searching for a laptop will have more weightage than someone looking for a book\n",
    "##### customer_ctr_score ==> how many of the searched links does the customer click\n",
    "##### customer_stay_score ==> a score based on the time spent on an avg. by the customer\n",
    "##### customer_frequency_score ==> a score based on how many times in a day the customer visit the website\n",
    "##### customer_product_variation_score ==> a score based on how many varities of products does a customer search \n",
    "For ex. electronics, apparels, etc.\n",
    "##### customer_order_score ==> Score based on the no. of orders that has been succesfully delivered and not returned\n",
    "##### customer_affinity_score ==> an internal overall score calculated which signifies the affinity of the customer towards the website\n",
    "##### customer_category ==> the cluster/group to which the customer should belong to\n",
    "##### customer_active_segment ==> the categorization of the customers based on their activity\n",
    "##### X_1 ==> Anonymized feature based on loyalty of the customer\n"
   ]
  },
  {
   "cell_type": "code",
   "execution_count": null,
   "metadata": {},
   "outputs": [],
   "source": []
  },
  {
   "cell_type": "code",
   "execution_count": 1,
   "metadata": {},
   "outputs": [
    {
     "name": "stderr",
     "output_type": "stream",
     "text": [
      "/opt/anaconda3/lib/python3.7/site-packages/sklearn/externals/six.py:31: FutureWarning: The module is deprecated in version 0.21 and will be removed in version 0.23 since we've dropped support for Python 2.7. Please rely on the official version of six (https://pypi.org/project/six/).\n",
      "  \"(https://pypi.org/project/six/).\", FutureWarning)\n",
      "/opt/anaconda3/lib/python3.7/site-packages/sklearn/utils/deprecation.py:144: FutureWarning: The sklearn.neighbors.base module is  deprecated in version 0.22 and will be removed in version 0.24. The corresponding classes / functions should instead be imported from sklearn.neighbors. Anything that cannot be imported from sklearn.neighbors is now part of the private API.\n",
      "  warnings.warn(message, FutureWarning)\n",
      "/opt/anaconda3/lib/python3.7/site-packages/sklearn/externals/joblib/__init__.py:15: FutureWarning: sklearn.externals.joblib is deprecated in 0.21 and will be removed in 0.23. Please import this functionality directly from joblib, which can be installed with: pip install joblib. If this warning is raised when loading pickled models, you may need to re-serialize those models with scikit-learn 0.21+.\n",
      "  warnings.warn(msg, category=FutureWarning)\n"
     ]
    }
   ],
   "source": [
    "import pandas as pd\n",
    "import numpy as np\n",
    "\n",
    "import matplotlib.pyplot as plt\n",
    "import seaborn as sns\n",
    "\n",
    "from sklearn import preprocessing\n",
    "from sklearn.pipeline import Pipeline\n",
    "from sklearn.compose import ColumnTransformer\n",
    "\n",
    "from sklearn.preprocessing import StandardScaler\n",
    "from sklearn.preprocessing import MinMaxScaler\n",
    "from sklearn.impute import SimpleImputer\n",
    "from sklearn.preprocessing import OneHotEncoder\n",
    "from imblearn.over_sampling import SMOTE\n",
    "\n",
    "from sklearn.model_selection import train_test_split\n",
    "\n",
    "from sklearn.linear_model import LogisticRegression\n",
    "from sklearn.tree import DecisionTreeClassifier\n",
    "\n",
    "from sklearn.metrics import precision_score, confusion_matrix, accuracy_score, classification_report\n",
    "import warnings\n",
    "warnings.filterwarnings('ignore')"
   ]
  },
  {
   "cell_type": "markdown",
   "metadata": {},
   "source": [
    "### Reading the Datasets"
   ]
  },
  {
   "cell_type": "code",
   "execution_count": 2,
   "metadata": {},
   "outputs": [],
   "source": [
    "data = pd.read_csv('train.csv', index_col='customer_id')"
   ]
  },
  {
   "cell_type": "code",
   "execution_count": 3,
   "metadata": {},
   "outputs": [
    {
     "data": {
      "text/html": [
       "<div>\n",
       "<style scoped>\n",
       "    .dataframe tbody tr th:only-of-type {\n",
       "        vertical-align: middle;\n",
       "    }\n",
       "\n",
       "    .dataframe tbody tr th {\n",
       "        vertical-align: top;\n",
       "    }\n",
       "\n",
       "    .dataframe thead th {\n",
       "        text-align: right;\n",
       "    }\n",
       "</style>\n",
       "<table border=\"1\" class=\"dataframe\">\n",
       "  <thead>\n",
       "    <tr style=\"text-align: right;\">\n",
       "      <th></th>\n",
       "      <th>customer_visit_score</th>\n",
       "      <th>customer_product_search_score</th>\n",
       "      <th>customer_ctr_score</th>\n",
       "      <th>customer_stay_score</th>\n",
       "      <th>customer_frequency_score</th>\n",
       "      <th>customer_product_variation_score</th>\n",
       "      <th>customer_order_score</th>\n",
       "      <th>customer_affinity_score</th>\n",
       "      <th>customer_active_segment</th>\n",
       "      <th>X1</th>\n",
       "      <th>customer_category</th>\n",
       "    </tr>\n",
       "    <tr>\n",
       "      <th>customer_id</th>\n",
       "      <th></th>\n",
       "      <th></th>\n",
       "      <th></th>\n",
       "      <th></th>\n",
       "      <th></th>\n",
       "      <th></th>\n",
       "      <th></th>\n",
       "      <th></th>\n",
       "      <th></th>\n",
       "      <th></th>\n",
       "      <th></th>\n",
       "    </tr>\n",
       "  </thead>\n",
       "  <tbody>\n",
       "    <tr>\n",
       "      <th>csid_1</th>\n",
       "      <td>13.168425</td>\n",
       "      <td>9.447662</td>\n",
       "      <td>-0.070203</td>\n",
       "      <td>-0.139541</td>\n",
       "      <td>0.436956</td>\n",
       "      <td>4.705761</td>\n",
       "      <td>2.537985</td>\n",
       "      <td>7.959503</td>\n",
       "      <td>C</td>\n",
       "      <td>F</td>\n",
       "      <td>0</td>\n",
       "    </tr>\n",
       "    <tr>\n",
       "      <th>csid_2</th>\n",
       "      <td>17.092979</td>\n",
       "      <td>7.329056</td>\n",
       "      <td>0.153298</td>\n",
       "      <td>-0.102726</td>\n",
       "      <td>0.380340</td>\n",
       "      <td>4.205138</td>\n",
       "      <td>4.193444</td>\n",
       "      <td>17.517381</td>\n",
       "      <td>C</td>\n",
       "      <td>A</td>\n",
       "      <td>0</td>\n",
       "    </tr>\n",
       "    <tr>\n",
       "      <th>csid_3</th>\n",
       "      <td>17.505334</td>\n",
       "      <td>5.143676</td>\n",
       "      <td>0.106709</td>\n",
       "      <td>0.262834</td>\n",
       "      <td>0.417648</td>\n",
       "      <td>4.479070</td>\n",
       "      <td>3.878971</td>\n",
       "      <td>12.595155</td>\n",
       "      <td>C</td>\n",
       "      <td>BA</td>\n",
       "      <td>0</td>\n",
       "    </tr>\n",
       "    <tr>\n",
       "      <th>csid_4</th>\n",
       "      <td>31.423381</td>\n",
       "      <td>4.917740</td>\n",
       "      <td>-0.020226</td>\n",
       "      <td>-0.100526</td>\n",
       "      <td>0.778130</td>\n",
       "      <td>5.055535</td>\n",
       "      <td>2.708940</td>\n",
       "      <td>4.795073</td>\n",
       "      <td>AA</td>\n",
       "      <td>F</td>\n",
       "      <td>0</td>\n",
       "    </tr>\n",
       "    <tr>\n",
       "      <th>csid_5</th>\n",
       "      <td>11.909502</td>\n",
       "      <td>4.237073</td>\n",
       "      <td>0.187178</td>\n",
       "      <td>0.172891</td>\n",
       "      <td>0.162067</td>\n",
       "      <td>3.445247</td>\n",
       "      <td>3.677360</td>\n",
       "      <td>56.636326</td>\n",
       "      <td>C</td>\n",
       "      <td>AA</td>\n",
       "      <td>0</td>\n",
       "    </tr>\n",
       "  </tbody>\n",
       "</table>\n",
       "</div>"
      ],
      "text/plain": [
       "             customer_visit_score  customer_product_search_score  \\\n",
       "customer_id                                                        \n",
       "csid_1                  13.168425                       9.447662   \n",
       "csid_2                  17.092979                       7.329056   \n",
       "csid_3                  17.505334                       5.143676   \n",
       "csid_4                  31.423381                       4.917740   \n",
       "csid_5                  11.909502                       4.237073   \n",
       "\n",
       "             customer_ctr_score  customer_stay_score  \\\n",
       "customer_id                                            \n",
       "csid_1                -0.070203            -0.139541   \n",
       "csid_2                 0.153298            -0.102726   \n",
       "csid_3                 0.106709             0.262834   \n",
       "csid_4                -0.020226            -0.100526   \n",
       "csid_5                 0.187178             0.172891   \n",
       "\n",
       "             customer_frequency_score  customer_product_variation_score  \\\n",
       "customer_id                                                               \n",
       "csid_1                       0.436956                          4.705761   \n",
       "csid_2                       0.380340                          4.205138   \n",
       "csid_3                       0.417648                          4.479070   \n",
       "csid_4                       0.778130                          5.055535   \n",
       "csid_5                       0.162067                          3.445247   \n",
       "\n",
       "             customer_order_score  customer_affinity_score  \\\n",
       "customer_id                                                  \n",
       "csid_1                   2.537985                 7.959503   \n",
       "csid_2                   4.193444                17.517381   \n",
       "csid_3                   3.878971                12.595155   \n",
       "csid_4                   2.708940                 4.795073   \n",
       "csid_5                   3.677360                56.636326   \n",
       "\n",
       "            customer_active_segment  X1  customer_category  \n",
       "customer_id                                                 \n",
       "csid_1                            C   F                  0  \n",
       "csid_2                            C   A                  0  \n",
       "csid_3                            C  BA                  0  \n",
       "csid_4                           AA   F                  0  \n",
       "csid_5                            C  AA                  0  "
      ]
     },
     "execution_count": 3,
     "metadata": {},
     "output_type": "execute_result"
    }
   ],
   "source": [
    "data.head()"
   ]
  },
  {
   "cell_type": "code",
   "execution_count": 4,
   "metadata": {},
   "outputs": [
    {
     "name": "stdout",
     "output_type": "stream",
     "text": [
      "(10738, 11) \n",
      "\n",
      "<class 'pandas.core.frame.DataFrame'>\n",
      "Index: 10738 entries, csid_1 to csid_10738\n",
      "Data columns (total 11 columns):\n",
      " #   Column                            Non-Null Count  Dtype  \n",
      "---  ------                            --------------  -----  \n",
      " 0   customer_visit_score              10738 non-null  float64\n",
      " 1   customer_product_search_score     10696 non-null  float64\n",
      " 2   customer_ctr_score                10738 non-null  float64\n",
      " 3   customer_stay_score               10701 non-null  float64\n",
      " 4   customer_frequency_score          10738 non-null  float64\n",
      " 5   customer_product_variation_score  10692 non-null  float64\n",
      " 6   customer_order_score              10672 non-null  float64\n",
      " 7   customer_affinity_score           10738 non-null  float64\n",
      " 8   customer_active_segment           10715 non-null  object \n",
      " 9   X1                                10701 non-null  object \n",
      " 10  customer_category                 10738 non-null  int64  \n",
      "dtypes: float64(8), int64(1), object(2)\n",
      "memory usage: 1006.7+ KB\n",
      "None\n"
     ]
    }
   ],
   "source": [
    "print(data.shape,'\\n')\n",
    "print(data.info())"
   ]
  },
  {
   "cell_type": "code",
   "execution_count": 5,
   "metadata": {},
   "outputs": [
    {
     "data": {
      "text/html": [
       "<div>\n",
       "<style scoped>\n",
       "    .dataframe tbody tr th:only-of-type {\n",
       "        vertical-align: middle;\n",
       "    }\n",
       "\n",
       "    .dataframe tbody tr th {\n",
       "        vertical-align: top;\n",
       "    }\n",
       "\n",
       "    .dataframe thead th {\n",
       "        text-align: right;\n",
       "    }\n",
       "</style>\n",
       "<table border=\"1\" class=\"dataframe\">\n",
       "  <thead>\n",
       "    <tr style=\"text-align: right;\">\n",
       "      <th></th>\n",
       "      <th>customer_visit_score</th>\n",
       "      <th>customer_product_search_score</th>\n",
       "      <th>customer_ctr_score</th>\n",
       "      <th>customer_stay_score</th>\n",
       "      <th>customer_frequency_score</th>\n",
       "      <th>customer_product_variation_score</th>\n",
       "      <th>customer_order_score</th>\n",
       "      <th>customer_affinity_score</th>\n",
       "      <th>customer_category</th>\n",
       "    </tr>\n",
       "  </thead>\n",
       "  <tbody>\n",
       "    <tr>\n",
       "      <th>count</th>\n",
       "      <td>10738.000000</td>\n",
       "      <td>10696.000000</td>\n",
       "      <td>10738.000000</td>\n",
       "      <td>10701.000000</td>\n",
       "      <td>10738.000000</td>\n",
       "      <td>10692.000000</td>\n",
       "      <td>10672.000000</td>\n",
       "      <td>10738.000000</td>\n",
       "      <td>10738.000000</td>\n",
       "    </tr>\n",
       "    <tr>\n",
       "      <th>mean</th>\n",
       "      <td>19.060941</td>\n",
       "      <td>5.274847</td>\n",
       "      <td>0.175912</td>\n",
       "      <td>0.374230</td>\n",
       "      <td>2.376895</td>\n",
       "      <td>5.788180</td>\n",
       "      <td>3.150071</td>\n",
       "      <td>17.061836</td>\n",
       "      <td>0.120600</td>\n",
       "    </tr>\n",
       "    <tr>\n",
       "      <th>std</th>\n",
       "      <td>7.419609</td>\n",
       "      <td>1.882559</td>\n",
       "      <td>0.372829</td>\n",
       "      <td>1.222031</td>\n",
       "      <td>5.601911</td>\n",
       "      <td>2.531309</td>\n",
       "      <td>1.035416</td>\n",
       "      <td>18.762693</td>\n",
       "      <td>0.325677</td>\n",
       "    </tr>\n",
       "    <tr>\n",
       "      <th>min</th>\n",
       "      <td>0.568965</td>\n",
       "      <td>-0.161940</td>\n",
       "      <td>-0.547989</td>\n",
       "      <td>-0.462494</td>\n",
       "      <td>0.028575</td>\n",
       "      <td>2.752836</td>\n",
       "      <td>0.363338</td>\n",
       "      <td>-0.486834</td>\n",
       "      <td>0.000000</td>\n",
       "    </tr>\n",
       "    <tr>\n",
       "      <th>25%</th>\n",
       "      <td>13.518021</td>\n",
       "      <td>3.971587</td>\n",
       "      <td>0.010840</td>\n",
       "      <td>-0.027666</td>\n",
       "      <td>0.313610</td>\n",
       "      <td>4.193234</td>\n",
       "      <td>2.454017</td>\n",
       "      <td>4.530085</td>\n",
       "      <td>0.000000</td>\n",
       "    </tr>\n",
       "    <tr>\n",
       "      <th>50%</th>\n",
       "      <td>18.774109</td>\n",
       "      <td>5.218479</td>\n",
       "      <td>0.074078</td>\n",
       "      <td>0.037201</td>\n",
       "      <td>0.516830</td>\n",
       "      <td>4.842575</td>\n",
       "      <td>3.118394</td>\n",
       "      <td>12.653357</td>\n",
       "      <td>0.000000</td>\n",
       "    </tr>\n",
       "    <tr>\n",
       "      <th>75%</th>\n",
       "      <td>24.501719</td>\n",
       "      <td>6.520364</td>\n",
       "      <td>0.159606</td>\n",
       "      <td>0.179029</td>\n",
       "      <td>1.125380</td>\n",
       "      <td>6.286400</td>\n",
       "      <td>3.756566</td>\n",
       "      <td>23.114577</td>\n",
       "      <td>0.000000</td>\n",
       "    </tr>\n",
       "    <tr>\n",
       "      <th>max</th>\n",
       "      <td>47.306691</td>\n",
       "      <td>16.638243</td>\n",
       "      <td>2.679474</td>\n",
       "      <td>14.701914</td>\n",
       "      <td>52.395014</td>\n",
       "      <td>18.743836</td>\n",
       "      <td>9.090206</td>\n",
       "      <td>248.552755</td>\n",
       "      <td>1.000000</td>\n",
       "    </tr>\n",
       "  </tbody>\n",
       "</table>\n",
       "</div>"
      ],
      "text/plain": [
       "       customer_visit_score  customer_product_search_score  \\\n",
       "count          10738.000000                   10696.000000   \n",
       "mean              19.060941                       5.274847   \n",
       "std                7.419609                       1.882559   \n",
       "min                0.568965                      -0.161940   \n",
       "25%               13.518021                       3.971587   \n",
       "50%               18.774109                       5.218479   \n",
       "75%               24.501719                       6.520364   \n",
       "max               47.306691                      16.638243   \n",
       "\n",
       "       customer_ctr_score  customer_stay_score  customer_frequency_score  \\\n",
       "count        10738.000000         10701.000000              10738.000000   \n",
       "mean             0.175912             0.374230                  2.376895   \n",
       "std              0.372829             1.222031                  5.601911   \n",
       "min             -0.547989            -0.462494                  0.028575   \n",
       "25%              0.010840            -0.027666                  0.313610   \n",
       "50%              0.074078             0.037201                  0.516830   \n",
       "75%              0.159606             0.179029                  1.125380   \n",
       "max              2.679474            14.701914                 52.395014   \n",
       "\n",
       "       customer_product_variation_score  customer_order_score  \\\n",
       "count                      10692.000000          10672.000000   \n",
       "mean                           5.788180              3.150071   \n",
       "std                            2.531309              1.035416   \n",
       "min                            2.752836              0.363338   \n",
       "25%                            4.193234              2.454017   \n",
       "50%                            4.842575              3.118394   \n",
       "75%                            6.286400              3.756566   \n",
       "max                           18.743836              9.090206   \n",
       "\n",
       "       customer_affinity_score  customer_category  \n",
       "count             10738.000000       10738.000000  \n",
       "mean                 17.061836           0.120600  \n",
       "std                  18.762693           0.325677  \n",
       "min                  -0.486834           0.000000  \n",
       "25%                   4.530085           0.000000  \n",
       "50%                  12.653357           0.000000  \n",
       "75%                  23.114577           0.000000  \n",
       "max                 248.552755           1.000000  "
      ]
     },
     "execution_count": 5,
     "metadata": {},
     "output_type": "execute_result"
    }
   ],
   "source": [
    "data.describe()"
   ]
  },
  {
   "cell_type": "code",
   "execution_count": 6,
   "metadata": {},
   "outputs": [],
   "source": [
    "test_data = pd.read_csv(\"test.csv\", index_col='customer_id')"
   ]
  },
  {
   "cell_type": "code",
   "execution_count": 7,
   "metadata": {},
   "outputs": [
    {
     "data": {
      "text/html": [
       "<div>\n",
       "<style scoped>\n",
       "    .dataframe tbody tr th:only-of-type {\n",
       "        vertical-align: middle;\n",
       "    }\n",
       "\n",
       "    .dataframe tbody tr th {\n",
       "        vertical-align: top;\n",
       "    }\n",
       "\n",
       "    .dataframe thead th {\n",
       "        text-align: right;\n",
       "    }\n",
       "</style>\n",
       "<table border=\"1\" class=\"dataframe\">\n",
       "  <thead>\n",
       "    <tr style=\"text-align: right;\">\n",
       "      <th></th>\n",
       "      <th>customer_visit_score</th>\n",
       "      <th>customer_product_search_score</th>\n",
       "      <th>customer_ctr_score</th>\n",
       "      <th>customer_stay_score</th>\n",
       "      <th>customer_frequency_score</th>\n",
       "      <th>customer_product_variation_score</th>\n",
       "      <th>customer_order_score</th>\n",
       "      <th>customer_affinity_score</th>\n",
       "      <th>customer_active_segment</th>\n",
       "      <th>X1</th>\n",
       "    </tr>\n",
       "    <tr>\n",
       "      <th>customer_id</th>\n",
       "      <th></th>\n",
       "      <th></th>\n",
       "      <th></th>\n",
       "      <th></th>\n",
       "      <th></th>\n",
       "      <th></th>\n",
       "      <th></th>\n",
       "      <th></th>\n",
       "      <th></th>\n",
       "      <th></th>\n",
       "    </tr>\n",
       "  </thead>\n",
       "  <tbody>\n",
       "    <tr>\n",
       "      <th>csid_10739</th>\n",
       "      <td>22.500174</td>\n",
       "      <td>3.702145</td>\n",
       "      <td>0.118811</td>\n",
       "      <td>0.093253</td>\n",
       "      <td>0.689237</td>\n",
       "      <td>5.786842</td>\n",
       "      <td>3.748009</td>\n",
       "      <td>7.661716</td>\n",
       "      <td>B</td>\n",
       "      <td>BA</td>\n",
       "    </tr>\n",
       "    <tr>\n",
       "      <th>csid_10740</th>\n",
       "      <td>13.225950</td>\n",
       "      <td>3.600102</td>\n",
       "      <td>0.130985</td>\n",
       "      <td>0.053575</td>\n",
       "      <td>0.142756</td>\n",
       "      <td>3.940359</td>\n",
       "      <td>3.469659</td>\n",
       "      <td>33.999679</td>\n",
       "      <td>B</td>\n",
       "      <td>AA</td>\n",
       "    </tr>\n",
       "    <tr>\n",
       "      <th>csid_10741</th>\n",
       "      <td>14.603376</td>\n",
       "      <td>5.084047</td>\n",
       "      <td>-0.004651</td>\n",
       "      <td>-0.036299</td>\n",
       "      <td>0.333709</td>\n",
       "      <td>4.254662</td>\n",
       "      <td>3.855939</td>\n",
       "      <td>33.485630</td>\n",
       "      <td>B</td>\n",
       "      <td>AA</td>\n",
       "    </tr>\n",
       "    <tr>\n",
       "      <th>csid_10742</th>\n",
       "      <td>26.149905</td>\n",
       "      <td>3.025501</td>\n",
       "      <td>0.229740</td>\n",
       "      <td>0.204591</td>\n",
       "      <td>3.768405</td>\n",
       "      <td>6.942625</td>\n",
       "      <td>2.362421</td>\n",
       "      <td>0.795372</td>\n",
       "      <td>B</td>\n",
       "      <td>BA</td>\n",
       "    </tr>\n",
       "    <tr>\n",
       "      <th>csid_10743</th>\n",
       "      <td>19.810630</td>\n",
       "      <td>5.020400</td>\n",
       "      <td>-0.011347</td>\n",
       "      <td>-0.028780</td>\n",
       "      <td>0.286841</td>\n",
       "      <td>4.585513</td>\n",
       "      <td>3.278624</td>\n",
       "      <td>15.052058</td>\n",
       "      <td>C</td>\n",
       "      <td>BA</td>\n",
       "    </tr>\n",
       "  </tbody>\n",
       "</table>\n",
       "</div>"
      ],
      "text/plain": [
       "             customer_visit_score  customer_product_search_score  \\\n",
       "customer_id                                                        \n",
       "csid_10739              22.500174                       3.702145   \n",
       "csid_10740              13.225950                       3.600102   \n",
       "csid_10741              14.603376                       5.084047   \n",
       "csid_10742              26.149905                       3.025501   \n",
       "csid_10743              19.810630                       5.020400   \n",
       "\n",
       "             customer_ctr_score  customer_stay_score  \\\n",
       "customer_id                                            \n",
       "csid_10739             0.118811             0.093253   \n",
       "csid_10740             0.130985             0.053575   \n",
       "csid_10741            -0.004651            -0.036299   \n",
       "csid_10742             0.229740             0.204591   \n",
       "csid_10743            -0.011347            -0.028780   \n",
       "\n",
       "             customer_frequency_score  customer_product_variation_score  \\\n",
       "customer_id                                                               \n",
       "csid_10739                   0.689237                          5.786842   \n",
       "csid_10740                   0.142756                          3.940359   \n",
       "csid_10741                   0.333709                          4.254662   \n",
       "csid_10742                   3.768405                          6.942625   \n",
       "csid_10743                   0.286841                          4.585513   \n",
       "\n",
       "             customer_order_score  customer_affinity_score  \\\n",
       "customer_id                                                  \n",
       "csid_10739               3.748009                 7.661716   \n",
       "csid_10740               3.469659                33.999679   \n",
       "csid_10741               3.855939                33.485630   \n",
       "csid_10742               2.362421                 0.795372   \n",
       "csid_10743               3.278624                15.052058   \n",
       "\n",
       "            customer_active_segment  X1  \n",
       "customer_id                              \n",
       "csid_10739                        B  BA  \n",
       "csid_10740                        B  AA  \n",
       "csid_10741                        B  AA  \n",
       "csid_10742                        B  BA  \n",
       "csid_10743                        C  BA  "
      ]
     },
     "execution_count": 7,
     "metadata": {},
     "output_type": "execute_result"
    }
   ],
   "source": [
    "test_data.head()"
   ]
  },
  {
   "cell_type": "code",
   "execution_count": 8,
   "metadata": {},
   "outputs": [
    {
     "name": "stdout",
     "output_type": "stream",
     "text": [
      "(7160, 10) \n",
      "\n",
      "<class 'pandas.core.frame.DataFrame'>\n",
      "Index: 7160 entries, csid_10739 to csid_17898\n",
      "Data columns (total 10 columns):\n",
      " #   Column                            Non-Null Count  Dtype  \n",
      "---  ------                            --------------  -----  \n",
      " 0   customer_visit_score              7160 non-null   float64\n",
      " 1   customer_product_search_score     7131 non-null   float64\n",
      " 2   customer_ctr_score                7160 non-null   float64\n",
      " 3   customer_stay_score               7144 non-null   float64\n",
      " 4   customer_frequency_score          7160 non-null   float64\n",
      " 5   customer_product_variation_score  7117 non-null   float64\n",
      " 6   customer_order_score              7119 non-null   float64\n",
      " 7   customer_affinity_score           7160 non-null   float64\n",
      " 8   customer_active_segment           7148 non-null   object \n",
      " 9   X1                                7135 non-null   object \n",
      "dtypes: float64(8), object(2)\n",
      "memory usage: 615.3+ KB\n",
      "None\n"
     ]
    }
   ],
   "source": [
    "print(test_data.shape,'\\n')\n",
    "print(test_data.info())"
   ]
  },
  {
   "cell_type": "code",
   "execution_count": 9,
   "metadata": {},
   "outputs": [
    {
     "data": {
      "text/html": [
       "<div>\n",
       "<style scoped>\n",
       "    .dataframe tbody tr th:only-of-type {\n",
       "        vertical-align: middle;\n",
       "    }\n",
       "\n",
       "    .dataframe tbody tr th {\n",
       "        vertical-align: top;\n",
       "    }\n",
       "\n",
       "    .dataframe thead th {\n",
       "        text-align: right;\n",
       "    }\n",
       "</style>\n",
       "<table border=\"1\" class=\"dataframe\">\n",
       "  <thead>\n",
       "    <tr style=\"text-align: right;\">\n",
       "      <th></th>\n",
       "      <th>customer_visit_score</th>\n",
       "      <th>customer_product_search_score</th>\n",
       "      <th>customer_ctr_score</th>\n",
       "      <th>customer_stay_score</th>\n",
       "      <th>customer_frequency_score</th>\n",
       "      <th>customer_product_variation_score</th>\n",
       "      <th>customer_order_score</th>\n",
       "      <th>customer_affinity_score</th>\n",
       "    </tr>\n",
       "  </thead>\n",
       "  <tbody>\n",
       "    <tr>\n",
       "      <th>count</th>\n",
       "      <td>7160.000000</td>\n",
       "      <td>7131.000000</td>\n",
       "      <td>7160.000000</td>\n",
       "      <td>7144.000000</td>\n",
       "      <td>7160.000000</td>\n",
       "      <td>7117.000000</td>\n",
       "      <td>7119.000000</td>\n",
       "      <td>7160.000000</td>\n",
       "    </tr>\n",
       "    <tr>\n",
       "      <th>mean</th>\n",
       "      <td>19.700385</td>\n",
       "      <td>5.385970</td>\n",
       "      <td>0.111038</td>\n",
       "      <td>0.202822</td>\n",
       "      <td>1.885588</td>\n",
       "      <td>5.444226</td>\n",
       "      <td>3.309440</td>\n",
       "      <td>19.889035</td>\n",
       "    </tr>\n",
       "    <tr>\n",
       "      <th>std</th>\n",
       "      <td>6.980932</td>\n",
       "      <td>1.779850</td>\n",
       "      <td>0.260733</td>\n",
       "      <td>0.886824</td>\n",
       "      <td>4.967213</td>\n",
       "      <td>2.336244</td>\n",
       "      <td>1.060144</td>\n",
       "      <td>20.783679</td>\n",
       "    </tr>\n",
       "    <tr>\n",
       "      <th>min</th>\n",
       "      <td>1.248385</td>\n",
       "      <td>-0.113791</td>\n",
       "      <td>-0.615134</td>\n",
       "      <td>-0.381836</td>\n",
       "      <td>0.022957</td>\n",
       "      <td>2.718819</td>\n",
       "      <td>0.620935</td>\n",
       "      <td>-0.501215</td>\n",
       "    </tr>\n",
       "    <tr>\n",
       "      <th>25%</th>\n",
       "      <td>14.250243</td>\n",
       "      <td>4.146965</td>\n",
       "      <td>0.005032</td>\n",
       "      <td>-0.033382</td>\n",
       "      <td>0.282119</td>\n",
       "      <td>4.099106</td>\n",
       "      <td>2.645399</td>\n",
       "      <td>6.910150</td>\n",
       "    </tr>\n",
       "    <tr>\n",
       "      <th>50%</th>\n",
       "      <td>19.256051</td>\n",
       "      <td>5.358104</td>\n",
       "      <td>0.063178</td>\n",
       "      <td>0.024508</td>\n",
       "      <td>0.457636</td>\n",
       "      <td>4.669433</td>\n",
       "      <td>3.254096</td>\n",
       "      <td>14.630477</td>\n",
       "    </tr>\n",
       "    <tr>\n",
       "      <th>75%</th>\n",
       "      <td>24.756843</td>\n",
       "      <td>6.579949</td>\n",
       "      <td>0.135072</td>\n",
       "      <td>0.130086</td>\n",
       "      <td>0.822750</td>\n",
       "      <td>5.665742</td>\n",
       "      <td>3.875797</td>\n",
       "      <td>26.102862</td>\n",
       "    </tr>\n",
       "    <tr>\n",
       "      <th>max</th>\n",
       "      <td>42.960500</td>\n",
       "      <td>13.678108</td>\n",
       "      <td>2.528584</td>\n",
       "      <td>13.533233</td>\n",
       "      <td>49.683739</td>\n",
       "      <td>19.095799</td>\n",
       "      <td>11.388305</td>\n",
       "      <td>257.251810</td>\n",
       "    </tr>\n",
       "  </tbody>\n",
       "</table>\n",
       "</div>"
      ],
      "text/plain": [
       "       customer_visit_score  customer_product_search_score  \\\n",
       "count           7160.000000                    7131.000000   \n",
       "mean              19.700385                       5.385970   \n",
       "std                6.980932                       1.779850   \n",
       "min                1.248385                      -0.113791   \n",
       "25%               14.250243                       4.146965   \n",
       "50%               19.256051                       5.358104   \n",
       "75%               24.756843                       6.579949   \n",
       "max               42.960500                      13.678108   \n",
       "\n",
       "       customer_ctr_score  customer_stay_score  customer_frequency_score  \\\n",
       "count         7160.000000          7144.000000               7160.000000   \n",
       "mean             0.111038             0.202822                  1.885588   \n",
       "std              0.260733             0.886824                  4.967213   \n",
       "min             -0.615134            -0.381836                  0.022957   \n",
       "25%              0.005032            -0.033382                  0.282119   \n",
       "50%              0.063178             0.024508                  0.457636   \n",
       "75%              0.135072             0.130086                  0.822750   \n",
       "max              2.528584            13.533233                 49.683739   \n",
       "\n",
       "       customer_product_variation_score  customer_order_score  \\\n",
       "count                       7117.000000           7119.000000   \n",
       "mean                           5.444226              3.309440   \n",
       "std                            2.336244              1.060144   \n",
       "min                            2.718819              0.620935   \n",
       "25%                            4.099106              2.645399   \n",
       "50%                            4.669433              3.254096   \n",
       "75%                            5.665742              3.875797   \n",
       "max                           19.095799             11.388305   \n",
       "\n",
       "       customer_affinity_score  \n",
       "count              7160.000000  \n",
       "mean                 19.889035  \n",
       "std                  20.783679  \n",
       "min                  -0.501215  \n",
       "25%                   6.910150  \n",
       "50%                  14.630477  \n",
       "75%                  26.102862  \n",
       "max                 257.251810  "
      ]
     },
     "execution_count": 9,
     "metadata": {},
     "output_type": "execute_result"
    }
   ],
   "source": [
    "test_data.describe()"
   ]
  },
  {
   "cell_type": "code",
   "execution_count": 10,
   "metadata": {
    "scrolled": true
   },
   "outputs": [
    {
     "data": {
      "text/plain": [
       "customer_visit_score                10738\n",
       "customer_product_search_score       10696\n",
       "customer_ctr_score                  10738\n",
       "customer_stay_score                 10701\n",
       "customer_frequency_score            10738\n",
       "customer_product_variation_score    10692\n",
       "customer_order_score                10672\n",
       "customer_affinity_score             10738\n",
       "customer_active_segment                 5\n",
       "X1                                      5\n",
       "customer_category                       2\n",
       "dtype: int64"
      ]
     },
     "execution_count": 10,
     "metadata": {},
     "output_type": "execute_result"
    }
   ],
   "source": [
    "data.nunique()"
   ]
  },
  {
   "cell_type": "code",
   "execution_count": 29,
   "metadata": {},
   "outputs": [],
   "source": [
    "data1 = data[['customer_active_segment','customer_category']]"
   ]
  },
  {
   "cell_type": "code",
   "execution_count": 30,
   "metadata": {},
   "outputs": [
    {
     "data": {
      "text/html": [
       "<div>\n",
       "<style scoped>\n",
       "    .dataframe tbody tr th:only-of-type {\n",
       "        vertical-align: middle;\n",
       "    }\n",
       "\n",
       "    .dataframe tbody tr th {\n",
       "        vertical-align: top;\n",
       "    }\n",
       "\n",
       "    .dataframe thead th {\n",
       "        text-align: right;\n",
       "    }\n",
       "</style>\n",
       "<table border=\"1\" class=\"dataframe\">\n",
       "  <thead>\n",
       "    <tr style=\"text-align: right;\">\n",
       "      <th></th>\n",
       "      <th>customer_active_segment</th>\n",
       "      <th>customer_category</th>\n",
       "    </tr>\n",
       "    <tr>\n",
       "      <th>customer_id</th>\n",
       "      <th></th>\n",
       "      <th></th>\n",
       "    </tr>\n",
       "  </thead>\n",
       "  <tbody>\n",
       "    <tr>\n",
       "      <th>csid_1</th>\n",
       "      <td>C</td>\n",
       "      <td>0</td>\n",
       "    </tr>\n",
       "    <tr>\n",
       "      <th>csid_2</th>\n",
       "      <td>C</td>\n",
       "      <td>0</td>\n",
       "    </tr>\n",
       "    <tr>\n",
       "      <th>csid_3</th>\n",
       "      <td>C</td>\n",
       "      <td>0</td>\n",
       "    </tr>\n",
       "    <tr>\n",
       "      <th>csid_4</th>\n",
       "      <td>AA</td>\n",
       "      <td>0</td>\n",
       "    </tr>\n",
       "    <tr>\n",
       "      <th>csid_5</th>\n",
       "      <td>C</td>\n",
       "      <td>0</td>\n",
       "    </tr>\n",
       "    <tr>\n",
       "      <th>...</th>\n",
       "      <td>...</td>\n",
       "      <td>...</td>\n",
       "    </tr>\n",
       "    <tr>\n",
       "      <th>csid_10734</th>\n",
       "      <td>C</td>\n",
       "      <td>0</td>\n",
       "    </tr>\n",
       "    <tr>\n",
       "      <th>csid_10735</th>\n",
       "      <td>C</td>\n",
       "      <td>0</td>\n",
       "    </tr>\n",
       "    <tr>\n",
       "      <th>csid_10736</th>\n",
       "      <td>A</td>\n",
       "      <td>0</td>\n",
       "    </tr>\n",
       "    <tr>\n",
       "      <th>csid_10737</th>\n",
       "      <td>B</td>\n",
       "      <td>0</td>\n",
       "    </tr>\n",
       "    <tr>\n",
       "      <th>csid_10738</th>\n",
       "      <td>B</td>\n",
       "      <td>0</td>\n",
       "    </tr>\n",
       "  </tbody>\n",
       "</table>\n",
       "<p>10738 rows × 2 columns</p>\n",
       "</div>"
      ],
      "text/plain": [
       "            customer_active_segment  customer_category\n",
       "customer_id                                           \n",
       "csid_1                            C                  0\n",
       "csid_2                            C                  0\n",
       "csid_3                            C                  0\n",
       "csid_4                           AA                  0\n",
       "csid_5                            C                  0\n",
       "...                             ...                ...\n",
       "csid_10734                        C                  0\n",
       "csid_10735                        C                  0\n",
       "csid_10736                        A                  0\n",
       "csid_10737                        B                  0\n",
       "csid_10738                        B                  0\n",
       "\n",
       "[10738 rows x 2 columns]"
      ]
     },
     "execution_count": 30,
     "metadata": {},
     "output_type": "execute_result"
    }
   ],
   "source": [
    "data1"
   ]
  },
  {
   "cell_type": "code",
   "execution_count": 31,
   "metadata": {},
   "outputs": [],
   "source": [
    "from sklearn.preprocessing import OneHotEncoder"
   ]
  },
  {
   "cell_type": "code",
   "execution_count": 32,
   "metadata": {},
   "outputs": [],
   "source": [
    "enc = OneHotEncoder(handle_unknown='ignore')"
   ]
  },
  {
   "cell_type": "code",
   "execution_count": 33,
   "metadata": {},
   "outputs": [],
   "source": [
    "X = data1"
   ]
  },
  {
   "cell_type": "code",
   "execution_count": 37,
   "metadata": {},
   "outputs": [],
   "source": [
    "X = X.dropna"
   ]
  },
  {
   "cell_type": "code",
   "execution_count": 38,
   "metadata": {},
   "outputs": [
    {
     "ename": "ValueError",
     "evalue": "Expected 2D array, got scalar array instead:\narray=<bound method DataFrame.dropna of             customer_active_segment  customer_category\ncustomer_id                                           \ncsid_1                            C                  0\ncsid_2                            C                  0\ncsid_3                            C                  0\ncsid_4                           AA                  0\ncsid_5                            C                  0\n...                             ...                ...\ncsid_10734                        C                  0\ncsid_10735                        C                  0\ncsid_10736                        A                  0\ncsid_10737                        B                  0\ncsid_10738                        B                  0\n\n[10738 rows x 2 columns]>.\nReshape your data either using array.reshape(-1, 1) if your data has a single feature or array.reshape(1, -1) if it contains a single sample.",
     "output_type": "error",
     "traceback": [
      "\u001b[0;31m---------------------------------------------------------------------------\u001b[0m",
      "\u001b[0;31mValueError\u001b[0m                                Traceback (most recent call last)",
      "\u001b[0;32m<ipython-input-38-d0db7ae3b1ff>\u001b[0m in \u001b[0;36m<module>\u001b[0;34m\u001b[0m\n\u001b[0;32m----> 1\u001b[0;31m \u001b[0menc\u001b[0m\u001b[0;34m.\u001b[0m\u001b[0mfit\u001b[0m\u001b[0;34m(\u001b[0m\u001b[0mX\u001b[0m\u001b[0;34m)\u001b[0m\u001b[0;34m\u001b[0m\u001b[0;34m\u001b[0m\u001b[0m\n\u001b[0m",
      "\u001b[0;32m/opt/anaconda3/lib/python3.7/site-packages/sklearn/preprocessing/_encoders.py\u001b[0m in \u001b[0;36mfit\u001b[0;34m(self, X, y)\u001b[0m\n\u001b[1;32m    345\u001b[0m         \"\"\"\n\u001b[1;32m    346\u001b[0m         \u001b[0mself\u001b[0m\u001b[0;34m.\u001b[0m\u001b[0m_validate_keywords\u001b[0m\u001b[0;34m(\u001b[0m\u001b[0;34m)\u001b[0m\u001b[0;34m\u001b[0m\u001b[0;34m\u001b[0m\u001b[0m\n\u001b[0;32m--> 347\u001b[0;31m         \u001b[0mself\u001b[0m\u001b[0;34m.\u001b[0m\u001b[0m_fit\u001b[0m\u001b[0;34m(\u001b[0m\u001b[0mX\u001b[0m\u001b[0;34m,\u001b[0m \u001b[0mhandle_unknown\u001b[0m\u001b[0;34m=\u001b[0m\u001b[0mself\u001b[0m\u001b[0;34m.\u001b[0m\u001b[0mhandle_unknown\u001b[0m\u001b[0;34m)\u001b[0m\u001b[0;34m\u001b[0m\u001b[0;34m\u001b[0m\u001b[0m\n\u001b[0m\u001b[1;32m    348\u001b[0m         \u001b[0mself\u001b[0m\u001b[0;34m.\u001b[0m\u001b[0mdrop_idx_\u001b[0m \u001b[0;34m=\u001b[0m \u001b[0mself\u001b[0m\u001b[0;34m.\u001b[0m\u001b[0m_compute_drop_idx\u001b[0m\u001b[0;34m(\u001b[0m\u001b[0;34m)\u001b[0m\u001b[0;34m\u001b[0m\u001b[0;34m\u001b[0m\u001b[0m\n\u001b[1;32m    349\u001b[0m         \u001b[0;32mreturn\u001b[0m \u001b[0mself\u001b[0m\u001b[0;34m\u001b[0m\u001b[0;34m\u001b[0m\u001b[0m\n",
      "\u001b[0;32m/opt/anaconda3/lib/python3.7/site-packages/sklearn/preprocessing/_encoders.py\u001b[0m in \u001b[0;36m_fit\u001b[0;34m(self, X, handle_unknown)\u001b[0m\n\u001b[1;32m     72\u001b[0m \u001b[0;34m\u001b[0m\u001b[0m\n\u001b[1;32m     73\u001b[0m     \u001b[0;32mdef\u001b[0m \u001b[0m_fit\u001b[0m\u001b[0;34m(\u001b[0m\u001b[0mself\u001b[0m\u001b[0;34m,\u001b[0m \u001b[0mX\u001b[0m\u001b[0;34m,\u001b[0m \u001b[0mhandle_unknown\u001b[0m\u001b[0;34m=\u001b[0m\u001b[0;34m'error'\u001b[0m\u001b[0;34m)\u001b[0m\u001b[0;34m:\u001b[0m\u001b[0;34m\u001b[0m\u001b[0;34m\u001b[0m\u001b[0m\n\u001b[0;32m---> 74\u001b[0;31m         \u001b[0mX_list\u001b[0m\u001b[0;34m,\u001b[0m \u001b[0mn_samples\u001b[0m\u001b[0;34m,\u001b[0m \u001b[0mn_features\u001b[0m \u001b[0;34m=\u001b[0m \u001b[0mself\u001b[0m\u001b[0;34m.\u001b[0m\u001b[0m_check_X\u001b[0m\u001b[0;34m(\u001b[0m\u001b[0mX\u001b[0m\u001b[0;34m)\u001b[0m\u001b[0;34m\u001b[0m\u001b[0;34m\u001b[0m\u001b[0m\n\u001b[0m\u001b[1;32m     75\u001b[0m \u001b[0;34m\u001b[0m\u001b[0m\n\u001b[1;32m     76\u001b[0m         \u001b[0;32mif\u001b[0m \u001b[0mself\u001b[0m\u001b[0;34m.\u001b[0m\u001b[0mcategories\u001b[0m \u001b[0;34m!=\u001b[0m \u001b[0;34m'auto'\u001b[0m\u001b[0;34m:\u001b[0m\u001b[0;34m\u001b[0m\u001b[0;34m\u001b[0m\u001b[0m\n",
      "\u001b[0;32m/opt/anaconda3/lib/python3.7/site-packages/sklearn/preprocessing/_encoders.py\u001b[0m in \u001b[0;36m_check_X\u001b[0;34m(self, X)\u001b[0m\n\u001b[1;32m     41\u001b[0m         \u001b[0;32mif\u001b[0m \u001b[0;32mnot\u001b[0m \u001b[0;34m(\u001b[0m\u001b[0mhasattr\u001b[0m\u001b[0;34m(\u001b[0m\u001b[0mX\u001b[0m\u001b[0;34m,\u001b[0m \u001b[0;34m'iloc'\u001b[0m\u001b[0;34m)\u001b[0m \u001b[0;32mand\u001b[0m \u001b[0mgetattr\u001b[0m\u001b[0;34m(\u001b[0m\u001b[0mX\u001b[0m\u001b[0;34m,\u001b[0m \u001b[0;34m'ndim'\u001b[0m\u001b[0;34m,\u001b[0m \u001b[0;36m0\u001b[0m\u001b[0;34m)\u001b[0m \u001b[0;34m==\u001b[0m \u001b[0;36m2\u001b[0m\u001b[0;34m)\u001b[0m\u001b[0;34m:\u001b[0m\u001b[0;34m\u001b[0m\u001b[0;34m\u001b[0m\u001b[0m\n\u001b[1;32m     42\u001b[0m             \u001b[0;31m# if not a dataframe, do normal check_array validation\u001b[0m\u001b[0;34m\u001b[0m\u001b[0;34m\u001b[0m\u001b[0;34m\u001b[0m\u001b[0m\n\u001b[0;32m---> 43\u001b[0;31m             \u001b[0mX_temp\u001b[0m \u001b[0;34m=\u001b[0m \u001b[0mcheck_array\u001b[0m\u001b[0;34m(\u001b[0m\u001b[0mX\u001b[0m\u001b[0;34m,\u001b[0m \u001b[0mdtype\u001b[0m\u001b[0;34m=\u001b[0m\u001b[0;32mNone\u001b[0m\u001b[0;34m)\u001b[0m\u001b[0;34m\u001b[0m\u001b[0;34m\u001b[0m\u001b[0m\n\u001b[0m\u001b[1;32m     44\u001b[0m             if (not hasattr(X, 'dtype')\n\u001b[1;32m     45\u001b[0m                     and np.issubdtype(X_temp.dtype, np.str_)):\n",
      "\u001b[0;32m/opt/anaconda3/lib/python3.7/site-packages/sklearn/utils/validation.py\u001b[0m in \u001b[0;36mcheck_array\u001b[0;34m(array, accept_sparse, accept_large_sparse, dtype, order, copy, force_all_finite, ensure_2d, allow_nd, ensure_min_samples, ensure_min_features, warn_on_dtype, estimator)\u001b[0m\n\u001b[1;32m    547\u001b[0m                     \u001b[0;34m\"Reshape your data either using array.reshape(-1, 1) if \"\u001b[0m\u001b[0;34m\u001b[0m\u001b[0;34m\u001b[0m\u001b[0m\n\u001b[1;32m    548\u001b[0m                     \u001b[0;34m\"your data has a single feature or array.reshape(1, -1) \"\u001b[0m\u001b[0;34m\u001b[0m\u001b[0;34m\u001b[0m\u001b[0m\n\u001b[0;32m--> 549\u001b[0;31m                     \"if it contains a single sample.\".format(array))\n\u001b[0m\u001b[1;32m    550\u001b[0m             \u001b[0;31m# If input is 1D raise error\u001b[0m\u001b[0;34m\u001b[0m\u001b[0;34m\u001b[0m\u001b[0;34m\u001b[0m\u001b[0m\n\u001b[1;32m    551\u001b[0m             \u001b[0;32mif\u001b[0m \u001b[0marray\u001b[0m\u001b[0;34m.\u001b[0m\u001b[0mndim\u001b[0m \u001b[0;34m==\u001b[0m \u001b[0;36m1\u001b[0m\u001b[0;34m:\u001b[0m\u001b[0;34m\u001b[0m\u001b[0;34m\u001b[0m\u001b[0m\n",
      "\u001b[0;31mValueError\u001b[0m: Expected 2D array, got scalar array instead:\narray=<bound method DataFrame.dropna of             customer_active_segment  customer_category\ncustomer_id                                           \ncsid_1                            C                  0\ncsid_2                            C                  0\ncsid_3                            C                  0\ncsid_4                           AA                  0\ncsid_5                            C                  0\n...                             ...                ...\ncsid_10734                        C                  0\ncsid_10735                        C                  0\ncsid_10736                        A                  0\ncsid_10737                        B                  0\ncsid_10738                        B                  0\n\n[10738 rows x 2 columns]>.\nReshape your data either using array.reshape(-1, 1) if your data has a single feature or array.reshape(1, -1) if it contains a single sample."
     ]
    }
   ],
   "source": [
    "enc.fit(X)"
   ]
  },
  {
   "cell_type": "code",
   "execution_count": null,
   "metadata": {},
   "outputs": [],
   "source": []
  },
  {
   "cell_type": "code",
   "execution_count": null,
   "metadata": {},
   "outputs": [],
   "source": []
  },
  {
   "cell_type": "code",
   "execution_count": null,
   "metadata": {},
   "outputs": [],
   "source": []
  },
  {
   "cell_type": "code",
   "execution_count": null,
   "metadata": {},
   "outputs": [],
   "source": []
  },
  {
   "cell_type": "code",
   "execution_count": null,
   "metadata": {},
   "outputs": [],
   "source": []
  },
  {
   "cell_type": "code",
   "execution_count": null,
   "metadata": {},
   "outputs": [],
   "source": []
  },
  {
   "cell_type": "code",
   "execution_count": 11,
   "metadata": {},
   "outputs": [
    {
     "data": {
      "text/plain": [
       "customer_visit_score                 0\n",
       "customer_product_search_score       42\n",
       "customer_ctr_score                   0\n",
       "customer_stay_score                 37\n",
       "customer_frequency_score             0\n",
       "customer_product_variation_score    46\n",
       "customer_order_score                66\n",
       "customer_affinity_score              0\n",
       "customer_active_segment             23\n",
       "X1                                  37\n",
       "customer_category                    0\n",
       "dtype: int64"
      ]
     },
     "execution_count": 11,
     "metadata": {},
     "output_type": "execute_result"
    }
   ],
   "source": [
    "data.isna().sum()"
   ]
  },
  {
   "cell_type": "code",
   "execution_count": 12,
   "metadata": {},
   "outputs": [
    {
     "data": {
      "text/plain": [
       "customer_visit_score                 0\n",
       "customer_product_search_score       29\n",
       "customer_ctr_score                   0\n",
       "customer_stay_score                 16\n",
       "customer_frequency_score             0\n",
       "customer_product_variation_score    43\n",
       "customer_order_score                41\n",
       "customer_affinity_score              0\n",
       "customer_active_segment             12\n",
       "X1                                  25\n",
       "dtype: int64"
      ]
     },
     "execution_count": 12,
     "metadata": {},
     "output_type": "execute_result"
    }
   ],
   "source": [
    "test_data.isna().sum()"
   ]
  },
  {
   "cell_type": "code",
   "execution_count": 13,
   "metadata": {},
   "outputs": [
    {
     "data": {
      "image/png": "[encoded data removed]",
      "text/plain": [
       "<Figure size 432x288 with 1 Axes>"
      ]
     },
     "metadata": {
      "needs_background": "light"
     },
     "output_type": "display_data"
    },
    {
     "name": "stdout",
     "output_type": "stream",
     "text": [
      "0    9443\n",
      "1    1295\n",
      "Name: customer_category, dtype: int64\n",
      "Percentage of prediction: 12.059973924380705 %\n"
     ]
    }
   ],
   "source": [
    "sns.countplot(x='customer_category',data=data)\n",
    "plt.show()\n",
    "\n",
    "print(data.customer_category.value_counts())\n",
    "\n",
    "count_1 = len(data[data.customer_category == 1])\n",
    "count_0 = len(data[data.customer_category == 0])\n",
    "\n",
    "percent_success = (count_1/(count_1 + count_0))*100\n",
    "\n",
    "print('Percentage of prediction:', percent_success, \"%\")"
   ]
  },
  {
   "cell_type": "code",
   "execution_count": 14,
   "metadata": {},
   "outputs": [
    {
     "data": {
      "text/plain": [
       "<seaborn.axisgrid.FacetGrid at 0x7fcbbd824e90>"
      ]
     },
     "execution_count": 14,
     "metadata": {},
     "output_type": "execute_result"
    },
    {
     "data": {
      "image/png": "[encoded data removed]",
      "text/plain": [
       "<Figure size 463.875x360 with 1 Axes>"
      ]
     },
     "metadata": {
      "needs_background": "light"
     },
     "output_type": "display_data"
    }
   ],
   "source": [
    "sns.factorplot('X1',data = data, hue = 'customer_category',kind = 'count')"
   ]
  },
  {
   "cell_type": "code",
   "execution_count": 15,
   "metadata": {},
   "outputs": [
    {
     "data": {
      "image/png": "[encoded data removed]",
      "text/plain": [
       "<Figure size 576x432 with 1 Axes>"
      ]
     },
     "metadata": {
      "needs_background": "light"
     },
     "output_type": "display_data"
    }
   ],
   "source": [
    "box = data.boxplot(column=['customer_frequency_score', 'customer_product_variation_score', 'customer_affinity_score'], figsize=(8,6))"
   ]
  },
  {
   "cell_type": "code",
   "execution_count": 16,
   "metadata": {},
   "outputs": [
    {
     "data": {
      "text/plain": [
       "<matplotlib.axes._subplots.AxesSubplot at 0x7fcbc16c1c90>"
      ]
     },
     "execution_count": 16,
     "metadata": {},
     "output_type": "execute_result"
    },
    {
     "data": {
      "image/png": "[encoded data removed]",
      "text/plain": [
       "<Figure size 432x288 with 2 Axes>"
      ]
     },
     "metadata": {
      "needs_background": "light"
     },
     "output_type": "display_data"
    }
   ],
   "source": [
    "correlaton = data.corr()\n",
    "sns.heatmap(correlaton, annot=True, linewidth=3)"
   ]
  },
  {
   "cell_type": "markdown",
   "metadata": {},
   "source": [
    "corr_matrix = data.corr()\n",
    "corr_matrix[\"customer_category\"].sort_values(ascending=False)"
   ]
  },
  {
   "cell_type": "code",
   "execution_count": 17,
   "metadata": {},
   "outputs": [],
   "source": [
    "drop_list = ['customer_stay_score','X1']"
   ]
  },
  {
   "cell_type": "code",
   "execution_count": 18,
   "metadata": {},
   "outputs": [
    {
     "name": "stdout",
     "output_type": "stream",
     "text": [
      "(10738, 9)\n",
      "(7160, 8)\n"
     ]
    }
   ],
   "source": [
    "data.drop(drop_list, axis=1, inplace=True)\n",
    "test_data.drop(drop_list, axis=1, inplace=True)\n",
    "\n",
    "print(data.shape)\n",
    "print(test_data.shape)"
   ]
  },
  {
   "cell_type": "code",
   "execution_count": 19,
   "metadata": {
    "scrolled": false
   },
   "outputs": [
    {
     "data": {
      "text/plain": [
       "customer_visit_score                float64\n",
       "customer_product_search_score       float64\n",
       "customer_ctr_score                  float64\n",
       "customer_frequency_score            float64\n",
       "customer_product_variation_score    float64\n",
       "customer_order_score                float64\n",
       "customer_affinity_score             float64\n",
       "customer_active_segment              object\n",
       "customer_category                     int64\n",
       "dtype: object"
      ]
     },
     "execution_count": 19,
     "metadata": {},
     "output_type": "execute_result"
    }
   ],
   "source": [
    "data.dtypes"
   ]
  },
  {
   "cell_type": "code",
   "execution_count": 20,
   "metadata": {},
   "outputs": [
    {
     "name": "stdout",
     "output_type": "stream",
     "text": [
      "['customer_active_segment'] \n",
      "\n",
      "['customer_affinity_score', 'customer_category', 'customer_ctr_score', 'customer_frequency_score', 'customer_order_score', 'customer_product_search_score', 'customer_product_variation_score', 'customer_visit_score']\n"
     ]
    }
   ],
   "source": [
    "cat_attr = list(data.select_dtypes(\"object\").columns)\n",
    "num_attr = list(data.columns.difference(cat_attr))\n",
    "\n",
    "print(cat_attr,'\\n')\n",
    "print(num_attr)"
   ]
  },
  {
   "cell_type": "code",
   "execution_count": 21,
   "metadata": {},
   "outputs": [
    {
     "data": {
      "text/plain": [
       "'customer_category'"
      ]
     },
     "execution_count": 21,
     "metadata": {},
     "output_type": "execute_result"
    }
   ],
   "source": [
    "num_attr.pop(1)"
   ]
  },
  {
   "cell_type": "markdown",
   "metadata": {},
   "source": [
    "data = pd.get_dummies(data)"
   ]
  },
  {
   "cell_type": "markdown",
   "metadata": {},
   "source": [
    "sd = MinMaxScaler()"
   ]
  },
  {
   "cell_type": "markdown",
   "metadata": {},
   "source": [
    "data = pd.DataFrame(sd.fit_transform(data), columns=data.columns)"
   ]
  },
  {
   "cell_type": "code",
   "execution_count": 22,
   "metadata": {},
   "outputs": [],
   "source": [
    "for i in cat_attr:\n",
    "    data[i] = data[i].astype(\"category\")"
   ]
  },
  {
   "cell_type": "markdown",
   "metadata": {},
   "source": [
    "testdata_cat_attr = list(test_data.select_dtypes(\"object\").columns)\n",
    "testdata_num_attr = list(test_data.columns.difference(cat_attr))\n",
    "\n",
    "print(testdata_cat_attr,'\\n')\n",
    "print(testdata_num_attr)"
   ]
  },
  {
   "cell_type": "markdown",
   "metadata": {},
   "source": [
    "for i in testdata_cat_attr:\n",
    "    test_data[i] = test_data[i].astype(\"category\")"
   ]
  },
  {
   "cell_type": "code",
   "execution_count": 25,
   "metadata": {},
   "outputs": [
    {
     "data": {
      "text/plain": [
       "['customer_active_segment']"
      ]
     },
     "execution_count": 25,
     "metadata": {},
     "output_type": "execute_result"
    }
   ],
   "source": [
    "cat_attr"
   ]
  },
  {
   "cell_type": "code",
   "execution_count": null,
   "metadata": {},
   "outputs": [],
   "source": []
  },
  {
   "cell_type": "code",
   "execution_count": null,
   "metadata": {},
   "outputs": [],
   "source": []
  },
  {
   "cell_type": "code",
   "execution_count": null,
   "metadata": {},
   "outputs": [],
   "source": []
  },
  {
   "cell_type": "code",
   "execution_count": 28,
   "metadata": {},
   "outputs": [],
   "source": [
    "numeric_transformer = Pipeline(steps=[\n",
    "    ('imputer', SimpleImputer(strategy='mean')),\n",
    "    ('scaler', MinMaxScaler())])\n",
    "\n",
    "categorical_transformer = Pipeline(steps=[\n",
    "    ('imputer', SimpleImputer(strategy='most_frequent', fill_value='missing')),\n",
    "    ('onehot', OneHotEncoder(handle_unknown='ignore'))])\n",
    "\n",
    "preprocessor = ColumnTransformer(\n",
    "    transformers=[\n",
    "        ('num', numeric_transformer, num_attr),\n",
    "        ('cat', categorical_transformer, data['customer_active_segment'])])"
   ]
  },
  {
   "cell_type": "code",
   "execution_count": 31,
   "metadata": {},
   "outputs": [],
   "source": [
    "df = data.copy()"
   ]
  },
  {
   "cell_type": "code",
   "execution_count": 29,
   "metadata": {},
   "outputs": [
    {
     "data": {
      "text/html": [
       "<div>\n",
       "<style scoped>\n",
       "    .dataframe tbody tr th:only-of-type {\n",
       "        vertical-align: middle;\n",
       "    }\n",
       "\n",
       "    .dataframe tbody tr th {\n",
       "        vertical-align: top;\n",
       "    }\n",
       "\n",
       "    .dataframe thead th {\n",
       "        text-align: right;\n",
       "    }\n",
       "</style>\n",
       "<table border=\"1\" class=\"dataframe\">\n",
       "  <thead>\n",
       "    <tr style=\"text-align: right;\">\n",
       "      <th></th>\n",
       "      <th>customer_visit_score</th>\n",
       "      <th>customer_product_search_score</th>\n",
       "      <th>customer_ctr_score</th>\n",
       "      <th>customer_frequency_score</th>\n",
       "      <th>customer_product_variation_score</th>\n",
       "      <th>customer_order_score</th>\n",
       "      <th>customer_affinity_score</th>\n",
       "      <th>customer_active_segment</th>\n",
       "      <th>customer_category</th>\n",
       "    </tr>\n",
       "    <tr>\n",
       "      <th>customer_id</th>\n",
       "      <th></th>\n",
       "      <th></th>\n",
       "      <th></th>\n",
       "      <th></th>\n",
       "      <th></th>\n",
       "      <th></th>\n",
       "      <th></th>\n",
       "      <th></th>\n",
       "      <th></th>\n",
       "    </tr>\n",
       "  </thead>\n",
       "  <tbody>\n",
       "    <tr>\n",
       "      <th>csid_1</th>\n",
       "      <td>13.168425</td>\n",
       "      <td>9.447662</td>\n",
       "      <td>-0.070203</td>\n",
       "      <td>0.436956</td>\n",
       "      <td>4.705761</td>\n",
       "      <td>2.537985</td>\n",
       "      <td>7.959503</td>\n",
       "      <td>C</td>\n",
       "      <td>0</td>\n",
       "    </tr>\n",
       "    <tr>\n",
       "      <th>csid_2</th>\n",
       "      <td>17.092979</td>\n",
       "      <td>7.329056</td>\n",
       "      <td>0.153298</td>\n",
       "      <td>0.380340</td>\n",
       "      <td>4.205138</td>\n",
       "      <td>4.193444</td>\n",
       "      <td>17.517381</td>\n",
       "      <td>C</td>\n",
       "      <td>0</td>\n",
       "    </tr>\n",
       "    <tr>\n",
       "      <th>csid_3</th>\n",
       "      <td>17.505334</td>\n",
       "      <td>5.143676</td>\n",
       "      <td>0.106709</td>\n",
       "      <td>0.417648</td>\n",
       "      <td>4.479070</td>\n",
       "      <td>3.878971</td>\n",
       "      <td>12.595155</td>\n",
       "      <td>C</td>\n",
       "      <td>0</td>\n",
       "    </tr>\n",
       "    <tr>\n",
       "      <th>csid_4</th>\n",
       "      <td>31.423381</td>\n",
       "      <td>4.917740</td>\n",
       "      <td>-0.020226</td>\n",
       "      <td>0.778130</td>\n",
       "      <td>5.055535</td>\n",
       "      <td>2.708940</td>\n",
       "      <td>4.795073</td>\n",
       "      <td>AA</td>\n",
       "      <td>0</td>\n",
       "    </tr>\n",
       "    <tr>\n",
       "      <th>csid_5</th>\n",
       "      <td>11.909502</td>\n",
       "      <td>4.237073</td>\n",
       "      <td>0.187178</td>\n",
       "      <td>0.162067</td>\n",
       "      <td>3.445247</td>\n",
       "      <td>3.677360</td>\n",
       "      <td>56.636326</td>\n",
       "      <td>C</td>\n",
       "      <td>0</td>\n",
       "    </tr>\n",
       "    <tr>\n",
       "      <th>...</th>\n",
       "      <td>...</td>\n",
       "      <td>...</td>\n",
       "      <td>...</td>\n",
       "      <td>...</td>\n",
       "      <td>...</td>\n",
       "      <td>...</td>\n",
       "      <td>...</td>\n",
       "      <td>...</td>\n",
       "      <td>...</td>\n",
       "    </tr>\n",
       "    <tr>\n",
       "      <th>csid_10734</th>\n",
       "      <td>23.672615</td>\n",
       "      <td>6.701514</td>\n",
       "      <td>0.092879</td>\n",
       "      <td>1.210397</td>\n",
       "      <td>7.003663</td>\n",
       "      <td>3.027084</td>\n",
       "      <td>1.952911</td>\n",
       "      <td>C</td>\n",
       "      <td>0</td>\n",
       "    </tr>\n",
       "    <tr>\n",
       "      <th>csid_10735</th>\n",
       "      <td>25.673028</td>\n",
       "      <td>6.497796</td>\n",
       "      <td>0.050216</td>\n",
       "      <td>0.725230</td>\n",
       "      <td>5.407507</td>\n",
       "      <td>3.104172</td>\n",
       "      <td>5.124286</td>\n",
       "      <td>C</td>\n",
       "      <td>0</td>\n",
       "    </tr>\n",
       "    <tr>\n",
       "      <th>csid_10736</th>\n",
       "      <td>31.676844</td>\n",
       "      <td>7.799880</td>\n",
       "      <td>0.062961</td>\n",
       "      <td>0.318118</td>\n",
       "      <td>5.598486</td>\n",
       "      <td>2.403051</td>\n",
       "      <td>21.864188</td>\n",
       "      <td>A</td>\n",
       "      <td>0</td>\n",
       "    </tr>\n",
       "    <tr>\n",
       "      <th>csid_10737</th>\n",
       "      <td>28.441780</td>\n",
       "      <td>5.588302</td>\n",
       "      <td>-0.093931</td>\n",
       "      <td>0.132177</td>\n",
       "      <td>3.616492</td>\n",
       "      <td>4.972243</td>\n",
       "      <td>86.969977</td>\n",
       "      <td>B</td>\n",
       "      <td>0</td>\n",
       "    </tr>\n",
       "    <tr>\n",
       "      <th>csid_10738</th>\n",
       "      <td>20.663035</td>\n",
       "      <td>4.478301</td>\n",
       "      <td>0.253165</td>\n",
       "      <td>0.504904</td>\n",
       "      <td>4.181092</td>\n",
       "      <td>4.469215</td>\n",
       "      <td>27.770899</td>\n",
       "      <td>B</td>\n",
       "      <td>0</td>\n",
       "    </tr>\n",
       "  </tbody>\n",
       "</table>\n",
       "<p>10738 rows × 9 columns</p>\n",
       "</div>"
      ],
      "text/plain": [
       "             customer_visit_score  customer_product_search_score  \\\n",
       "customer_id                                                        \n",
       "csid_1                  13.168425                       9.447662   \n",
       "csid_2                  17.092979                       7.329056   \n",
       "csid_3                  17.505334                       5.143676   \n",
       "csid_4                  31.423381                       4.917740   \n",
       "csid_5                  11.909502                       4.237073   \n",
       "...                           ...                            ...   \n",
       "csid_10734              23.672615                       6.701514   \n",
       "csid_10735              25.673028                       6.497796   \n",
       "csid_10736              31.676844                       7.799880   \n",
       "csid_10737              28.441780                       5.588302   \n",
       "csid_10738              20.663035                       4.478301   \n",
       "\n",
       "             customer_ctr_score  customer_frequency_score  \\\n",
       "customer_id                                                 \n",
       "csid_1                -0.070203                  0.436956   \n",
       "csid_2                 0.153298                  0.380340   \n",
       "csid_3                 0.106709                  0.417648   \n",
       "csid_4                -0.020226                  0.778130   \n",
       "csid_5                 0.187178                  0.162067   \n",
       "...                         ...                       ...   \n",
       "csid_10734             0.092879                  1.210397   \n",
       "csid_10735             0.050216                  0.725230   \n",
       "csid_10736             0.062961                  0.318118   \n",
       "csid_10737            -0.093931                  0.132177   \n",
       "csid_10738             0.253165                  0.504904   \n",
       "\n",
       "             customer_product_variation_score  customer_order_score  \\\n",
       "customer_id                                                           \n",
       "csid_1                               4.705761              2.537985   \n",
       "csid_2                               4.205138              4.193444   \n",
       "csid_3                               4.479070              3.878971   \n",
       "csid_4                               5.055535              2.708940   \n",
       "csid_5                               3.445247              3.677360   \n",
       "...                                       ...                   ...   \n",
       "csid_10734                           7.003663              3.027084   \n",
       "csid_10735                           5.407507              3.104172   \n",
       "csid_10736                           5.598486              2.403051   \n",
       "csid_10737                           3.616492              4.972243   \n",
       "csid_10738                           4.181092              4.469215   \n",
       "\n",
       "             customer_affinity_score customer_active_segment  \\\n",
       "customer_id                                                    \n",
       "csid_1                      7.959503                       C   \n",
       "csid_2                     17.517381                       C   \n",
       "csid_3                     12.595155                       C   \n",
       "csid_4                      4.795073                      AA   \n",
       "csid_5                     56.636326                       C   \n",
       "...                              ...                     ...   \n",
       "csid_10734                  1.952911                       C   \n",
       "csid_10735                  5.124286                       C   \n",
       "csid_10736                 21.864188                       A   \n",
       "csid_10737                 86.969977                       B   \n",
       "csid_10738                 27.770899                       B   \n",
       "\n",
       "             customer_category  \n",
       "customer_id                     \n",
       "csid_1                       0  \n",
       "csid_2                       0  \n",
       "csid_3                       0  \n",
       "csid_4                       0  \n",
       "csid_5                       0  \n",
       "...                        ...  \n",
       "csid_10734                   0  \n",
       "csid_10735                   0  \n",
       "csid_10736                   0  \n",
       "csid_10737                   0  \n",
       "csid_10738                   0  \n",
       "\n",
       "[10738 rows x 9 columns]"
      ]
     },
     "execution_count": 29,
     "metadata": {},
     "output_type": "execute_result"
    }
   ],
   "source": [
    "data"
   ]
  },
  {
   "cell_type": "code",
   "execution_count": 24,
   "metadata": {},
   "outputs": [],
   "source": [
    "X = data.drop('customer_category',axis=1)\n",
    "Y = data.customer_category\n",
    "\n",
    "x_train, x_test, y_train, y_test = train_test_split(X, Y, test_size = 0.3, random_state = 123)"
   ]
  },
  {
   "cell_type": "code",
   "execution_count": 25,
   "metadata": {},
   "outputs": [
    {
     "name": "stdout",
     "output_type": "stream",
     "text": [
      "(7516, 8)\n",
      "(7516,) \n",
      "\n",
      "(3222, 8)\n",
      "(3222,)\n"
     ]
    }
   ],
   "source": [
    "print(x_train.shape)\n",
    "print(y_train.shape,'\\n')\n",
    "\n",
    "print(x_test.shape)\n",
    "print(y_test.shape)"
   ]
  },
  {
   "cell_type": "markdown",
   "metadata": {},
   "source": [
    "#### DecisionTree"
   ]
  },
  {
   "cell_type": "code",
   "execution_count": 26,
   "metadata": {},
   "outputs": [
    {
     "name": "stdout",
     "output_type": "stream",
     "text": [
      "Before OverSampling, counts of label '1': 931\n",
      "Before OverSampling, counts of label '0': 6585 \n",
      "\n"
     ]
    },
    {
     "ename": "ValueError",
     "evalue": "could not convert string to float: 'B'",
     "output_type": "error",
     "traceback": [
      "\u001b[0;31m---------------------------------------------------------------------------\u001b[0m",
      "\u001b[0;31mValueError\u001b[0m                                Traceback (most recent call last)",
      "\u001b[0;32m<ipython-input-26-9ac43a1367b5>\u001b[0m in \u001b[0;36m<module>\u001b[0;34m\u001b[0m\n\u001b[1;32m      3\u001b[0m \u001b[0;34m\u001b[0m\u001b[0m\n\u001b[1;32m      4\u001b[0m \u001b[0msm\u001b[0m \u001b[0;34m=\u001b[0m \u001b[0mSMOTE\u001b[0m\u001b[0;34m(\u001b[0m\u001b[0mrandom_state\u001b[0m\u001b[0;34m=\u001b[0m\u001b[0;36m2\u001b[0m\u001b[0;34m)\u001b[0m\u001b[0;34m\u001b[0m\u001b[0;34m\u001b[0m\u001b[0m\n\u001b[0;32m----> 5\u001b[0;31m \u001b[0mX_train_res\u001b[0m\u001b[0;34m,\u001b[0m \u001b[0my_train_res\u001b[0m \u001b[0;34m=\u001b[0m \u001b[0msm\u001b[0m\u001b[0;34m.\u001b[0m\u001b[0mfit_sample\u001b[0m\u001b[0;34m(\u001b[0m\u001b[0mx_train\u001b[0m\u001b[0;34m,\u001b[0m \u001b[0my_train\u001b[0m\u001b[0;34m.\u001b[0m\u001b[0mravel\u001b[0m\u001b[0;34m(\u001b[0m\u001b[0;34m)\u001b[0m\u001b[0;34m)\u001b[0m\u001b[0;34m\u001b[0m\u001b[0;34m\u001b[0m\u001b[0m\n\u001b[0m\u001b[1;32m      6\u001b[0m \u001b[0;34m\u001b[0m\u001b[0m\n\u001b[1;32m      7\u001b[0m \u001b[0mprint\u001b[0m\u001b[0;34m(\u001b[0m\u001b[0;34m'After OverSampling, the shape of train_X: {}'\u001b[0m\u001b[0;34m.\u001b[0m\u001b[0mformat\u001b[0m\u001b[0;34m(\u001b[0m\u001b[0mX_train_res\u001b[0m\u001b[0;34m.\u001b[0m\u001b[0mshape\u001b[0m\u001b[0;34m)\u001b[0m\u001b[0;34m)\u001b[0m\u001b[0;34m\u001b[0m\u001b[0;34m\u001b[0m\u001b[0m\n",
      "\u001b[0;32m/opt/anaconda3/lib/python3.7/site-packages/imblearn/base.py\u001b[0m in \u001b[0;36mfit_sample\u001b[0;34m(self, X, y)\u001b[0m\n\u001b[1;32m     86\u001b[0m         \"\"\"\n\u001b[1;32m     87\u001b[0m \u001b[0;34m\u001b[0m\u001b[0m\n\u001b[0;32m---> 88\u001b[0;31m         \u001b[0;32mreturn\u001b[0m \u001b[0mself\u001b[0m\u001b[0;34m.\u001b[0m\u001b[0mfit\u001b[0m\u001b[0;34m(\u001b[0m\u001b[0mX\u001b[0m\u001b[0;34m,\u001b[0m \u001b[0my\u001b[0m\u001b[0;34m)\u001b[0m\u001b[0;34m.\u001b[0m\u001b[0msample\u001b[0m\u001b[0;34m(\u001b[0m\u001b[0mX\u001b[0m\u001b[0;34m,\u001b[0m \u001b[0my\u001b[0m\u001b[0;34m)\u001b[0m\u001b[0;34m\u001b[0m\u001b[0;34m\u001b[0m\u001b[0m\n\u001b[0m\u001b[1;32m     89\u001b[0m \u001b[0;34m\u001b[0m\u001b[0m\n\u001b[1;32m     90\u001b[0m     \u001b[0;34m@\u001b[0m\u001b[0mabstractmethod\u001b[0m\u001b[0;34m\u001b[0m\u001b[0;34m\u001b[0m\u001b[0m\n",
      "\u001b[0;32m/opt/anaconda3/lib/python3.7/site-packages/imblearn/base.py\u001b[0m in \u001b[0;36mfit\u001b[0;34m(self, X, y)\u001b[0m\n\u001b[1;32m    155\u001b[0m \u001b[0;34m\u001b[0m\u001b[0m\n\u001b[1;32m    156\u001b[0m         \"\"\"\n\u001b[0;32m--> 157\u001b[0;31m         \u001b[0mX\u001b[0m\u001b[0;34m,\u001b[0m \u001b[0my\u001b[0m \u001b[0;34m=\u001b[0m \u001b[0mcheck_X_y\u001b[0m\u001b[0;34m(\u001b[0m\u001b[0mX\u001b[0m\u001b[0;34m,\u001b[0m \u001b[0my\u001b[0m\u001b[0;34m,\u001b[0m \u001b[0maccept_sparse\u001b[0m\u001b[0;34m=\u001b[0m\u001b[0;34m[\u001b[0m\u001b[0;34m'csr'\u001b[0m\u001b[0;34m,\u001b[0m \u001b[0;34m'csc'\u001b[0m\u001b[0;34m]\u001b[0m\u001b[0;34m)\u001b[0m\u001b[0;34m\u001b[0m\u001b[0;34m\u001b[0m\u001b[0m\n\u001b[0m\u001b[1;32m    158\u001b[0m         \u001b[0my\u001b[0m \u001b[0;34m=\u001b[0m \u001b[0mcheck_target_type\u001b[0m\u001b[0;34m(\u001b[0m\u001b[0my\u001b[0m\u001b[0;34m)\u001b[0m\u001b[0;34m\u001b[0m\u001b[0;34m\u001b[0m\u001b[0m\n\u001b[1;32m    159\u001b[0m         \u001b[0mself\u001b[0m\u001b[0;34m.\u001b[0m\u001b[0mX_hash_\u001b[0m\u001b[0;34m,\u001b[0m \u001b[0mself\u001b[0m\u001b[0;34m.\u001b[0m\u001b[0my_hash_\u001b[0m \u001b[0;34m=\u001b[0m \u001b[0mhash_X_y\u001b[0m\u001b[0;34m(\u001b[0m\u001b[0mX\u001b[0m\u001b[0;34m,\u001b[0m \u001b[0my\u001b[0m\u001b[0;34m)\u001b[0m\u001b[0;34m\u001b[0m\u001b[0;34m\u001b[0m\u001b[0m\n",
      "\u001b[0;32m/opt/anaconda3/lib/python3.7/site-packages/sklearn/utils/validation.py\u001b[0m in \u001b[0;36mcheck_X_y\u001b[0;34m(X, y, accept_sparse, accept_large_sparse, dtype, order, copy, force_all_finite, ensure_2d, allow_nd, multi_output, ensure_min_samples, ensure_min_features, y_numeric, warn_on_dtype, estimator)\u001b[0m\n\u001b[1;32m    753\u001b[0m                     \u001b[0mensure_min_features\u001b[0m\u001b[0;34m=\u001b[0m\u001b[0mensure_min_features\u001b[0m\u001b[0;34m,\u001b[0m\u001b[0;34m\u001b[0m\u001b[0;34m\u001b[0m\u001b[0m\n\u001b[1;32m    754\u001b[0m                     \u001b[0mwarn_on_dtype\u001b[0m\u001b[0;34m=\u001b[0m\u001b[0mwarn_on_dtype\u001b[0m\u001b[0;34m,\u001b[0m\u001b[0;34m\u001b[0m\u001b[0;34m\u001b[0m\u001b[0m\n\u001b[0;32m--> 755\u001b[0;31m                     estimator=estimator)\n\u001b[0m\u001b[1;32m    756\u001b[0m     \u001b[0;32mif\u001b[0m \u001b[0mmulti_output\u001b[0m\u001b[0;34m:\u001b[0m\u001b[0;34m\u001b[0m\u001b[0;34m\u001b[0m\u001b[0m\n\u001b[1;32m    757\u001b[0m         y = check_array(y, 'csr', force_all_finite=True, ensure_2d=False,\n",
      "\u001b[0;32m/opt/anaconda3/lib/python3.7/site-packages/sklearn/utils/validation.py\u001b[0m in \u001b[0;36mcheck_array\u001b[0;34m(array, accept_sparse, accept_large_sparse, dtype, order, copy, force_all_finite, ensure_2d, allow_nd, ensure_min_samples, ensure_min_features, warn_on_dtype, estimator)\u001b[0m\n\u001b[1;32m    569\u001b[0m         \u001b[0;31m# make sure we actually converted to numeric:\u001b[0m\u001b[0;34m\u001b[0m\u001b[0;34m\u001b[0m\u001b[0;34m\u001b[0m\u001b[0m\n\u001b[1;32m    570\u001b[0m         \u001b[0;32mif\u001b[0m \u001b[0mdtype_numeric\u001b[0m \u001b[0;32mand\u001b[0m \u001b[0marray\u001b[0m\u001b[0;34m.\u001b[0m\u001b[0mdtype\u001b[0m\u001b[0;34m.\u001b[0m\u001b[0mkind\u001b[0m \u001b[0;34m==\u001b[0m \u001b[0;34m\"O\"\u001b[0m\u001b[0;34m:\u001b[0m\u001b[0;34m\u001b[0m\u001b[0;34m\u001b[0m\u001b[0m\n\u001b[0;32m--> 571\u001b[0;31m             \u001b[0marray\u001b[0m \u001b[0;34m=\u001b[0m \u001b[0marray\u001b[0m\u001b[0;34m.\u001b[0m\u001b[0mastype\u001b[0m\u001b[0;34m(\u001b[0m\u001b[0mnp\u001b[0m\u001b[0;34m.\u001b[0m\u001b[0mfloat64\u001b[0m\u001b[0;34m)\u001b[0m\u001b[0;34m\u001b[0m\u001b[0;34m\u001b[0m\u001b[0m\n\u001b[0m\u001b[1;32m    572\u001b[0m         \u001b[0;32mif\u001b[0m \u001b[0;32mnot\u001b[0m \u001b[0mallow_nd\u001b[0m \u001b[0;32mand\u001b[0m \u001b[0marray\u001b[0m\u001b[0;34m.\u001b[0m\u001b[0mndim\u001b[0m \u001b[0;34m>=\u001b[0m \u001b[0;36m3\u001b[0m\u001b[0;34m:\u001b[0m\u001b[0;34m\u001b[0m\u001b[0;34m\u001b[0m\u001b[0m\n\u001b[1;32m    573\u001b[0m             raise ValueError(\"Found array with dim %d. %s expected <= 2.\"\n",
      "\u001b[0;31mValueError\u001b[0m: could not convert string to float: 'B'"
     ]
    }
   ],
   "source": [
    "print(\"Before OverSampling, counts of label '1': {}\".format(sum(y_train==1)))\n",
    "print(\"Before OverSampling, counts of label '0': {} \\n\".format(sum(y_train==0)))\n",
    "\n",
    "sm = SMOTE(random_state=2)\n",
    "X_train_res, y_train_res = sm.fit_sample(x_train, y_train.ravel())\n",
    "\n",
    "print('After OverSampling, the shape of train_X: {}'.format(X_train_res.shape))\n",
    "print('After OverSampling, the shape of train_y: {} \\n'.format(y_train_res.shape))\n",
    "\n",
    "print(\"After OverSampling, counts of label '1': {}\".format(sum(y_train_res==1)))\n",
    "print(\"After OverSampling, counts of label '0': {}\".format(sum(y_train_res==0)))"
   ]
  },
  {
   "cell_type": "code",
   "execution_count": null,
   "metadata": {},
   "outputs": [],
   "source": [
    "print(x_train.shape)\n",
    "print(X_train_res.shape)\n",
    "print(x_test.shape)"
   ]
  },
  {
   "cell_type": "code",
   "execution_count": null,
   "metadata": {},
   "outputs": [],
   "source": []
  },
  {
   "cell_type": "code",
   "execution_count": null,
   "metadata": {},
   "outputs": [],
   "source": []
  },
  {
   "cell_type": "code",
   "execution_count": null,
   "metadata": {},
   "outputs": [],
   "source": [
    "#DecisionTree = Pipeline(steps=[('preprocessor', preprocessor), ('classifier', DecisionTreeClassifier())])\n",
    "DecisionTree = DecisionTreeClassifier()"
   ]
  },
  {
   "cell_type": "code",
   "execution_count": null,
   "metadata": {},
   "outputs": [],
   "source": [
    "DecisionTree.fit(X_train_res,y_train_res)"
   ]
  },
  {
   "cell_type": "code",
   "execution_count": null,
   "metadata": {},
   "outputs": [],
   "source": [
    "DT_train_pred = DecisionTree.predict(X_train_res)\n",
    "DT_test_pred = DecisionTree.predict(x_test)"
   ]
  },
  {
   "cell_type": "code",
   "execution_count": null,
   "metadata": {},
   "outputs": [],
   "source": [
    "print(precision_score(y_train_res, DT_train_pred, average='macro'))\n",
    "print(precision_score(y_test, DT_test_pred, average='macro'))"
   ]
  },
  {
   "cell_type": "code",
   "execution_count": null,
   "metadata": {
    "scrolled": true
   },
   "outputs": [],
   "source": [
    "DecisionTree.feature_importances_"
   ]
  },
  {
   "cell_type": "code",
   "execution_count": null,
   "metadata": {},
   "outputs": [],
   "source": [
    "importances = DecisionTree.feature_importances_\n",
    "indices = np.argsort(importances)\n",
    "print(indices)"
   ]
  },
  {
   "cell_type": "code",
   "execution_count": null,
   "metadata": {},
   "outputs": [],
   "source": [
    "features = x_train.columns\n",
    "\n",
    "plt.title('Feature Importances')\n",
    "plt.barh(range(len(indices)),importances[indices], color='orange')\n",
    "plt.yticks(range(len(indices)), [features[i] for i in indices])\n",
    "plt.xlabel('Relative Importance')\n",
    "plt.show()"
   ]
  },
  {
   "cell_type": "code",
   "execution_count": null,
   "metadata": {},
   "outputs": [],
   "source": []
  },
  {
   "cell_type": "markdown",
   "metadata": {},
   "source": [
    "### Logistc Regression"
   ]
  },
  {
   "cell_type": "code",
   "execution_count": null,
   "metadata": {},
   "outputs": [],
   "source": [
    "#Log_Reg = Pipeline(steps=[('preprocessor', preprocessor), ('classifier', LogisticRegression())])\n",
    "lr = LogisticRegression()"
   ]
  },
  {
   "cell_type": "code",
   "execution_count": null,
   "metadata": {},
   "outputs": [],
   "source": [
    "lr.fit(X_train_res,y_train_res)"
   ]
  },
  {
   "cell_type": "code",
   "execution_count": null,
   "metadata": {},
   "outputs": [],
   "source": [
    "Log_train_pred = lr.predict(X_train_res)\n",
    "Log_test_pred = lr.predict(x_test)"
   ]
  },
  {
   "cell_type": "code",
   "execution_count": null,
   "metadata": {},
   "outputs": [],
   "source": [
    "print(precision_score(y_train_res, Log_train_pred, average='macro'))\n",
    "print(precision_score(y_test, Log_test_pred, average='macro'))"
   ]
  },
  {
   "cell_type": "code",
   "execution_count": null,
   "metadata": {},
   "outputs": [],
   "source": []
  },
  {
   "cell_type": "code",
   "execution_count": null,
   "metadata": {},
   "outputs": [],
   "source": [
    "test_data_pred = Log_Reg.predict(test_data)"
   ]
  },
  {
   "cell_type": "code",
   "execution_count": null,
   "metadata": {},
   "outputs": [],
   "source": [
    "df  = pd.read_csv(\"test.csv\")"
   ]
  },
  {
   "cell_type": "code",
   "execution_count": null,
   "metadata": {},
   "outputs": [],
   "source": [
    "DF = pd.DataFrame(list(zip(df['customer_id'],test_data_pred)),columns=['customer_id','customer_category'])\n",
    "DF.to_csv(\"Log.csv\",index=False)\n",
    "DF.shape"
   ]
  },
  {
   "cell_type": "code",
   "execution_count": null,
   "metadata": {},
   "outputs": [],
   "source": []
  }
 ],
 "metadata": {
  "kernelspec": {
   "display_name": "Python 3",
   "language": "python",
   "name": "python3"
  },
  "language_info": {
   "codemirror_mode": {
    "name": "ipython",
    "version": 3
   },
   "file_extension": ".py",
   "mimetype": "text/x-python",
   "name": "python",
   "nbconvert_exporter": "python",
   "pygments_lexer": "ipython3",
   "version": "3.7.6"
  }
 },
 "nbformat": 4,
 "nbformat_minor": 4
}
