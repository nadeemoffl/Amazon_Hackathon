{
 "cells": [
  {
   "cell_type": "markdown",
   "metadata": {},
   "source": [
    "### Coding – Q1\n",
    "You are building a file sharing system intended to be used by ordinary people (e.g. your grandmother or other people with no computer skills whatsoever). \n",
    "\n",
    "One option in this system is to browse by filename. If people choose \"sort by filename\", then files should be sorted in the manner that helps them find the file they are looking for as quickly as possible. \n",
    "\n",
    "Here is an example list of files:\n",
    "[ 'mallika_1.jpg', 'dog005.jpg', 'grandson_2018_01_01.png', 'dog008.jpg', 'mallika_6.jpg', 'grandson_2018_5_23.png', 'dog01.png', 'mallika_11.jpg', 'mallika2.jpg', 'grandson_2018_02_5.png', 'grandson_2019_08_23.jpg', 'dog9.jpg', 'mallika05.jpg' ]\n",
    "\n",
    "Write a function that will sort this list of file names in the manner that the non-technical human user expects. \n",
    "Include with your answer both your code and also the result of running your code on the list of files above.\n",
    "\n",
    "Requirements: You must use the standard Python library only. \n",
    "\n",
    "\n",
    "Hint – Expected answer definitely involves more than a 1 line of code."
   ]
  },
  {
   "cell_type": "code",
   "execution_count": 1,
   "metadata": {},
   "outputs": [],
   "source": [
    "import pandas as pd\n",
    "import numpy as np"
   ]
  },
  {
   "cell_type": "code",
   "execution_count": 2,
   "metadata": {},
   "outputs": [],
   "source": [
    "data = [ 'mallika_1.jpg', 'dog005.jpg', 'grandson_2018_01_01.png', 'dog008.jpg', 'mallika_6.jpg', 'grandson_2018_5_23.png', 'dog01.png', 'mallika_11.jpg', 'mallika2.jpg', 'grandson_2018_02_5.png', 'grandson_2019_08_23.jpg', 'dog9.jpg', 'mallika05.jpg' ]"
   ]
  },
  {
   "cell_type": "code",
   "execution_count": 3,
   "metadata": {},
   "outputs": [
    {
     "data": {
      "text/plain": [
       "['mallika_1.jpg',\n",
       " 'dog005.jpg',\n",
       " 'grandson_2018_01_01.png',\n",
       " 'dog008.jpg',\n",
       " 'mallika_6.jpg',\n",
       " 'grandson_2018_5_23.png',\n",
       " 'dog01.png',\n",
       " 'mallika_11.jpg',\n",
       " 'mallika2.jpg',\n",
       " 'grandson_2018_02_5.png',\n",
       " 'grandson_2019_08_23.jpg',\n",
       " 'dog9.jpg',\n",
       " 'mallika05.jpg']"
      ]
     },
     "execution_count": 3,
     "metadata": {},
     "output_type": "execute_result"
    }
   ],
   "source": [
    "data"
   ]
  },
  {
   "cell_type": "code",
   "execution_count": 5,
   "metadata": {},
   "outputs": [
    {
     "name": "stdout",
     "output_type": "stream",
     "text": [
      "['amy', 'rohan', 'sapna', 'aakash', 'raunak', 'chinmoy', 'muhammad']\n"
     ]
    }
   ],
   "source": [
    "# Python code to sort a list by creating  \n",
    "# another list Use of sorted() \n",
    "def Sorting(lst): \n",
    "    lst2 = sorted(lst, key=len) \n",
    "    return lst2 \n",
    "      \n",
    "# Driver code \n",
    "lst = [\"rohan\", \"amy\", \"sapna\", \"muhammad\",  \n",
    "       \"aakash\", \"raunak\", \"chinmoy\"] \n",
    "print(Sorting(lst)) "
   ]
  },
  {
   "cell_type": "code",
   "execution_count": 6,
   "metadata": {},
   "outputs": [
    {
     "name": "stdout",
     "output_type": "stream",
     "text": [
      "['dog9.jpg', 'dog01.png', 'dog005.jpg', 'dog008.jpg', 'mallika2.jpg', 'mallika_1.jpg', 'mallika_6.jpg', 'mallika05.jpg', 'mallika_11.jpg', 'grandson_2018_5_23.png', 'grandson_2018_02_5.png', 'grandson_2018_01_01.png', 'grandson_2019_08_23.jpg']\n"
     ]
    }
   ],
   "source": [
    "print(Sorting(data))"
   ]
  },
  {
   "cell_type": "code",
   "execution_count": 7,
   "metadata": {},
   "outputs": [
    {
     "name": "stdout",
     "output_type": "stream",
     "text": [
      "['amy', 'rohan', 'sapna', 'aakash', 'raunak', 'chinmoy', 'muhammad']\n"
     ]
    }
   ],
   "source": [
    "# Python code to sort a list without  \n",
    "# creating another list Use of sort() \n",
    "def Sorting(lst): \n",
    "    lst.sort(key=len) \n",
    "    return lst \n",
    "      \n",
    "# Driver code \n",
    "lst = [\"rohan\", \"amy\", \"sapna\", \"muhammad\",  \n",
    "       \"aakash\", \"raunak\", \"chinmoy\"] \n",
    "print(Sorting(lst)) "
   ]
  },
  {
   "cell_type": "code",
   "execution_count": 8,
   "metadata": {},
   "outputs": [
    {
     "name": "stdout",
     "output_type": "stream",
     "text": [
      "['dog9.jpg', 'dog01.png', 'dog005.jpg', 'dog008.jpg', 'mallika2.jpg', 'mallika_1.jpg', 'mallika_6.jpg', 'mallika05.jpg', 'mallika_11.jpg', 'grandson_2018_5_23.png', 'grandson_2018_02_5.png', 'grandson_2018_01_01.png', 'grandson_2019_08_23.jpg']\n"
     ]
    }
   ],
   "source": [
    "print(Sorting(data))"
   ]
  },
  {
   "cell_type": "code",
   "execution_count": 11,
   "metadata": {},
   "outputs": [
    {
     "name": "stdout",
     "output_type": "stream",
     "text": [
      "['amy', 'rohan', 'sapna', 'aakash', 'raunak', 'chinmoy', 'muhammad']\n"
     ]
    }
   ],
   "source": [
    "import numpy \n",
    "\n",
    "def Sorting(lst): \n",
    "\n",
    "    # list for storing the length of each string in list \n",
    "    lenlist=[] \n",
    "    for x in lst: \n",
    "        lenlist.append(len(x))\n",
    "\n",
    "    # return a list with the index of the sorted \n",
    "    # items in the list \n",
    "    sortedindex = numpy.argsort(lenlist) \n",
    "\n",
    "    # creating a dummy list where we will place the \n",
    "    # word according to the sortedindex list \n",
    "    lst2 = ['dummy']*len(lst) \n",
    "\n",
    "    # print(sortedindex,lenlist) \n",
    "    for i in range(len(lst)):\t \n",
    "\n",
    "        # placing element in the lst2 list by taking the \n",
    "        # value from original list lst where it should belong \n",
    "        # in the sorted list by taking its index from sortedindex \n",
    "        lst2[i] = lst[sortedindex[i]]\t \n",
    "\n",
    "    return lst2 \n",
    "\n",
    "# Driver code \n",
    "lst = [\"rohan\", \"amy\", \"sapna\", \"muhammad\", \n",
    "    \"aakash\", \"raunak\", \"chinmoy\"] \n",
    "print(Sorting(lst)) \n"
   ]
  },
  {
   "cell_type": "code",
   "execution_count": 12,
   "metadata": {},
   "outputs": [
    {
     "name": "stdout",
     "output_type": "stream",
     "text": [
      "['dog9.jpg', 'dog01.png', 'dog005.jpg', 'dog008.jpg', 'mallika2.jpg', 'mallika_1.jpg', 'mallika_6.jpg', 'mallika05.jpg', 'mallika_11.jpg', 'grandson_2018_5_23.png', 'grandson_2018_02_5.png', 'grandson_2018_01_01.png', 'grandson_2019_08_23.jpg']\n"
     ]
    }
   ],
   "source": [
    "print(Sorting(data)) "
   ]
  },
  {
   "cell_type": "code",
   "execution_count": 13,
   "metadata": {},
   "outputs": [
    {
     "name": "stdout",
     "output_type": "stream",
     "text": [
      "The original list is : [('a', 1), ('b', 2), ('c', 3), ('d', 4)]\n",
      "The sort order list is : ['d', 'c', 'a', 'b']\n",
      "The sorted list is : [('d', 4), ('c', 3), ('a', 1), ('b', 2)]\n"
     ]
    }
   ],
   "source": [
    "# Python3 code to demonstrate  \n",
    "# to sort according to other list  \n",
    "# using list comprehension \n",
    "  \n",
    "# initializing list of tuples \n",
    "test_list = [ ('a', 1), ('b', 2), ('c', 3), ('d', 4)] \n",
    "  \n",
    "# initializing sort order  \n",
    "sort_order = ['d', 'c', 'a', 'b'] \n",
    "  \n",
    "# printing original list \n",
    "print (\"The original list is : \" + str(test_list)) \n",
    "  \n",
    "# printing sort order list \n",
    "print (\"The sort order list is : \" + str(sort_order)) \n",
    "  \n",
    "# using list comprehension \n",
    "# to sort according to other list  \n",
    "res = [tuple for x in sort_order for tuple in test_list if tuple[0] == x] \n",
    "  \n",
    "# printing result \n",
    "print (\"The sorted list is : \" + str(res)) "
   ]
  },
  {
   "cell_type": "code",
   "execution_count": 14,
   "metadata": {},
   "outputs": [
    {
     "name": "stdout",
     "output_type": "stream",
     "text": [
      "['something1', 'something2', 'something12', 'something17', 'something25', 'something29']\n"
     ]
    }
   ],
   "source": [
    "import re\n",
    "\n",
    "def atoi(text):\n",
    "    return int(text) if text.isdigit() else text\n",
    "\n",
    "def natural_keys(text):\n",
    "    '''\n",
    "    alist.sort(key=natural_keys) sorts in human order\n",
    "    http://nedbatchelder.com/blog/200712/human_sorting.html\n",
    "    (See Toothy's implementation in the comments)\n",
    "    '''\n",
    "    return [ atoi(c) for c in re.split(r'(\\d+)', text) ]\n",
    "\n",
    "alist=[\n",
    "    \"something1\",\n",
    "    \"something12\",\n",
    "    \"something17\",\n",
    "    \"something2\",\n",
    "    \"something25\",\n",
    "    \"something29\"]\n",
    "\n",
    "alist.sort(key=natural_keys)\n",
    "print(alist)"
   ]
  },
  {
   "cell_type": "code",
   "execution_count": 15,
   "metadata": {},
   "outputs": [
    {
     "name": "stdout",
     "output_type": "stream",
     "text": [
      "['something1', 'something1.0', 'something1.105', 'something1.25', 'something2']\n"
     ]
    }
   ],
   "source": [
    "import re\n",
    "\n",
    "def atof(text):\n",
    "    try:\n",
    "        retval = float(text)\n",
    "    except ValueError:\n",
    "        retval = text\n",
    "    return retval\n",
    "\n",
    "def natural_keys(text):\n",
    "    '''\n",
    "    alist.sort(key=natural_keys) sorts in human order\n",
    "    http://nedbatchelder.com/blog/200712/human_sorting.html\n",
    "    (See Toothy's implementation in the comments)\n",
    "    float regex comes from https://stackoverflow.com/a/12643073/190597\n",
    "    '''\n",
    "    return [ atof(c) for c in re.split(r'[+-]?([0-9]+(?:[.][0-9]*)?|[.][0-9]+)', text) ]\n",
    "\n",
    "alist=[\n",
    "    \"something1\",\n",
    "    \"something2\",\n",
    "    \"something1.0\",\n",
    "    \"something1.25\",\n",
    "    \"something1.105\"]\n",
    "\n",
    "alist.sort(key=natural_keys)\n",
    "print(alist)"
   ]
  },
  {
   "cell_type": "code",
   "execution_count": 16,
   "metadata": {},
   "outputs": [
    {
     "name": "stdout",
     "output_type": "stream",
     "text": [
      "['dog01.png', 'dog005.jpg', 'dog008.jpg', 'dog9.jpg', 'grandson_2018_01_01.png', 'grandson_2018_02_5.png', 'grandson_2018_5_23.png', 'grandson_2019_08_23.jpg', 'mallika2.jpg', 'mallika05.jpg', 'mallika_1.jpg', 'mallika_6.jpg', 'mallika_11.jpg']\n"
     ]
    }
   ],
   "source": [
    "data.sort(key=natural_keys)\n",
    "print(data)"
   ]
  },
  {
   "cell_type": "code",
   "execution_count": 20,
   "metadata": {},
   "outputs": [],
   "source": [
    "from datetime import datetime\n",
    "def get_time(data):\n",
    "    match = re.search(r\"</a>\\s*(.+?)\\s*<br><br>\", data)\n",
    "    if match:\n",
    "        return datetime.strptime(match.group(1), \"%I:%M %p - %d %b %Y\")\n",
    "    return datetime.min\n",
    "\n",
    "data.sort(key=get_time)"
   ]
  },
  {
   "cell_type": "code",
   "execution_count": 21,
   "metadata": {},
   "outputs": [
    {
     "name": "stdout",
     "output_type": "stream",
     "text": [
      "['dog01.png', 'dog005.jpg', 'dog008.jpg', 'dog9.jpg', 'grandson_2018_01_01.png', 'grandson_2018_02_5.png', 'grandson_2018_5_23.png', 'grandson_2019_08_23.jpg', 'mallika2.jpg', 'mallika05.jpg', 'mallika_1.jpg', 'mallika_6.jpg', 'mallika_11.jpg']\n"
     ]
    }
   ],
   "source": [
    "print(data)"
   ]
  },
  {
   "cell_type": "code",
   "execution_count": null,
   "metadata": {},
   "outputs": [],
   "source": []
  }
 ],
 "metadata": {
  "kernelspec": {
   "display_name": "Python 3",
   "language": "python",
   "name": "python3"
  },
  "language_info": {
   "codemirror_mode": {
    "name": "ipython",
    "version": 3
   },
   "file_extension": ".py",
   "mimetype": "text/x-python",
   "name": "python",
   "nbconvert_exporter": "python",
   "pygments_lexer": "ipython3",
   "version": "3.7.6"
  }
 },
 "nbformat": 4,
 "nbformat_minor": 4
}
